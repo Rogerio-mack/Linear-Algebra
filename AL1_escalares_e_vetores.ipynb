{
  "nbformat": 4,
  "nbformat_minor": 0,
  "metadata": {
    "kernelspec": {
      "display_name": "Python 3",
      "language": "python",
      "name": "python3"
    },
    "language_info": {
      "codemirror_mode": {
        "name": "ipython",
        "version": 3
      },
      "file_extension": ".py",
      "mimetype": "text/x-python",
      "name": "python",
      "nbconvert_exporter": "python",
      "pygments_lexer": "ipython3",
      "version": "3.7.4"
    },
    "colab": {
      "name": "AL1_escalares e vetores.ipynb",
      "provenance": [],
      "collapsed_sections": [],
      "include_colab_link": true
    },
    "widgets": {
      "application/vnd.jupyter.widget-state+json": {
        "5ae87130a5a74fe9a01a4d2cdb59c80e": {
          "model_module": "@jupyter-widgets/controls",
          "model_name": "VBoxModel",
          "model_module_version": "1.5.0",
          "state": {
            "_dom_classes": [
              "widget-interact"
            ],
            "_model_module": "@jupyter-widgets/controls",
            "_model_module_version": "1.5.0",
            "_model_name": "VBoxModel",
            "_view_count": null,
            "_view_module": "@jupyter-widgets/controls",
            "_view_module_version": "1.5.0",
            "_view_name": "VBoxView",
            "box_style": "",
            "children": [
              "IPY_MODEL_6fb820134573430a8021508dfe7a25de",
              "IPY_MODEL_a74463fed7a54748a162e9d50b53bf52",
              "IPY_MODEL_af52d9fe8bab47c2874c28f4fb322b2c"
            ],
            "layout": "IPY_MODEL_43fd1d6d06ec4d1cb0fffdee79b1fe44"
          }
        },
        "6fb820134573430a8021508dfe7a25de": {
          "model_module": "@jupyter-widgets/controls",
          "model_name": "DropdownModel",
          "model_module_version": "1.5.0",
          "state": {
            "_dom_classes": [],
            "_model_module": "@jupyter-widgets/controls",
            "_model_module_version": "1.5.0",
            "_model_name": "DropdownModel",
            "_options_labels": [
              "Temperatura"
            ],
            "_view_count": null,
            "_view_module": "@jupyter-widgets/controls",
            "_view_module_version": "1.5.0",
            "_view_name": "DropdownView",
            "description": "grandeza",
            "description_tooltip": null,
            "disabled": false,
            "index": 0,
            "layout": "IPY_MODEL_115644afa08c4ea1b55acde8b7cc951f",
            "style": "IPY_MODEL_987b06bd06434d3da246f3c0aad59b1b"
          }
        },
        "a74463fed7a54748a162e9d50b53bf52": {
          "model_module": "@jupyter-widgets/controls",
          "model_name": "FloatSliderModel",
          "model_module_version": "1.5.0",
          "state": {
            "_dom_classes": [],
            "_model_module": "@jupyter-widgets/controls",
            "_model_module_version": "1.5.0",
            "_model_name": "FloatSliderModel",
            "_view_count": null,
            "_view_module": "@jupyter-widgets/controls",
            "_view_module_version": "1.5.0",
            "_view_name": "FloatSliderView",
            "continuous_update": true,
            "description": "valor",
            "description_tooltip": null,
            "disabled": false,
            "layout": "IPY_MODEL_6d5d743834c44db9816ee988163caf81",
            "max": 35,
            "min": -5,
            "orientation": "horizontal",
            "readout": true,
            "readout_format": ".2f",
            "step": 0.01,
            "style": "IPY_MODEL_265ffda4c718496aa017e65537a7883c",
            "value": 15
          }
        },
        "af52d9fe8bab47c2874c28f4fb322b2c": {
          "model_module": "@jupyter-widgets/output",
          "model_name": "OutputModel",
          "model_module_version": "1.0.0",
          "state": {
            "_dom_classes": [],
            "_model_module": "@jupyter-widgets/output",
            "_model_module_version": "1.0.0",
            "_model_name": "OutputModel",
            "_view_count": null,
            "_view_module": "@jupyter-widgets/output",
            "_view_module_version": "1.0.0",
            "_view_name": "OutputView",
            "layout": "IPY_MODEL_b6c046c5f41045daaa66af0ea4b65904",
            "msg_id": "",
            "outputs": [
              {
                "output_type": "display_data",
                "data": {
                  "text/plain": "<Figure size 216x360 with 1 Axes>",
                  "image/png": "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\n"
                },
                "metadata": {
                  "image/png": {
                    "width": 208,
                    "height": 352
                  },
                  "needs_background": "light"
                }
              },
              {
                "output_type": "stream",
                "name": "stdout",
                "text": [
                  "15.0\n"
                ]
              }
            ]
          }
        },
        "43fd1d6d06ec4d1cb0fffdee79b1fe44": {
          "model_module": "@jupyter-widgets/base",
          "model_name": "LayoutModel",
          "model_module_version": "1.2.0",
          "state": {
            "_model_module": "@jupyter-widgets/base",
            "_model_module_version": "1.2.0",
            "_model_name": "LayoutModel",
            "_view_count": null,
            "_view_module": "@jupyter-widgets/base",
            "_view_module_version": "1.2.0",
            "_view_name": "LayoutView",
            "align_content": null,
            "align_items": null,
            "align_self": null,
            "border": null,
            "bottom": null,
            "display": null,
            "flex": null,
            "flex_flow": null,
            "grid_area": null,
            "grid_auto_columns": null,
            "grid_auto_flow": null,
            "grid_auto_rows": null,
            "grid_column": null,
            "grid_gap": null,
            "grid_row": null,
            "grid_template_areas": null,
            "grid_template_columns": null,
            "grid_template_rows": null,
            "height": null,
            "justify_content": null,
            "justify_items": null,
            "left": null,
            "margin": null,
            "max_height": null,
            "max_width": null,
            "min_height": null,
            "min_width": null,
            "object_fit": null,
            "object_position": null,
            "order": null,
            "overflow": null,
            "overflow_x": null,
            "overflow_y": null,
            "padding": null,
            "right": null,
            "top": null,
            "visibility": null,
            "width": null
          }
        },
        "115644afa08c4ea1b55acde8b7cc951f": {
          "model_module": "@jupyter-widgets/base",
          "model_name": "LayoutModel",
          "model_module_version": "1.2.0",
          "state": {
            "_model_module": "@jupyter-widgets/base",
            "_model_module_version": "1.2.0",
            "_model_name": "LayoutModel",
            "_view_count": null,
            "_view_module": "@jupyter-widgets/base",
            "_view_module_version": "1.2.0",
            "_view_name": "LayoutView",
            "align_content": null,
            "align_items": null,
            "align_self": null,
            "border": null,
            "bottom": null,
            "display": null,
            "flex": null,
            "flex_flow": null,
            "grid_area": null,
            "grid_auto_columns": null,
            "grid_auto_flow": null,
            "grid_auto_rows": null,
            "grid_column": null,
            "grid_gap": null,
            "grid_row": null,
            "grid_template_areas": null,
            "grid_template_columns": null,
            "grid_template_rows": null,
            "height": null,
            "justify_content": null,
            "justify_items": null,
            "left": null,
            "margin": null,
            "max_height": null,
            "max_width": null,
            "min_height": null,
            "min_width": null,
            "object_fit": null,
            "object_position": null,
            "order": null,
            "overflow": null,
            "overflow_x": null,
            "overflow_y": null,
            "padding": null,
            "right": null,
            "top": null,
            "visibility": null,
            "width": null
          }
        },
        "987b06bd06434d3da246f3c0aad59b1b": {
          "model_module": "@jupyter-widgets/controls",
          "model_name": "DescriptionStyleModel",
          "model_module_version": "1.5.0",
          "state": {
            "_model_module": "@jupyter-widgets/controls",
            "_model_module_version": "1.5.0",
            "_model_name": "DescriptionStyleModel",
            "_view_count": null,
            "_view_module": "@jupyter-widgets/base",
            "_view_module_version": "1.2.0",
            "_view_name": "StyleView",
            "description_width": ""
          }
        },
        "6d5d743834c44db9816ee988163caf81": {
          "model_module": "@jupyter-widgets/base",
          "model_name": "LayoutModel",
          "model_module_version": "1.2.0",
          "state": {
            "_model_module": "@jupyter-widgets/base",
            "_model_module_version": "1.2.0",
            "_model_name": "LayoutModel",
            "_view_count": null,
            "_view_module": "@jupyter-widgets/base",
            "_view_module_version": "1.2.0",
            "_view_name": "LayoutView",
            "align_content": null,
            "align_items": null,
            "align_self": null,
            "border": null,
            "bottom": null,
            "display": null,
            "flex": null,
            "flex_flow": null,
            "grid_area": null,
            "grid_auto_columns": null,
            "grid_auto_flow": null,
            "grid_auto_rows": null,
            "grid_column": null,
            "grid_gap": null,
            "grid_row": null,
            "grid_template_areas": null,
            "grid_template_columns": null,
            "grid_template_rows": null,
            "height": null,
            "justify_content": null,
            "justify_items": null,
            "left": null,
            "margin": null,
            "max_height": null,
            "max_width": null,
            "min_height": null,
            "min_width": null,
            "object_fit": null,
            "object_position": null,
            "order": null,
            "overflow": null,
            "overflow_x": null,
            "overflow_y": null,
            "padding": null,
            "right": null,
            "top": null,
            "visibility": null,
            "width": null
          }
        },
        "265ffda4c718496aa017e65537a7883c": {
          "model_module": "@jupyter-widgets/controls",
          "model_name": "SliderStyleModel",
          "model_module_version": "1.5.0",
          "state": {
            "_model_module": "@jupyter-widgets/controls",
            "_model_module_version": "1.5.0",
            "_model_name": "SliderStyleModel",
            "_view_count": null,
            "_view_module": "@jupyter-widgets/base",
            "_view_module_version": "1.2.0",
            "_view_name": "StyleView",
            "description_width": "",
            "handle_color": null
          }
        },
        "b6c046c5f41045daaa66af0ea4b65904": {
          "model_module": "@jupyter-widgets/base",
          "model_name": "LayoutModel",
          "model_module_version": "1.2.0",
          "state": {
            "_model_module": "@jupyter-widgets/base",
            "_model_module_version": "1.2.0",
            "_model_name": "LayoutModel",
            "_view_count": null,
            "_view_module": "@jupyter-widgets/base",
            "_view_module_version": "1.2.0",
            "_view_name": "LayoutView",
            "align_content": null,
            "align_items": null,
            "align_self": null,
            "border": null,
            "bottom": null,
            "display": null,
            "flex": null,
            "flex_flow": null,
            "grid_area": null,
            "grid_auto_columns": null,
            "grid_auto_flow": null,
            "grid_auto_rows": null,
            "grid_column": null,
            "grid_gap": null,
            "grid_row": null,
            "grid_template_areas": null,
            "grid_template_columns": null,
            "grid_template_rows": null,
            "height": null,
            "justify_content": null,
            "justify_items": null,
            "left": null,
            "margin": null,
            "max_height": null,
            "max_width": null,
            "min_height": null,
            "min_width": null,
            "object_fit": null,
            "object_position": null,
            "order": null,
            "overflow": null,
            "overflow_x": null,
            "overflow_y": null,
            "padding": null,
            "right": null,
            "top": null,
            "visibility": null,
            "width": null
          }
        },
        "18268aa0b48045e5bb85c0baf3423f7b": {
          "model_module": "@jupyter-widgets/controls",
          "model_name": "VBoxModel",
          "model_module_version": "1.5.0",
          "state": {
            "_dom_classes": [
              "widget-interact"
            ],
            "_model_module": "@jupyter-widgets/controls",
            "_model_module_version": "1.5.0",
            "_model_name": "VBoxModel",
            "_view_count": null,
            "_view_module": "@jupyter-widgets/controls",
            "_view_module_version": "1.5.0",
            "_view_name": "VBoxView",
            "box_style": "",
            "children": [
              "IPY_MODEL_8b8eee9a842b490e85d6cb5a614c9bad",
              "IPY_MODEL_216efe05113141c3952ab4ba91ce384c",
              "IPY_MODEL_51e31e4d2b6b4d15853767b8d00f0e4c"
            ],
            "layout": "IPY_MODEL_a956043072124b19bcc5fdd0914afb6c"
          }
        },
        "8b8eee9a842b490e85d6cb5a614c9bad": {
          "model_module": "@jupyter-widgets/controls",
          "model_name": "DropdownModel",
          "model_module_version": "1.5.0",
          "state": {
            "_dom_classes": [],
            "_model_module": "@jupyter-widgets/controls",
            "_model_module_version": "1.5.0",
            "_model_name": "DropdownModel",
            "_options_labels": [
              "Downloads"
            ],
            "_view_count": null,
            "_view_module": "@jupyter-widgets/controls",
            "_view_module_version": "1.5.0",
            "_view_name": "DropdownView",
            "description": "grandeza",
            "description_tooltip": null,
            "disabled": false,
            "index": 0,
            "layout": "IPY_MODEL_541a09e8531a41ee935626496c0d908f",
            "style": "IPY_MODEL_5ebee1c2cb58464f8a6dcd94f3475046"
          }
        },
        "216efe05113141c3952ab4ba91ce384c": {
          "model_module": "@jupyter-widgets/controls",
          "model_name": "IntSliderModel",
          "model_module_version": "1.5.0",
          "state": {
            "_dom_classes": [],
            "_model_module": "@jupyter-widgets/controls",
            "_model_module_version": "1.5.0",
            "_model_name": "IntSliderModel",
            "_view_count": null,
            "_view_module": "@jupyter-widgets/controls",
            "_view_module_version": "1.5.0",
            "_view_name": "IntSliderView",
            "continuous_update": true,
            "description": "valor",
            "description_tooltip": null,
            "disabled": false,
            "layout": "IPY_MODEL_8686f2bc65024cccba2f66c9b0a4971b",
            "max": 1000,
            "min": 0,
            "orientation": "horizontal",
            "readout": true,
            "readout_format": "d",
            "step": 1,
            "style": "IPY_MODEL_26fd22d8e11d45038de75e9e54d2fef6",
            "value": 500
          }
        },
        "51e31e4d2b6b4d15853767b8d00f0e4c": {
          "model_module": "@jupyter-widgets/output",
          "model_name": "OutputModel",
          "model_module_version": "1.0.0",
          "state": {
            "_dom_classes": [],
            "_model_module": "@jupyter-widgets/output",
            "_model_module_version": "1.0.0",
            "_model_name": "OutputModel",
            "_view_count": null,
            "_view_module": "@jupyter-widgets/output",
            "_view_module_version": "1.0.0",
            "_view_name": "OutputView",
            "layout": "IPY_MODEL_85f8e6c9af3540a2ba702821788442f4",
            "msg_id": "",
            "outputs": [
              {
                "output_type": "display_data",
                "data": {
                  "text/plain": "<Figure size 216x360 with 1 Axes>",
                  "image/png": "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\n"
                },
                "metadata": {
                  "image/png": {
                    "width": 208,
                    "height": 352
                  },
                  "needs_background": "light"
                }
              },
              {
                "output_type": "stream",
                "name": "stdout",
                "text": [
                  "500\n"
                ]
              }
            ]
          }
        },
        "a956043072124b19bcc5fdd0914afb6c": {
          "model_module": "@jupyter-widgets/base",
          "model_name": "LayoutModel",
          "model_module_version": "1.2.0",
          "state": {
            "_model_module": "@jupyter-widgets/base",
            "_model_module_version": "1.2.0",
            "_model_name": "LayoutModel",
            "_view_count": null,
            "_view_module": "@jupyter-widgets/base",
            "_view_module_version": "1.2.0",
            "_view_name": "LayoutView",
            "align_content": null,
            "align_items": null,
            "align_self": null,
            "border": null,
            "bottom": null,
            "display": null,
            "flex": null,
            "flex_flow": null,
            "grid_area": null,
            "grid_auto_columns": null,
            "grid_auto_flow": null,
            "grid_auto_rows": null,
            "grid_column": null,
            "grid_gap": null,
            "grid_row": null,
            "grid_template_areas": null,
            "grid_template_columns": null,
            "grid_template_rows": null,
            "height": null,
            "justify_content": null,
            "justify_items": null,
            "left": null,
            "margin": null,
            "max_height": null,
            "max_width": null,
            "min_height": null,
            "min_width": null,
            "object_fit": null,
            "object_position": null,
            "order": null,
            "overflow": null,
            "overflow_x": null,
            "overflow_y": null,
            "padding": null,
            "right": null,
            "top": null,
            "visibility": null,
            "width": null
          }
        },
        "541a09e8531a41ee935626496c0d908f": {
          "model_module": "@jupyter-widgets/base",
          "model_name": "LayoutModel",
          "model_module_version": "1.2.0",
          "state": {
            "_model_module": "@jupyter-widgets/base",
            "_model_module_version": "1.2.0",
            "_model_name": "LayoutModel",
            "_view_count": null,
            "_view_module": "@jupyter-widgets/base",
            "_view_module_version": "1.2.0",
            "_view_name": "LayoutView",
            "align_content": null,
            "align_items": null,
            "align_self": null,
            "border": null,
            "bottom": null,
            "display": null,
            "flex": null,
            "flex_flow": null,
            "grid_area": null,
            "grid_auto_columns": null,
            "grid_auto_flow": null,
            "grid_auto_rows": null,
            "grid_column": null,
            "grid_gap": null,
            "grid_row": null,
            "grid_template_areas": null,
            "grid_template_columns": null,
            "grid_template_rows": null,
            "height": null,
            "justify_content": null,
            "justify_items": null,
            "left": null,
            "margin": null,
            "max_height": null,
            "max_width": null,
            "min_height": null,
            "min_width": null,
            "object_fit": null,
            "object_position": null,
            "order": null,
            "overflow": null,
            "overflow_x": null,
            "overflow_y": null,
            "padding": null,
            "right": null,
            "top": null,
            "visibility": null,
            "width": null
          }
        },
        "5ebee1c2cb58464f8a6dcd94f3475046": {
          "model_module": "@jupyter-widgets/controls",
          "model_name": "DescriptionStyleModel",
          "model_module_version": "1.5.0",
          "state": {
            "_model_module": "@jupyter-widgets/controls",
            "_model_module_version": "1.5.0",
            "_model_name": "DescriptionStyleModel",
            "_view_count": null,
            "_view_module": "@jupyter-widgets/base",
            "_view_module_version": "1.2.0",
            "_view_name": "StyleView",
            "description_width": ""
          }
        },
        "8686f2bc65024cccba2f66c9b0a4971b": {
          "model_module": "@jupyter-widgets/base",
          "model_name": "LayoutModel",
          "model_module_version": "1.2.0",
          "state": {
            "_model_module": "@jupyter-widgets/base",
            "_model_module_version": "1.2.0",
            "_model_name": "LayoutModel",
            "_view_count": null,
            "_view_module": "@jupyter-widgets/base",
            "_view_module_version": "1.2.0",
            "_view_name": "LayoutView",
            "align_content": null,
            "align_items": null,
            "align_self": null,
            "border": null,
            "bottom": null,
            "display": null,
            "flex": null,
            "flex_flow": null,
            "grid_area": null,
            "grid_auto_columns": null,
            "grid_auto_flow": null,
            "grid_auto_rows": null,
            "grid_column": null,
            "grid_gap": null,
            "grid_row": null,
            "grid_template_areas": null,
            "grid_template_columns": null,
            "grid_template_rows": null,
            "height": null,
            "justify_content": null,
            "justify_items": null,
            "left": null,
            "margin": null,
            "max_height": null,
            "max_width": null,
            "min_height": null,
            "min_width": null,
            "object_fit": null,
            "object_position": null,
            "order": null,
            "overflow": null,
            "overflow_x": null,
            "overflow_y": null,
            "padding": null,
            "right": null,
            "top": null,
            "visibility": null,
            "width": null
          }
        },
        "26fd22d8e11d45038de75e9e54d2fef6": {
          "model_module": "@jupyter-widgets/controls",
          "model_name": "SliderStyleModel",
          "model_module_version": "1.5.0",
          "state": {
            "_model_module": "@jupyter-widgets/controls",
            "_model_module_version": "1.5.0",
            "_model_name": "SliderStyleModel",
            "_view_count": null,
            "_view_module": "@jupyter-widgets/base",
            "_view_module_version": "1.2.0",
            "_view_name": "StyleView",
            "description_width": "",
            "handle_color": null
          }
        },
        "85f8e6c9af3540a2ba702821788442f4": {
          "model_module": "@jupyter-widgets/base",
          "model_name": "LayoutModel",
          "model_module_version": "1.2.0",
          "state": {
            "_model_module": "@jupyter-widgets/base",
            "_model_module_version": "1.2.0",
            "_model_name": "LayoutModel",
            "_view_count": null,
            "_view_module": "@jupyter-widgets/base",
            "_view_module_version": "1.2.0",
            "_view_name": "LayoutView",
            "align_content": null,
            "align_items": null,
            "align_self": null,
            "border": null,
            "bottom": null,
            "display": null,
            "flex": null,
            "flex_flow": null,
            "grid_area": null,
            "grid_auto_columns": null,
            "grid_auto_flow": null,
            "grid_auto_rows": null,
            "grid_column": null,
            "grid_gap": null,
            "grid_row": null,
            "grid_template_areas": null,
            "grid_template_columns": null,
            "grid_template_rows": null,
            "height": null,
            "justify_content": null,
            "justify_items": null,
            "left": null,
            "margin": null,
            "max_height": null,
            "max_width": null,
            "min_height": null,
            "min_width": null,
            "object_fit": null,
            "object_position": null,
            "order": null,
            "overflow": null,
            "overflow_x": null,
            "overflow_y": null,
            "padding": null,
            "right": null,
            "top": null,
            "visibility": null,
            "width": null
          }
        },
        "0a8c13602c5948f9b8369f4a5c59ac55": {
          "model_module": "@jupyter-widgets/controls",
          "model_name": "VBoxModel",
          "model_module_version": "1.5.0",
          "state": {
            "_dom_classes": [
              "widget-interact"
            ],
            "_model_module": "@jupyter-widgets/controls",
            "_model_module_version": "1.5.0",
            "_model_name": "VBoxModel",
            "_view_count": null,
            "_view_module": "@jupyter-widgets/controls",
            "_view_module_version": "1.5.0",
            "_view_name": "VBoxView",
            "box_style": "",
            "children": [
              "IPY_MODEL_da012161f8c64c2b9b0e71805153bddb",
              "IPY_MODEL_380c11ae278742d2bf2f68643f2d7474"
            ],
            "layout": "IPY_MODEL_bb392dbaa93b40ffb2040959bb1349a0"
          }
        },
        "da012161f8c64c2b9b0e71805153bddb": {
          "model_module": "@jupyter-widgets/controls",
          "model_name": "FloatSliderModel",
          "model_module_version": "1.5.0",
          "state": {
            "_dom_classes": [],
            "_model_module": "@jupyter-widgets/controls",
            "_model_module_version": "1.5.0",
            "_model_name": "FloatSliderModel",
            "_view_count": null,
            "_view_module": "@jupyter-widgets/controls",
            "_view_module_version": "1.5.0",
            "_view_name": "FloatSliderView",
            "continuous_update": true,
            "description": "x",
            "description_tooltip": null,
            "disabled": false,
            "layout": "IPY_MODEL_9ed8abe4155748cea223a68314b279b1",
            "max": 1,
            "min": 0,
            "orientation": "horizontal",
            "readout": true,
            "readout_format": ".2f",
            "step": 0.01,
            "style": "IPY_MODEL_45f7ee4529da4e6ba408137e5d47d1b7",
            "value": 0
          }
        },
        "380c11ae278742d2bf2f68643f2d7474": {
          "model_module": "@jupyter-widgets/output",
          "model_name": "OutputModel",
          "model_module_version": "1.0.0",
          "state": {
            "_dom_classes": [],
            "_model_module": "@jupyter-widgets/output",
            "_model_module_version": "1.0.0",
            "_model_name": "OutputModel",
            "_view_count": null,
            "_view_module": "@jupyter-widgets/output",
            "_view_module_version": "1.0.0",
            "_view_name": "OutputView",
            "layout": "IPY_MODEL_184a217672ec4d68ac9ce715ac68ab79",
            "msg_id": "",
            "outputs": [
              {
                "output_type": "stream",
                "name": "stdout",
                "text": [
                  "Retorno da Expressão 1:  0.0\n",
                  "Retorno da Expressão 2:  0.0\n"
                ]
              }
            ]
          }
        },
        "bb392dbaa93b40ffb2040959bb1349a0": {
          "model_module": "@jupyter-widgets/base",
          "model_name": "LayoutModel",
          "model_module_version": "1.2.0",
          "state": {
            "_model_module": "@jupyter-widgets/base",
            "_model_module_version": "1.2.0",
            "_model_name": "LayoutModel",
            "_view_count": null,
            "_view_module": "@jupyter-widgets/base",
            "_view_module_version": "1.2.0",
            "_view_name": "LayoutView",
            "align_content": null,
            "align_items": null,
            "align_self": null,
            "border": null,
            "bottom": null,
            "display": null,
            "flex": null,
            "flex_flow": null,
            "grid_area": null,
            "grid_auto_columns": null,
            "grid_auto_flow": null,
            "grid_auto_rows": null,
            "grid_column": null,
            "grid_gap": null,
            "grid_row": null,
            "grid_template_areas": null,
            "grid_template_columns": null,
            "grid_template_rows": null,
            "height": null,
            "justify_content": null,
            "justify_items": null,
            "left": null,
            "margin": null,
            "max_height": null,
            "max_width": null,
            "min_height": null,
            "min_width": null,
            "object_fit": null,
            "object_position": null,
            "order": null,
            "overflow": null,
            "overflow_x": null,
            "overflow_y": null,
            "padding": null,
            "right": null,
            "top": null,
            "visibility": null,
            "width": null
          }
        },
        "9ed8abe4155748cea223a68314b279b1": {
          "model_module": "@jupyter-widgets/base",
          "model_name": "LayoutModel",
          "model_module_version": "1.2.0",
          "state": {
            "_model_module": "@jupyter-widgets/base",
            "_model_module_version": "1.2.0",
            "_model_name": "LayoutModel",
            "_view_count": null,
            "_view_module": "@jupyter-widgets/base",
            "_view_module_version": "1.2.0",
            "_view_name": "LayoutView",
            "align_content": null,
            "align_items": null,
            "align_self": null,
            "border": null,
            "bottom": null,
            "display": null,
            "flex": null,
            "flex_flow": null,
            "grid_area": null,
            "grid_auto_columns": null,
            "grid_auto_flow": null,
            "grid_auto_rows": null,
            "grid_column": null,
            "grid_gap": null,
            "grid_row": null,
            "grid_template_areas": null,
            "grid_template_columns": null,
            "grid_template_rows": null,
            "height": null,
            "justify_content": null,
            "justify_items": null,
            "left": null,
            "margin": null,
            "max_height": null,
            "max_width": null,
            "min_height": null,
            "min_width": null,
            "object_fit": null,
            "object_position": null,
            "order": null,
            "overflow": null,
            "overflow_x": null,
            "overflow_y": null,
            "padding": null,
            "right": null,
            "top": null,
            "visibility": null,
            "width": null
          }
        },
        "45f7ee4529da4e6ba408137e5d47d1b7": {
          "model_module": "@jupyter-widgets/controls",
          "model_name": "SliderStyleModel",
          "model_module_version": "1.5.0",
          "state": {
            "_model_module": "@jupyter-widgets/controls",
            "_model_module_version": "1.5.0",
            "_model_name": "SliderStyleModel",
            "_view_count": null,
            "_view_module": "@jupyter-widgets/base",
            "_view_module_version": "1.2.0",
            "_view_name": "StyleView",
            "description_width": "",
            "handle_color": null
          }
        },
        "184a217672ec4d68ac9ce715ac68ab79": {
          "model_module": "@jupyter-widgets/base",
          "model_name": "LayoutModel",
          "model_module_version": "1.2.0",
          "state": {
            "_model_module": "@jupyter-widgets/base",
            "_model_module_version": "1.2.0",
            "_model_name": "LayoutModel",
            "_view_count": null,
            "_view_module": "@jupyter-widgets/base",
            "_view_module_version": "1.2.0",
            "_view_name": "LayoutView",
            "align_content": null,
            "align_items": null,
            "align_self": null,
            "border": null,
            "bottom": null,
            "display": null,
            "flex": null,
            "flex_flow": null,
            "grid_area": null,
            "grid_auto_columns": null,
            "grid_auto_flow": null,
            "grid_auto_rows": null,
            "grid_column": null,
            "grid_gap": null,
            "grid_row": null,
            "grid_template_areas": null,
            "grid_template_columns": null,
            "grid_template_rows": null,
            "height": null,
            "justify_content": null,
            "justify_items": null,
            "left": null,
            "margin": null,
            "max_height": null,
            "max_width": null,
            "min_height": null,
            "min_width": null,
            "object_fit": null,
            "object_position": null,
            "order": null,
            "overflow": null,
            "overflow_x": null,
            "overflow_y": null,
            "padding": null,
            "right": null,
            "top": null,
            "visibility": null,
            "width": null
          }
        },
        "bf509bf53650486180b94af2966bb605": {
          "model_module": "@jupyter-widgets/controls",
          "model_name": "VBoxModel",
          "model_module_version": "1.5.0",
          "state": {
            "_dom_classes": [
              "widget-interact"
            ],
            "_model_module": "@jupyter-widgets/controls",
            "_model_module_version": "1.5.0",
            "_model_name": "VBoxModel",
            "_view_count": null,
            "_view_module": "@jupyter-widgets/controls",
            "_view_module_version": "1.5.0",
            "_view_name": "VBoxView",
            "box_style": "",
            "children": [
              "IPY_MODEL_c5eb457a091c4fae95f61202af500d1b",
              "IPY_MODEL_307c111828d24c8dbb3c43c9e1bb82b9"
            ],
            "layout": "IPY_MODEL_f94bf88018e2451981bd70450e0f955f"
          }
        },
        "c5eb457a091c4fae95f61202af500d1b": {
          "model_module": "@jupyter-widgets/controls",
          "model_name": "FloatSliderModel",
          "model_module_version": "1.5.0",
          "state": {
            "_dom_classes": [],
            "_model_module": "@jupyter-widgets/controls",
            "_model_module_version": "1.5.0",
            "_model_name": "FloatSliderModel",
            "_view_count": null,
            "_view_module": "@jupyter-widgets/controls",
            "_view_module_version": "1.5.0",
            "_view_name": "FloatSliderView",
            "continuous_update": true,
            "description": "x",
            "description_tooltip": null,
            "disabled": false,
            "layout": "IPY_MODEL_6a04883a50394a1e9a64ef69d671d68d",
            "max": 1,
            "min": 0,
            "orientation": "horizontal",
            "readout": true,
            "readout_format": ".2f",
            "step": 0.01,
            "style": "IPY_MODEL_03d72583da2841cca5319f893d73fd23",
            "value": 0
          }
        },
        "307c111828d24c8dbb3c43c9e1bb82b9": {
          "model_module": "@jupyter-widgets/output",
          "model_name": "OutputModel",
          "model_module_version": "1.0.0",
          "state": {
            "_dom_classes": [],
            "_model_module": "@jupyter-widgets/output",
            "_model_module_version": "1.0.0",
            "_model_name": "OutputModel",
            "_view_count": null,
            "_view_module": "@jupyter-widgets/output",
            "_view_module_version": "1.0.0",
            "_view_name": "OutputView",
            "layout": "IPY_MODEL_d4be96d3e99f4c3ea706a56207b6b29c",
            "msg_id": "",
            "outputs": [
              {
                "output_type": "stream",
                "name": "stdout",
                "text": [
                  "Retorno da Expressão 1:  0.5\n",
                  "Retorno da Expressão 2:  0.5\n"
                ]
              }
            ]
          }
        },
        "f94bf88018e2451981bd70450e0f955f": {
          "model_module": "@jupyter-widgets/base",
          "model_name": "LayoutModel",
          "model_module_version": "1.2.0",
          "state": {
            "_model_module": "@jupyter-widgets/base",
            "_model_module_version": "1.2.0",
            "_model_name": "LayoutModel",
            "_view_count": null,
            "_view_module": "@jupyter-widgets/base",
            "_view_module_version": "1.2.0",
            "_view_name": "LayoutView",
            "align_content": null,
            "align_items": null,
            "align_self": null,
            "border": null,
            "bottom": null,
            "display": null,
            "flex": null,
            "flex_flow": null,
            "grid_area": null,
            "grid_auto_columns": null,
            "grid_auto_flow": null,
            "grid_auto_rows": null,
            "grid_column": null,
            "grid_gap": null,
            "grid_row": null,
            "grid_template_areas": null,
            "grid_template_columns": null,
            "grid_template_rows": null,
            "height": null,
            "justify_content": null,
            "justify_items": null,
            "left": null,
            "margin": null,
            "max_height": null,
            "max_width": null,
            "min_height": null,
            "min_width": null,
            "object_fit": null,
            "object_position": null,
            "order": null,
            "overflow": null,
            "overflow_x": null,
            "overflow_y": null,
            "padding": null,
            "right": null,
            "top": null,
            "visibility": null,
            "width": null
          }
        },
        "6a04883a50394a1e9a64ef69d671d68d": {
          "model_module": "@jupyter-widgets/base",
          "model_name": "LayoutModel",
          "model_module_version": "1.2.0",
          "state": {
            "_model_module": "@jupyter-widgets/base",
            "_model_module_version": "1.2.0",
            "_model_name": "LayoutModel",
            "_view_count": null,
            "_view_module": "@jupyter-widgets/base",
            "_view_module_version": "1.2.0",
            "_view_name": "LayoutView",
            "align_content": null,
            "align_items": null,
            "align_self": null,
            "border": null,
            "bottom": null,
            "display": null,
            "flex": null,
            "flex_flow": null,
            "grid_area": null,
            "grid_auto_columns": null,
            "grid_auto_flow": null,
            "grid_auto_rows": null,
            "grid_column": null,
            "grid_gap": null,
            "grid_row": null,
            "grid_template_areas": null,
            "grid_template_columns": null,
            "grid_template_rows": null,
            "height": null,
            "justify_content": null,
            "justify_items": null,
            "left": null,
            "margin": null,
            "max_height": null,
            "max_width": null,
            "min_height": null,
            "min_width": null,
            "object_fit": null,
            "object_position": null,
            "order": null,
            "overflow": null,
            "overflow_x": null,
            "overflow_y": null,
            "padding": null,
            "right": null,
            "top": null,
            "visibility": null,
            "width": null
          }
        },
        "03d72583da2841cca5319f893d73fd23": {
          "model_module": "@jupyter-widgets/controls",
          "model_name": "SliderStyleModel",
          "model_module_version": "1.5.0",
          "state": {
            "_model_module": "@jupyter-widgets/controls",
            "_model_module_version": "1.5.0",
            "_model_name": "SliderStyleModel",
            "_view_count": null,
            "_view_module": "@jupyter-widgets/base",
            "_view_module_version": "1.2.0",
            "_view_name": "StyleView",
            "description_width": "",
            "handle_color": null
          }
        },
        "d4be96d3e99f4c3ea706a56207b6b29c": {
          "model_module": "@jupyter-widgets/base",
          "model_name": "LayoutModel",
          "model_module_version": "1.2.0",
          "state": {
            "_model_module": "@jupyter-widgets/base",
            "_model_module_version": "1.2.0",
            "_model_name": "LayoutModel",
            "_view_count": null,
            "_view_module": "@jupyter-widgets/base",
            "_view_module_version": "1.2.0",
            "_view_name": "LayoutView",
            "align_content": null,
            "align_items": null,
            "align_self": null,
            "border": null,
            "bottom": null,
            "display": null,
            "flex": null,
            "flex_flow": null,
            "grid_area": null,
            "grid_auto_columns": null,
            "grid_auto_flow": null,
            "grid_auto_rows": null,
            "grid_column": null,
            "grid_gap": null,
            "grid_row": null,
            "grid_template_areas": null,
            "grid_template_columns": null,
            "grid_template_rows": null,
            "height": null,
            "justify_content": null,
            "justify_items": null,
            "left": null,
            "margin": null,
            "max_height": null,
            "max_width": null,
            "min_height": null,
            "min_width": null,
            "object_fit": null,
            "object_position": null,
            "order": null,
            "overflow": null,
            "overflow_x": null,
            "overflow_y": null,
            "padding": null,
            "right": null,
            "top": null,
            "visibility": null,
            "width": null
          }
        },
        "604ce4d6305e45a1895ea392ae526903": {
          "model_module": "@jupyter-widgets/controls",
          "model_name": "VBoxModel",
          "model_module_version": "1.5.0",
          "state": {
            "_dom_classes": [
              "widget-interact"
            ],
            "_model_module": "@jupyter-widgets/controls",
            "_model_module_version": "1.5.0",
            "_model_name": "VBoxModel",
            "_view_count": null,
            "_view_module": "@jupyter-widgets/controls",
            "_view_module_version": "1.5.0",
            "_view_name": "VBoxView",
            "box_style": "",
            "children": [
              "IPY_MODEL_fccc677d63f24315be2855aeff0d1653",
              "IPY_MODEL_c8111c3aeac946e8842fd982d6feccb8",
              "IPY_MODEL_71ce83fd39fb409eabe102a191766ea5"
            ],
            "layout": "IPY_MODEL_f3b0890b1ced48348213497a78abdf2c"
          }
        },
        "fccc677d63f24315be2855aeff0d1653": {
          "model_module": "@jupyter-widgets/controls",
          "model_name": "IntSliderModel",
          "model_module_version": "1.5.0",
          "state": {
            "_dom_classes": [],
            "_model_module": "@jupyter-widgets/controls",
            "_model_module_version": "1.5.0",
            "_model_name": "IntSliderModel",
            "_view_count": null,
            "_view_module": "@jupyter-widgets/controls",
            "_view_module_version": "1.5.0",
            "_view_name": "IntSliderView",
            "continuous_update": true,
            "description": "x",
            "description_tooltip": null,
            "disabled": false,
            "layout": "IPY_MODEL_2d90fabb43c443018a946a4a5e8eb59d",
            "max": 5,
            "min": -5,
            "orientation": "horizontal",
            "readout": true,
            "readout_format": "d",
            "step": 1,
            "style": "IPY_MODEL_0fe5829ea53e4a58898fc9a684f36a26",
            "value": 1
          }
        },
        "c8111c3aeac946e8842fd982d6feccb8": {
          "model_module": "@jupyter-widgets/controls",
          "model_name": "IntSliderModel",
          "model_module_version": "1.5.0",
          "state": {
            "_dom_classes": [],
            "_model_module": "@jupyter-widgets/controls",
            "_model_module_version": "1.5.0",
            "_model_name": "IntSliderModel",
            "_view_count": null,
            "_view_module": "@jupyter-widgets/controls",
            "_view_module_version": "1.5.0",
            "_view_name": "IntSliderView",
            "continuous_update": true,
            "description": "y",
            "description_tooltip": null,
            "disabled": false,
            "layout": "IPY_MODEL_8f02e4d77bb047ff82194d9ac5398228",
            "max": 5,
            "min": -5,
            "orientation": "horizontal",
            "readout": true,
            "readout_format": "d",
            "step": 1,
            "style": "IPY_MODEL_615438b4931340cb97d8ab68fa45bb08",
            "value": 2
          }
        },
        "71ce83fd39fb409eabe102a191766ea5": {
          "model_module": "@jupyter-widgets/output",
          "model_name": "OutputModel",
          "model_module_version": "1.0.0",
          "state": {
            "_dom_classes": [],
            "_model_module": "@jupyter-widgets/output",
            "_model_module_version": "1.0.0",
            "_model_name": "OutputModel",
            "_view_count": null,
            "_view_module": "@jupyter-widgets/output",
            "_view_module_version": "1.0.0",
            "_view_name": "OutputView",
            "layout": "IPY_MODEL_1c884f24593440a3b6ca84365b797106",
            "msg_id": "",
            "outputs": [
              {
                "output_type": "display_data",
                "data": {
                  "text/plain": "<Figure size 432x288 with 1 Axes>",
                  "image/png": "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\n"
                },
                "metadata": {
                  "image/png": {
                    "width": 424,
                    "height": 280
                  }
                }
              }
            ]
          }
        },
        "f3b0890b1ced48348213497a78abdf2c": {
          "model_module": "@jupyter-widgets/base",
          "model_name": "LayoutModel",
          "model_module_version": "1.2.0",
          "state": {
            "_model_module": "@jupyter-widgets/base",
            "_model_module_version": "1.2.0",
            "_model_name": "LayoutModel",
            "_view_count": null,
            "_view_module": "@jupyter-widgets/base",
            "_view_module_version": "1.2.0",
            "_view_name": "LayoutView",
            "align_content": null,
            "align_items": null,
            "align_self": null,
            "border": null,
            "bottom": null,
            "display": null,
            "flex": null,
            "flex_flow": null,
            "grid_area": null,
            "grid_auto_columns": null,
            "grid_auto_flow": null,
            "grid_auto_rows": null,
            "grid_column": null,
            "grid_gap": null,
            "grid_row": null,
            "grid_template_areas": null,
            "grid_template_columns": null,
            "grid_template_rows": null,
            "height": null,
            "justify_content": null,
            "justify_items": null,
            "left": null,
            "margin": null,
            "max_height": null,
            "max_width": null,
            "min_height": null,
            "min_width": null,
            "object_fit": null,
            "object_position": null,
            "order": null,
            "overflow": null,
            "overflow_x": null,
            "overflow_y": null,
            "padding": null,
            "right": null,
            "top": null,
            "visibility": null,
            "width": null
          }
        },
        "2d90fabb43c443018a946a4a5e8eb59d": {
          "model_module": "@jupyter-widgets/base",
          "model_name": "LayoutModel",
          "model_module_version": "1.2.0",
          "state": {
            "_model_module": "@jupyter-widgets/base",
            "_model_module_version": "1.2.0",
            "_model_name": "LayoutModel",
            "_view_count": null,
            "_view_module": "@jupyter-widgets/base",
            "_view_module_version": "1.2.0",
            "_view_name": "LayoutView",
            "align_content": null,
            "align_items": null,
            "align_self": null,
            "border": null,
            "bottom": null,
            "display": null,
            "flex": null,
            "flex_flow": null,
            "grid_area": null,
            "grid_auto_columns": null,
            "grid_auto_flow": null,
            "grid_auto_rows": null,
            "grid_column": null,
            "grid_gap": null,
            "grid_row": null,
            "grid_template_areas": null,
            "grid_template_columns": null,
            "grid_template_rows": null,
            "height": null,
            "justify_content": null,
            "justify_items": null,
            "left": null,
            "margin": null,
            "max_height": null,
            "max_width": null,
            "min_height": null,
            "min_width": null,
            "object_fit": null,
            "object_position": null,
            "order": null,
            "overflow": null,
            "overflow_x": null,
            "overflow_y": null,
            "padding": null,
            "right": null,
            "top": null,
            "visibility": null,
            "width": null
          }
        },
        "0fe5829ea53e4a58898fc9a684f36a26": {
          "model_module": "@jupyter-widgets/controls",
          "model_name": "SliderStyleModel",
          "model_module_version": "1.5.0",
          "state": {
            "_model_module": "@jupyter-widgets/controls",
            "_model_module_version": "1.5.0",
            "_model_name": "SliderStyleModel",
            "_view_count": null,
            "_view_module": "@jupyter-widgets/base",
            "_view_module_version": "1.2.0",
            "_view_name": "StyleView",
            "description_width": "",
            "handle_color": null
          }
        },
        "8f02e4d77bb047ff82194d9ac5398228": {
          "model_module": "@jupyter-widgets/base",
          "model_name": "LayoutModel",
          "model_module_version": "1.2.0",
          "state": {
            "_model_module": "@jupyter-widgets/base",
            "_model_module_version": "1.2.0",
            "_model_name": "LayoutModel",
            "_view_count": null,
            "_view_module": "@jupyter-widgets/base",
            "_view_module_version": "1.2.0",
            "_view_name": "LayoutView",
            "align_content": null,
            "align_items": null,
            "align_self": null,
            "border": null,
            "bottom": null,
            "display": null,
            "flex": null,
            "flex_flow": null,
            "grid_area": null,
            "grid_auto_columns": null,
            "grid_auto_flow": null,
            "grid_auto_rows": null,
            "grid_column": null,
            "grid_gap": null,
            "grid_row": null,
            "grid_template_areas": null,
            "grid_template_columns": null,
            "grid_template_rows": null,
            "height": null,
            "justify_content": null,
            "justify_items": null,
            "left": null,
            "margin": null,
            "max_height": null,
            "max_width": null,
            "min_height": null,
            "min_width": null,
            "object_fit": null,
            "object_position": null,
            "order": null,
            "overflow": null,
            "overflow_x": null,
            "overflow_y": null,
            "padding": null,
            "right": null,
            "top": null,
            "visibility": null,
            "width": null
          }
        },
        "615438b4931340cb97d8ab68fa45bb08": {
          "model_module": "@jupyter-widgets/controls",
          "model_name": "SliderStyleModel",
          "model_module_version": "1.5.0",
          "state": {
            "_model_module": "@jupyter-widgets/controls",
            "_model_module_version": "1.5.0",
            "_model_name": "SliderStyleModel",
            "_view_count": null,
            "_view_module": "@jupyter-widgets/base",
            "_view_module_version": "1.2.0",
            "_view_name": "StyleView",
            "description_width": "",
            "handle_color": null
          }
        },
        "1c884f24593440a3b6ca84365b797106": {
          "model_module": "@jupyter-widgets/base",
          "model_name": "LayoutModel",
          "model_module_version": "1.2.0",
          "state": {
            "_model_module": "@jupyter-widgets/base",
            "_model_module_version": "1.2.0",
            "_model_name": "LayoutModel",
            "_view_count": null,
            "_view_module": "@jupyter-widgets/base",
            "_view_module_version": "1.2.0",
            "_view_name": "LayoutView",
            "align_content": null,
            "align_items": null,
            "align_self": null,
            "border": null,
            "bottom": null,
            "display": null,
            "flex": null,
            "flex_flow": null,
            "grid_area": null,
            "grid_auto_columns": null,
            "grid_auto_flow": null,
            "grid_auto_rows": null,
            "grid_column": null,
            "grid_gap": null,
            "grid_row": null,
            "grid_template_areas": null,
            "grid_template_columns": null,
            "grid_template_rows": null,
            "height": null,
            "justify_content": null,
            "justify_items": null,
            "left": null,
            "margin": null,
            "max_height": null,
            "max_width": null,
            "min_height": null,
            "min_width": null,
            "object_fit": null,
            "object_position": null,
            "order": null,
            "overflow": null,
            "overflow_x": null,
            "overflow_y": null,
            "padding": null,
            "right": null,
            "top": null,
            "visibility": null,
            "width": null
          }
        },
        "fbe708a274d94953a9a0a305eb8ac0d7": {
          "model_module": "@jupyter-widgets/controls",
          "model_name": "VBoxModel",
          "model_module_version": "1.5.0",
          "state": {
            "_dom_classes": [
              "widget-interact"
            ],
            "_model_module": "@jupyter-widgets/controls",
            "_model_module_version": "1.5.0",
            "_model_name": "VBoxModel",
            "_view_count": null,
            "_view_module": "@jupyter-widgets/controls",
            "_view_module_version": "1.5.0",
            "_view_name": "VBoxView",
            "box_style": "",
            "children": [
              "IPY_MODEL_5a04f2f8cace442f8a78c375573b9fc1",
              "IPY_MODEL_32e162bf420a491591f03046547344d9",
              "IPY_MODEL_6c9af22a832e464ca629b0cb4b3fa3b0"
            ],
            "layout": "IPY_MODEL_c0dcc20a8c944ce085f89c1cfbd23880"
          }
        },
        "5a04f2f8cace442f8a78c375573b9fc1": {
          "model_module": "@jupyter-widgets/controls",
          "model_name": "FloatSliderModel",
          "model_module_version": "1.5.0",
          "state": {
            "_dom_classes": [],
            "_model_module": "@jupyter-widgets/controls",
            "_model_module_version": "1.5.0",
            "_model_name": "FloatSliderModel",
            "_view_count": null,
            "_view_module": "@jupyter-widgets/controls",
            "_view_module_version": "1.5.0",
            "_view_name": "FloatSliderView",
            "continuous_update": true,
            "description": "x1",
            "description_tooltip": null,
            "disabled": false,
            "layout": "IPY_MODEL_7dd5122ff4ac435b9d039f874fc22ff9",
            "max": 10,
            "min": -10,
            "orientation": "horizontal",
            "readout": true,
            "readout_format": ".2f",
            "step": 0.01,
            "style": "IPY_MODEL_01080de2b8b042d9b18f1269c5af6849",
            "value": 1
          }
        },
        "32e162bf420a491591f03046547344d9": {
          "model_module": "@jupyter-widgets/controls",
          "model_name": "FloatSliderModel",
          "model_module_version": "1.5.0",
          "state": {
            "_dom_classes": [],
            "_model_module": "@jupyter-widgets/controls",
            "_model_module_version": "1.5.0",
            "_model_name": "FloatSliderModel",
            "_view_count": null,
            "_view_module": "@jupyter-widgets/controls",
            "_view_module_version": "1.5.0",
            "_view_name": "FloatSliderView",
            "continuous_update": true,
            "description": "x2",
            "description_tooltip": null,
            "disabled": false,
            "layout": "IPY_MODEL_2d7bf6e9ef37415f8eb653db411e5b2f",
            "max": 10,
            "min": -10,
            "orientation": "horizontal",
            "readout": true,
            "readout_format": ".2f",
            "step": 0.01,
            "style": "IPY_MODEL_c36cee48eba94b889f05dcd8ea5b3887",
            "value": 2
          }
        },
        "6c9af22a832e464ca629b0cb4b3fa3b0": {
          "model_module": "@jupyter-widgets/output",
          "model_name": "OutputModel",
          "model_module_version": "1.0.0",
          "state": {
            "_dom_classes": [],
            "_model_module": "@jupyter-widgets/output",
            "_model_module_version": "1.0.0",
            "_model_name": "OutputModel",
            "_view_count": null,
            "_view_module": "@jupyter-widgets/output",
            "_view_module_version": "1.0.0",
            "_view_name": "OutputView",
            "layout": "IPY_MODEL_b0fc27e95a614115967d334fa4fb05a6",
            "msg_id": "",
            "outputs": [
              {
                "output_type": "stream",
                "name": "stdout",
                "text": [
                  "\n",
                  "v = \t [1. 2.]\n",
                  "v[0] = \t 1.0\n",
                  "v[1] = \t 2.0\n"
                ]
              }
            ]
          }
        },
        "c0dcc20a8c944ce085f89c1cfbd23880": {
          "model_module": "@jupyter-widgets/base",
          "model_name": "LayoutModel",
          "model_module_version": "1.2.0",
          "state": {
            "_model_module": "@jupyter-widgets/base",
            "_model_module_version": "1.2.0",
            "_model_name": "LayoutModel",
            "_view_count": null,
            "_view_module": "@jupyter-widgets/base",
            "_view_module_version": "1.2.0",
            "_view_name": "LayoutView",
            "align_content": null,
            "align_items": null,
            "align_self": null,
            "border": null,
            "bottom": null,
            "display": null,
            "flex": null,
            "flex_flow": null,
            "grid_area": null,
            "grid_auto_columns": null,
            "grid_auto_flow": null,
            "grid_auto_rows": null,
            "grid_column": null,
            "grid_gap": null,
            "grid_row": null,
            "grid_template_areas": null,
            "grid_template_columns": null,
            "grid_template_rows": null,
            "height": null,
            "justify_content": null,
            "justify_items": null,
            "left": null,
            "margin": null,
            "max_height": null,
            "max_width": null,
            "min_height": null,
            "min_width": null,
            "object_fit": null,
            "object_position": null,
            "order": null,
            "overflow": null,
            "overflow_x": null,
            "overflow_y": null,
            "padding": null,
            "right": null,
            "top": null,
            "visibility": null,
            "width": null
          }
        },
        "7dd5122ff4ac435b9d039f874fc22ff9": {
          "model_module": "@jupyter-widgets/base",
          "model_name": "LayoutModel",
          "model_module_version": "1.2.0",
          "state": {
            "_model_module": "@jupyter-widgets/base",
            "_model_module_version": "1.2.0",
            "_model_name": "LayoutModel",
            "_view_count": null,
            "_view_module": "@jupyter-widgets/base",
            "_view_module_version": "1.2.0",
            "_view_name": "LayoutView",
            "align_content": null,
            "align_items": null,
            "align_self": null,
            "border": null,
            "bottom": null,
            "display": null,
            "flex": null,
            "flex_flow": null,
            "grid_area": null,
            "grid_auto_columns": null,
            "grid_auto_flow": null,
            "grid_auto_rows": null,
            "grid_column": null,
            "grid_gap": null,
            "grid_row": null,
            "grid_template_areas": null,
            "grid_template_columns": null,
            "grid_template_rows": null,
            "height": null,
            "justify_content": null,
            "justify_items": null,
            "left": null,
            "margin": null,
            "max_height": null,
            "max_width": null,
            "min_height": null,
            "min_width": null,
            "object_fit": null,
            "object_position": null,
            "order": null,
            "overflow": null,
            "overflow_x": null,
            "overflow_y": null,
            "padding": null,
            "right": null,
            "top": null,
            "visibility": null,
            "width": null
          }
        },
        "01080de2b8b042d9b18f1269c5af6849": {
          "model_module": "@jupyter-widgets/controls",
          "model_name": "SliderStyleModel",
          "model_module_version": "1.5.0",
          "state": {
            "_model_module": "@jupyter-widgets/controls",
            "_model_module_version": "1.5.0",
            "_model_name": "SliderStyleModel",
            "_view_count": null,
            "_view_module": "@jupyter-widgets/base",
            "_view_module_version": "1.2.0",
            "_view_name": "StyleView",
            "description_width": "",
            "handle_color": null
          }
        },
        "2d7bf6e9ef37415f8eb653db411e5b2f": {
          "model_module": "@jupyter-widgets/base",
          "model_name": "LayoutModel",
          "model_module_version": "1.2.0",
          "state": {
            "_model_module": "@jupyter-widgets/base",
            "_model_module_version": "1.2.0",
            "_model_name": "LayoutModel",
            "_view_count": null,
            "_view_module": "@jupyter-widgets/base",
            "_view_module_version": "1.2.0",
            "_view_name": "LayoutView",
            "align_content": null,
            "align_items": null,
            "align_self": null,
            "border": null,
            "bottom": null,
            "display": null,
            "flex": null,
            "flex_flow": null,
            "grid_area": null,
            "grid_auto_columns": null,
            "grid_auto_flow": null,
            "grid_auto_rows": null,
            "grid_column": null,
            "grid_gap": null,
            "grid_row": null,
            "grid_template_areas": null,
            "grid_template_columns": null,
            "grid_template_rows": null,
            "height": null,
            "justify_content": null,
            "justify_items": null,
            "left": null,
            "margin": null,
            "max_height": null,
            "max_width": null,
            "min_height": null,
            "min_width": null,
            "object_fit": null,
            "object_position": null,
            "order": null,
            "overflow": null,
            "overflow_x": null,
            "overflow_y": null,
            "padding": null,
            "right": null,
            "top": null,
            "visibility": null,
            "width": null
          }
        },
        "c36cee48eba94b889f05dcd8ea5b3887": {
          "model_module": "@jupyter-widgets/controls",
          "model_name": "SliderStyleModel",
          "model_module_version": "1.5.0",
          "state": {
            "_model_module": "@jupyter-widgets/controls",
            "_model_module_version": "1.5.0",
            "_model_name": "SliderStyleModel",
            "_view_count": null,
            "_view_module": "@jupyter-widgets/base",
            "_view_module_version": "1.2.0",
            "_view_name": "StyleView",
            "description_width": "",
            "handle_color": null
          }
        },
        "b0fc27e95a614115967d334fa4fb05a6": {
          "model_module": "@jupyter-widgets/base",
          "model_name": "LayoutModel",
          "model_module_version": "1.2.0",
          "state": {
            "_model_module": "@jupyter-widgets/base",
            "_model_module_version": "1.2.0",
            "_model_name": "LayoutModel",
            "_view_count": null,
            "_view_module": "@jupyter-widgets/base",
            "_view_module_version": "1.2.0",
            "_view_name": "LayoutView",
            "align_content": null,
            "align_items": null,
            "align_self": null,
            "border": null,
            "bottom": null,
            "display": null,
            "flex": null,
            "flex_flow": null,
            "grid_area": null,
            "grid_auto_columns": null,
            "grid_auto_flow": null,
            "grid_auto_rows": null,
            "grid_column": null,
            "grid_gap": null,
            "grid_row": null,
            "grid_template_areas": null,
            "grid_template_columns": null,
            "grid_template_rows": null,
            "height": null,
            "justify_content": null,
            "justify_items": null,
            "left": null,
            "margin": null,
            "max_height": null,
            "max_width": null,
            "min_height": null,
            "min_width": null,
            "object_fit": null,
            "object_position": null,
            "order": null,
            "overflow": null,
            "overflow_x": null,
            "overflow_y": null,
            "padding": null,
            "right": null,
            "top": null,
            "visibility": null,
            "width": null
          }
        },
        "dfe1c9d9d267430995236fd24c04e1c6": {
          "model_module": "@jupyter-widgets/controls",
          "model_name": "VBoxModel",
          "model_module_version": "1.5.0",
          "state": {
            "_dom_classes": [
              "widget-interact"
            ],
            "_model_module": "@jupyter-widgets/controls",
            "_model_module_version": "1.5.0",
            "_model_name": "VBoxModel",
            "_view_count": null,
            "_view_module": "@jupyter-widgets/controls",
            "_view_module_version": "1.5.0",
            "_view_name": "VBoxView",
            "box_style": "",
            "children": [
              "IPY_MODEL_a1736ff928a849109c92a3ee7cf71239",
              "IPY_MODEL_e9b9a182623442cdb2784419ded5f1f4",
              "IPY_MODEL_a384f18238fb45308db1a019b78c4847"
            ],
            "layout": "IPY_MODEL_5372cae5f8fd436f98f0ea2656511da9"
          }
        },
        "a1736ff928a849109c92a3ee7cf71239": {
          "model_module": "@jupyter-widgets/controls",
          "model_name": "FloatSliderModel",
          "model_module_version": "1.5.0",
          "state": {
            "_dom_classes": [],
            "_model_module": "@jupyter-widgets/controls",
            "_model_module_version": "1.5.0",
            "_model_name": "FloatSliderModel",
            "_view_count": null,
            "_view_module": "@jupyter-widgets/controls",
            "_view_module_version": "1.5.0",
            "_view_name": "FloatSliderView",
            "continuous_update": true,
            "description": "x1",
            "description_tooltip": null,
            "disabled": false,
            "layout": "IPY_MODEL_adec843fdecf4aef928db62d623c1a86",
            "max": 10,
            "min": -10,
            "orientation": "horizontal",
            "readout": true,
            "readout_format": ".2f",
            "step": 0.01,
            "style": "IPY_MODEL_2aada707cb8d412b809d9c719af454d5",
            "value": 1
          }
        },
        "e9b9a182623442cdb2784419ded5f1f4": {
          "model_module": "@jupyter-widgets/controls",
          "model_name": "FloatSliderModel",
          "model_module_version": "1.5.0",
          "state": {
            "_dom_classes": [],
            "_model_module": "@jupyter-widgets/controls",
            "_model_module_version": "1.5.0",
            "_model_name": "FloatSliderModel",
            "_view_count": null,
            "_view_module": "@jupyter-widgets/controls",
            "_view_module_version": "1.5.0",
            "_view_name": "FloatSliderView",
            "continuous_update": true,
            "description": "x2",
            "description_tooltip": null,
            "disabled": false,
            "layout": "IPY_MODEL_0bbcd10453d143f2abc2ef5660acb2cb",
            "max": 10,
            "min": -10,
            "orientation": "horizontal",
            "readout": true,
            "readout_format": ".2f",
            "step": 0.01,
            "style": "IPY_MODEL_29fc29f179b046cd938515d9153d629f",
            "value": 2
          }
        },
        "a384f18238fb45308db1a019b78c4847": {
          "model_module": "@jupyter-widgets/output",
          "model_name": "OutputModel",
          "model_module_version": "1.0.0",
          "state": {
            "_dom_classes": [],
            "_model_module": "@jupyter-widgets/output",
            "_model_module_version": "1.0.0",
            "_model_name": "OutputModel",
            "_view_count": null,
            "_view_module": "@jupyter-widgets/output",
            "_view_module_version": "1.0.0",
            "_view_name": "OutputView",
            "layout": "IPY_MODEL_9e2e0b847aa547d89a33ee7a7c9408af",
            "msg_id": "",
            "outputs": [
              {
                "output_type": "stream",
                "name": "stdout",
                "text": [
                  "\n",
                  "v = \t [1. 2.]\n",
                  "v[0] = \t 1.0\n",
                  "v[1] = \t 2.0\n",
                  "\n",
                  "|v| = 2.23606797749979\n"
                ]
              }
            ]
          }
        },
        "5372cae5f8fd436f98f0ea2656511da9": {
          "model_module": "@jupyter-widgets/base",
          "model_name": "LayoutModel",
          "model_module_version": "1.2.0",
          "state": {
            "_model_module": "@jupyter-widgets/base",
            "_model_module_version": "1.2.0",
            "_model_name": "LayoutModel",
            "_view_count": null,
            "_view_module": "@jupyter-widgets/base",
            "_view_module_version": "1.2.0",
            "_view_name": "LayoutView",
            "align_content": null,
            "align_items": null,
            "align_self": null,
            "border": null,
            "bottom": null,
            "display": null,
            "flex": null,
            "flex_flow": null,
            "grid_area": null,
            "grid_auto_columns": null,
            "grid_auto_flow": null,
            "grid_auto_rows": null,
            "grid_column": null,
            "grid_gap": null,
            "grid_row": null,
            "grid_template_areas": null,
            "grid_template_columns": null,
            "grid_template_rows": null,
            "height": null,
            "justify_content": null,
            "justify_items": null,
            "left": null,
            "margin": null,
            "max_height": null,
            "max_width": null,
            "min_height": null,
            "min_width": null,
            "object_fit": null,
            "object_position": null,
            "order": null,
            "overflow": null,
            "overflow_x": null,
            "overflow_y": null,
            "padding": null,
            "right": null,
            "top": null,
            "visibility": null,
            "width": null
          }
        },
        "adec843fdecf4aef928db62d623c1a86": {
          "model_module": "@jupyter-widgets/base",
          "model_name": "LayoutModel",
          "model_module_version": "1.2.0",
          "state": {
            "_model_module": "@jupyter-widgets/base",
            "_model_module_version": "1.2.0",
            "_model_name": "LayoutModel",
            "_view_count": null,
            "_view_module": "@jupyter-widgets/base",
            "_view_module_version": "1.2.0",
            "_view_name": "LayoutView",
            "align_content": null,
            "align_items": null,
            "align_self": null,
            "border": null,
            "bottom": null,
            "display": null,
            "flex": null,
            "flex_flow": null,
            "grid_area": null,
            "grid_auto_columns": null,
            "grid_auto_flow": null,
            "grid_auto_rows": null,
            "grid_column": null,
            "grid_gap": null,
            "grid_row": null,
            "grid_template_areas": null,
            "grid_template_columns": null,
            "grid_template_rows": null,
            "height": null,
            "justify_content": null,
            "justify_items": null,
            "left": null,
            "margin": null,
            "max_height": null,
            "max_width": null,
            "min_height": null,
            "min_width": null,
            "object_fit": null,
            "object_position": null,
            "order": null,
            "overflow": null,
            "overflow_x": null,
            "overflow_y": null,
            "padding": null,
            "right": null,
            "top": null,
            "visibility": null,
            "width": null
          }
        },
        "2aada707cb8d412b809d9c719af454d5": {
          "model_module": "@jupyter-widgets/controls",
          "model_name": "SliderStyleModel",
          "model_module_version": "1.5.0",
          "state": {
            "_model_module": "@jupyter-widgets/controls",
            "_model_module_version": "1.5.0",
            "_model_name": "SliderStyleModel",
            "_view_count": null,
            "_view_module": "@jupyter-widgets/base",
            "_view_module_version": "1.2.0",
            "_view_name": "StyleView",
            "description_width": "",
            "handle_color": null
          }
        },
        "0bbcd10453d143f2abc2ef5660acb2cb": {
          "model_module": "@jupyter-widgets/base",
          "model_name": "LayoutModel",
          "model_module_version": "1.2.0",
          "state": {
            "_model_module": "@jupyter-widgets/base",
            "_model_module_version": "1.2.0",
            "_model_name": "LayoutModel",
            "_view_count": null,
            "_view_module": "@jupyter-widgets/base",
            "_view_module_version": "1.2.0",
            "_view_name": "LayoutView",
            "align_content": null,
            "align_items": null,
            "align_self": null,
            "border": null,
            "bottom": null,
            "display": null,
            "flex": null,
            "flex_flow": null,
            "grid_area": null,
            "grid_auto_columns": null,
            "grid_auto_flow": null,
            "grid_auto_rows": null,
            "grid_column": null,
            "grid_gap": null,
            "grid_row": null,
            "grid_template_areas": null,
            "grid_template_columns": null,
            "grid_template_rows": null,
            "height": null,
            "justify_content": null,
            "justify_items": null,
            "left": null,
            "margin": null,
            "max_height": null,
            "max_width": null,
            "min_height": null,
            "min_width": null,
            "object_fit": null,
            "object_position": null,
            "order": null,
            "overflow": null,
            "overflow_x": null,
            "overflow_y": null,
            "padding": null,
            "right": null,
            "top": null,
            "visibility": null,
            "width": null
          }
        },
        "29fc29f179b046cd938515d9153d629f": {
          "model_module": "@jupyter-widgets/controls",
          "model_name": "SliderStyleModel",
          "model_module_version": "1.5.0",
          "state": {
            "_model_module": "@jupyter-widgets/controls",
            "_model_module_version": "1.5.0",
            "_model_name": "SliderStyleModel",
            "_view_count": null,
            "_view_module": "@jupyter-widgets/base",
            "_view_module_version": "1.2.0",
            "_view_name": "StyleView",
            "description_width": "",
            "handle_color": null
          }
        },
        "9e2e0b847aa547d89a33ee7a7c9408af": {
          "model_module": "@jupyter-widgets/base",
          "model_name": "LayoutModel",
          "model_module_version": "1.2.0",
          "state": {
            "_model_module": "@jupyter-widgets/base",
            "_model_module_version": "1.2.0",
            "_model_name": "LayoutModel",
            "_view_count": null,
            "_view_module": "@jupyter-widgets/base",
            "_view_module_version": "1.2.0",
            "_view_name": "LayoutView",
            "align_content": null,
            "align_items": null,
            "align_self": null,
            "border": null,
            "bottom": null,
            "display": null,
            "flex": null,
            "flex_flow": null,
            "grid_area": null,
            "grid_auto_columns": null,
            "grid_auto_flow": null,
            "grid_auto_rows": null,
            "grid_column": null,
            "grid_gap": null,
            "grid_row": null,
            "grid_template_areas": null,
            "grid_template_columns": null,
            "grid_template_rows": null,
            "height": null,
            "justify_content": null,
            "justify_items": null,
            "left": null,
            "margin": null,
            "max_height": null,
            "max_width": null,
            "min_height": null,
            "min_width": null,
            "object_fit": null,
            "object_position": null,
            "order": null,
            "overflow": null,
            "overflow_x": null,
            "overflow_y": null,
            "padding": null,
            "right": null,
            "top": null,
            "visibility": null,
            "width": null
          }
        },
        "4dda8dd6520641a59c576c1cd02024cf": {
          "model_module": "@jupyter-widgets/controls",
          "model_name": "VBoxModel",
          "model_module_version": "1.5.0",
          "state": {
            "_dom_classes": [
              "widget-interact"
            ],
            "_model_module": "@jupyter-widgets/controls",
            "_model_module_version": "1.5.0",
            "_model_name": "VBoxModel",
            "_view_count": null,
            "_view_module": "@jupyter-widgets/controls",
            "_view_module_version": "1.5.0",
            "_view_name": "VBoxView",
            "box_style": "",
            "children": [
              "IPY_MODEL_26f6f983c1e5422d8810cc5f71f2025d",
              "IPY_MODEL_e6dd2f790e2d4abba5572205da40a1c9",
              "IPY_MODEL_59c837aa657f4993bb174457b7d78a8b",
              "IPY_MODEL_c288648b0c994a6ea76ee2bceb5ac4d6"
            ],
            "layout": "IPY_MODEL_b55afd9b065e4255a162c2135a3a8af9"
          }
        },
        "26f6f983c1e5422d8810cc5f71f2025d": {
          "model_module": "@jupyter-widgets/controls",
          "model_name": "IntSliderModel",
          "model_module_version": "1.5.0",
          "state": {
            "_dom_classes": [],
            "_model_module": "@jupyter-widgets/controls",
            "_model_module_version": "1.5.0",
            "_model_name": "IntSliderModel",
            "_view_count": null,
            "_view_module": "@jupyter-widgets/controls",
            "_view_module_version": "1.5.0",
            "_view_name": "IntSliderView",
            "continuous_update": true,
            "description": "R",
            "description_tooltip": null,
            "disabled": false,
            "layout": "IPY_MODEL_97ad989891be4d1f8ab88619b7e982f1",
            "max": 255,
            "min": 0,
            "orientation": "horizontal",
            "readout": true,
            "readout_format": "d",
            "step": 1,
            "style": "IPY_MODEL_f814d7bbe1684bdf9529e554f39397c4",
            "value": 0
          }
        },
        "e6dd2f790e2d4abba5572205da40a1c9": {
          "model_module": "@jupyter-widgets/controls",
          "model_name": "IntSliderModel",
          "model_module_version": "1.5.0",
          "state": {
            "_dom_classes": [],
            "_model_module": "@jupyter-widgets/controls",
            "_model_module_version": "1.5.0",
            "_model_name": "IntSliderModel",
            "_view_count": null,
            "_view_module": "@jupyter-widgets/controls",
            "_view_module_version": "1.5.0",
            "_view_name": "IntSliderView",
            "continuous_update": true,
            "description": "G",
            "description_tooltip": null,
            "disabled": false,
            "layout": "IPY_MODEL_2b0288ee59b64f3dbe0686a6eb0108eb",
            "max": 255,
            "min": 0,
            "orientation": "horizontal",
            "readout": true,
            "readout_format": "d",
            "step": 1,
            "style": "IPY_MODEL_581ba7debfeb4b94a3180430392d0064",
            "value": 0
          }
        },
        "59c837aa657f4993bb174457b7d78a8b": {
          "model_module": "@jupyter-widgets/controls",
          "model_name": "IntSliderModel",
          "model_module_version": "1.5.0",
          "state": {
            "_dom_classes": [],
            "_model_module": "@jupyter-widgets/controls",
            "_model_module_version": "1.5.0",
            "_model_name": "IntSliderModel",
            "_view_count": null,
            "_view_module": "@jupyter-widgets/controls",
            "_view_module_version": "1.5.0",
            "_view_name": "IntSliderView",
            "continuous_update": true,
            "description": "B",
            "description_tooltip": null,
            "disabled": false,
            "layout": "IPY_MODEL_2c30ab38ddd64871ac0392e8c51cd833",
            "max": 255,
            "min": 0,
            "orientation": "horizontal",
            "readout": true,
            "readout_format": "d",
            "step": 1,
            "style": "IPY_MODEL_9fb6cac38b4f409a862f76f1632eb6d9",
            "value": 255
          }
        },
        "c288648b0c994a6ea76ee2bceb5ac4d6": {
          "model_module": "@jupyter-widgets/output",
          "model_name": "OutputModel",
          "model_module_version": "1.0.0",
          "state": {
            "_dom_classes": [],
            "_model_module": "@jupyter-widgets/output",
            "_model_module_version": "1.0.0",
            "_model_name": "OutputModel",
            "_view_count": null,
            "_view_module": "@jupyter-widgets/output",
            "_view_module_version": "1.0.0",
            "_view_name": "OutputView",
            "layout": "IPY_MODEL_4246a278e8654a669556c62d56943279",
            "msg_id": "",
            "outputs": [
              {
                "output_type": "display_data",
                "data": {
                  "text/plain": "<Figure size 432x288 with 1 Axes>",
                  "image/png": "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\n"
                },
                "metadata": {
                  "image/png": {
                    "width": 280,
                    "height": 280
                  }
                }
              }
            ]
          }
        },
        "b55afd9b065e4255a162c2135a3a8af9": {
          "model_module": "@jupyter-widgets/base",
          "model_name": "LayoutModel",
          "model_module_version": "1.2.0",
          "state": {
            "_model_module": "@jupyter-widgets/base",
            "_model_module_version": "1.2.0",
            "_model_name": "LayoutModel",
            "_view_count": null,
            "_view_module": "@jupyter-widgets/base",
            "_view_module_version": "1.2.0",
            "_view_name": "LayoutView",
            "align_content": null,
            "align_items": null,
            "align_self": null,
            "border": null,
            "bottom": null,
            "display": null,
            "flex": null,
            "flex_flow": null,
            "grid_area": null,
            "grid_auto_columns": null,
            "grid_auto_flow": null,
            "grid_auto_rows": null,
            "grid_column": null,
            "grid_gap": null,
            "grid_row": null,
            "grid_template_areas": null,
            "grid_template_columns": null,
            "grid_template_rows": null,
            "height": null,
            "justify_content": null,
            "justify_items": null,
            "left": null,
            "margin": null,
            "max_height": null,
            "max_width": null,
            "min_height": null,
            "min_width": null,
            "object_fit": null,
            "object_position": null,
            "order": null,
            "overflow": null,
            "overflow_x": null,
            "overflow_y": null,
            "padding": null,
            "right": null,
            "top": null,
            "visibility": null,
            "width": null
          }
        },
        "97ad989891be4d1f8ab88619b7e982f1": {
          "model_module": "@jupyter-widgets/base",
          "model_name": "LayoutModel",
          "model_module_version": "1.2.0",
          "state": {
            "_model_module": "@jupyter-widgets/base",
            "_model_module_version": "1.2.0",
            "_model_name": "LayoutModel",
            "_view_count": null,
            "_view_module": "@jupyter-widgets/base",
            "_view_module_version": "1.2.0",
            "_view_name": "LayoutView",
            "align_content": null,
            "align_items": null,
            "align_self": null,
            "border": null,
            "bottom": null,
            "display": null,
            "flex": null,
            "flex_flow": null,
            "grid_area": null,
            "grid_auto_columns": null,
            "grid_auto_flow": null,
            "grid_auto_rows": null,
            "grid_column": null,
            "grid_gap": null,
            "grid_row": null,
            "grid_template_areas": null,
            "grid_template_columns": null,
            "grid_template_rows": null,
            "height": null,
            "justify_content": null,
            "justify_items": null,
            "left": null,
            "margin": null,
            "max_height": null,
            "max_width": null,
            "min_height": null,
            "min_width": null,
            "object_fit": null,
            "object_position": null,
            "order": null,
            "overflow": null,
            "overflow_x": null,
            "overflow_y": null,
            "padding": null,
            "right": null,
            "top": null,
            "visibility": null,
            "width": null
          }
        },
        "f814d7bbe1684bdf9529e554f39397c4": {
          "model_module": "@jupyter-widgets/controls",
          "model_name": "SliderStyleModel",
          "model_module_version": "1.5.0",
          "state": {
            "_model_module": "@jupyter-widgets/controls",
            "_model_module_version": "1.5.0",
            "_model_name": "SliderStyleModel",
            "_view_count": null,
            "_view_module": "@jupyter-widgets/base",
            "_view_module_version": "1.2.0",
            "_view_name": "StyleView",
            "description_width": "",
            "handle_color": null
          }
        },
        "2b0288ee59b64f3dbe0686a6eb0108eb": {
          "model_module": "@jupyter-widgets/base",
          "model_name": "LayoutModel",
          "model_module_version": "1.2.0",
          "state": {
            "_model_module": "@jupyter-widgets/base",
            "_model_module_version": "1.2.0",
            "_model_name": "LayoutModel",
            "_view_count": null,
            "_view_module": "@jupyter-widgets/base",
            "_view_module_version": "1.2.0",
            "_view_name": "LayoutView",
            "align_content": null,
            "align_items": null,
            "align_self": null,
            "border": null,
            "bottom": null,
            "display": null,
            "flex": null,
            "flex_flow": null,
            "grid_area": null,
            "grid_auto_columns": null,
            "grid_auto_flow": null,
            "grid_auto_rows": null,
            "grid_column": null,
            "grid_gap": null,
            "grid_row": null,
            "grid_template_areas": null,
            "grid_template_columns": null,
            "grid_template_rows": null,
            "height": null,
            "justify_content": null,
            "justify_items": null,
            "left": null,
            "margin": null,
            "max_height": null,
            "max_width": null,
            "min_height": null,
            "min_width": null,
            "object_fit": null,
            "object_position": null,
            "order": null,
            "overflow": null,
            "overflow_x": null,
            "overflow_y": null,
            "padding": null,
            "right": null,
            "top": null,
            "visibility": null,
            "width": null
          }
        },
        "581ba7debfeb4b94a3180430392d0064": {
          "model_module": "@jupyter-widgets/controls",
          "model_name": "SliderStyleModel",
          "model_module_version": "1.5.0",
          "state": {
            "_model_module": "@jupyter-widgets/controls",
            "_model_module_version": "1.5.0",
            "_model_name": "SliderStyleModel",
            "_view_count": null,
            "_view_module": "@jupyter-widgets/base",
            "_view_module_version": "1.2.0",
            "_view_name": "StyleView",
            "description_width": "",
            "handle_color": null
          }
        },
        "2c30ab38ddd64871ac0392e8c51cd833": {
          "model_module": "@jupyter-widgets/base",
          "model_name": "LayoutModel",
          "model_module_version": "1.2.0",
          "state": {
            "_model_module": "@jupyter-widgets/base",
            "_model_module_version": "1.2.0",
            "_model_name": "LayoutModel",
            "_view_count": null,
            "_view_module": "@jupyter-widgets/base",
            "_view_module_version": "1.2.0",
            "_view_name": "LayoutView",
            "align_content": null,
            "align_items": null,
            "align_self": null,
            "border": null,
            "bottom": null,
            "display": null,
            "flex": null,
            "flex_flow": null,
            "grid_area": null,
            "grid_auto_columns": null,
            "grid_auto_flow": null,
            "grid_auto_rows": null,
            "grid_column": null,
            "grid_gap": null,
            "grid_row": null,
            "grid_template_areas": null,
            "grid_template_columns": null,
            "grid_template_rows": null,
            "height": null,
            "justify_content": null,
            "justify_items": null,
            "left": null,
            "margin": null,
            "max_height": null,
            "max_width": null,
            "min_height": null,
            "min_width": null,
            "object_fit": null,
            "object_position": null,
            "order": null,
            "overflow": null,
            "overflow_x": null,
            "overflow_y": null,
            "padding": null,
            "right": null,
            "top": null,
            "visibility": null,
            "width": null
          }
        },
        "9fb6cac38b4f409a862f76f1632eb6d9": {
          "model_module": "@jupyter-widgets/controls",
          "model_name": "SliderStyleModel",
          "model_module_version": "1.5.0",
          "state": {
            "_model_module": "@jupyter-widgets/controls",
            "_model_module_version": "1.5.0",
            "_model_name": "SliderStyleModel",
            "_view_count": null,
            "_view_module": "@jupyter-widgets/base",
            "_view_module_version": "1.2.0",
            "_view_name": "StyleView",
            "description_width": "",
            "handle_color": null
          }
        },
        "4246a278e8654a669556c62d56943279": {
          "model_module": "@jupyter-widgets/base",
          "model_name": "LayoutModel",
          "model_module_version": "1.2.0",
          "state": {
            "_model_module": "@jupyter-widgets/base",
            "_model_module_version": "1.2.0",
            "_model_name": "LayoutModel",
            "_view_count": null,
            "_view_module": "@jupyter-widgets/base",
            "_view_module_version": "1.2.0",
            "_view_name": "LayoutView",
            "align_content": null,
            "align_items": null,
            "align_self": null,
            "border": null,
            "bottom": null,
            "display": null,
            "flex": null,
            "flex_flow": null,
            "grid_area": null,
            "grid_auto_columns": null,
            "grid_auto_flow": null,
            "grid_auto_rows": null,
            "grid_column": null,
            "grid_gap": null,
            "grid_row": null,
            "grid_template_areas": null,
            "grid_template_columns": null,
            "grid_template_rows": null,
            "height": null,
            "justify_content": null,
            "justify_items": null,
            "left": null,
            "margin": null,
            "max_height": null,
            "max_width": null,
            "min_height": null,
            "min_width": null,
            "object_fit": null,
            "object_position": null,
            "order": null,
            "overflow": null,
            "overflow_x": null,
            "overflow_y": null,
            "padding": null,
            "right": null,
            "top": null,
            "visibility": null,
            "width": null
          }
        },
        "27d3a665d1914060a5eab6e10bcc5119": {
          "model_module": "@jupyter-widgets/controls",
          "model_name": "VBoxModel",
          "model_module_version": "1.5.0",
          "state": {
            "_dom_classes": [
              "widget-interact"
            ],
            "_model_module": "@jupyter-widgets/controls",
            "_model_module_version": "1.5.0",
            "_model_name": "VBoxModel",
            "_view_count": null,
            "_view_module": "@jupyter-widgets/controls",
            "_view_module_version": "1.5.0",
            "_view_name": "VBoxView",
            "box_style": "",
            "children": [
              "IPY_MODEL_915c835a8c4e456ea37cc0e657bd9e35",
              "IPY_MODEL_31b40e2e98914e0ba0f082bad65e484f",
              "IPY_MODEL_a39d69b651c949d4ab117a5b6c00902f",
              "IPY_MODEL_0fbd39b585d3494f85916102d82ef4e5"
            ],
            "layout": "IPY_MODEL_6c9b63ac466e42b0be6ffedd8caae252"
          }
        },
        "915c835a8c4e456ea37cc0e657bd9e35": {
          "model_module": "@jupyter-widgets/controls",
          "model_name": "IntSliderModel",
          "model_module_version": "1.5.0",
          "state": {
            "_dom_classes": [],
            "_model_module": "@jupyter-widgets/controls",
            "_model_module_version": "1.5.0",
            "_model_name": "IntSliderModel",
            "_view_count": null,
            "_view_module": "@jupyter-widgets/controls",
            "_view_module_version": "1.5.0",
            "_view_name": "IntSliderView",
            "continuous_update": true,
            "description": "R",
            "description_tooltip": null,
            "disabled": false,
            "layout": "IPY_MODEL_559512366a1442758cfb50d8147f3abd",
            "max": 255,
            "min": 0,
            "orientation": "horizontal",
            "readout": true,
            "readout_format": "d",
            "step": 1,
            "style": "IPY_MODEL_e1fead6195774643a0d0e465c29c2408",
            "value": 55
          }
        },
        "31b40e2e98914e0ba0f082bad65e484f": {
          "model_module": "@jupyter-widgets/controls",
          "model_name": "IntSliderModel",
          "model_module_version": "1.5.0",
          "state": {
            "_dom_classes": [],
            "_model_module": "@jupyter-widgets/controls",
            "_model_module_version": "1.5.0",
            "_model_name": "IntSliderModel",
            "_view_count": null,
            "_view_module": "@jupyter-widgets/controls",
            "_view_module_version": "1.5.0",
            "_view_name": "IntSliderView",
            "continuous_update": true,
            "description": "G",
            "description_tooltip": null,
            "disabled": false,
            "layout": "IPY_MODEL_470713c2719341cf814796ff43a6d05d",
            "max": 255,
            "min": 0,
            "orientation": "horizontal",
            "readout": true,
            "readout_format": "d",
            "step": 1,
            "style": "IPY_MODEL_64ecfb805183475ba2527a19c10f0190",
            "value": 128
          }
        },
        "a39d69b651c949d4ab117a5b6c00902f": {
          "model_module": "@jupyter-widgets/controls",
          "model_name": "IntSliderModel",
          "model_module_version": "1.5.0",
          "state": {
            "_dom_classes": [],
            "_model_module": "@jupyter-widgets/controls",
            "_model_module_version": "1.5.0",
            "_model_name": "IntSliderModel",
            "_view_count": null,
            "_view_module": "@jupyter-widgets/controls",
            "_view_module_version": "1.5.0",
            "_view_name": "IntSliderView",
            "continuous_update": true,
            "description": "B",
            "description_tooltip": null,
            "disabled": false,
            "layout": "IPY_MODEL_2ce0ca7fb00a4a44ac4279c6f64ead14",
            "max": 255,
            "min": 0,
            "orientation": "horizontal",
            "readout": true,
            "readout_format": "d",
            "step": 1,
            "style": "IPY_MODEL_af84b24fd9084c15b4d0210f89487f62",
            "value": 80
          }
        },
        "0fbd39b585d3494f85916102d82ef4e5": {
          "model_module": "@jupyter-widgets/output",
          "model_name": "OutputModel",
          "model_module_version": "1.0.0",
          "state": {
            "_dom_classes": [],
            "_model_module": "@jupyter-widgets/output",
            "_model_module_version": "1.0.0",
            "_model_name": "OutputModel",
            "_view_count": null,
            "_view_module": "@jupyter-widgets/output",
            "_view_module_version": "1.0.0",
            "_view_name": "OutputView",
            "layout": "IPY_MODEL_7b415501dd34463484647b6650b2a8ce",
            "msg_id": "",
            "outputs": [
              {
                "output_type": "display_data",
                "data": {
                  "text/plain": "<Figure size 720x180 with 4 Axes>",
                  "image/png": "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\n"
                },
                "metadata": {
                  "image/png": {
                    "width": 709,
                    "height": 177
                  }
                }
              }
            ]
          }
        },
        "6c9b63ac466e42b0be6ffedd8caae252": {
          "model_module": "@jupyter-widgets/base",
          "model_name": "LayoutModel",
          "model_module_version": "1.2.0",
          "state": {
            "_model_module": "@jupyter-widgets/base",
            "_model_module_version": "1.2.0",
            "_model_name": "LayoutModel",
            "_view_count": null,
            "_view_module": "@jupyter-widgets/base",
            "_view_module_version": "1.2.0",
            "_view_name": "LayoutView",
            "align_content": null,
            "align_items": null,
            "align_self": null,
            "border": null,
            "bottom": null,
            "display": null,
            "flex": null,
            "flex_flow": null,
            "grid_area": null,
            "grid_auto_columns": null,
            "grid_auto_flow": null,
            "grid_auto_rows": null,
            "grid_column": null,
            "grid_gap": null,
            "grid_row": null,
            "grid_template_areas": null,
            "grid_template_columns": null,
            "grid_template_rows": null,
            "height": null,
            "justify_content": null,
            "justify_items": null,
            "left": null,
            "margin": null,
            "max_height": null,
            "max_width": null,
            "min_height": null,
            "min_width": null,
            "object_fit": null,
            "object_position": null,
            "order": null,
            "overflow": null,
            "overflow_x": null,
            "overflow_y": null,
            "padding": null,
            "right": null,
            "top": null,
            "visibility": null,
            "width": null
          }
        },
        "559512366a1442758cfb50d8147f3abd": {
          "model_module": "@jupyter-widgets/base",
          "model_name": "LayoutModel",
          "model_module_version": "1.2.0",
          "state": {
            "_model_module": "@jupyter-widgets/base",
            "_model_module_version": "1.2.0",
            "_model_name": "LayoutModel",
            "_view_count": null,
            "_view_module": "@jupyter-widgets/base",
            "_view_module_version": "1.2.0",
            "_view_name": "LayoutView",
            "align_content": null,
            "align_items": null,
            "align_self": null,
            "border": null,
            "bottom": null,
            "display": null,
            "flex": null,
            "flex_flow": null,
            "grid_area": null,
            "grid_auto_columns": null,
            "grid_auto_flow": null,
            "grid_auto_rows": null,
            "grid_column": null,
            "grid_gap": null,
            "grid_row": null,
            "grid_template_areas": null,
            "grid_template_columns": null,
            "grid_template_rows": null,
            "height": null,
            "justify_content": null,
            "justify_items": null,
            "left": null,
            "margin": null,
            "max_height": null,
            "max_width": null,
            "min_height": null,
            "min_width": null,
            "object_fit": null,
            "object_position": null,
            "order": null,
            "overflow": null,
            "overflow_x": null,
            "overflow_y": null,
            "padding": null,
            "right": null,
            "top": null,
            "visibility": null,
            "width": null
          }
        },
        "e1fead6195774643a0d0e465c29c2408": {
          "model_module": "@jupyter-widgets/controls",
          "model_name": "SliderStyleModel",
          "model_module_version": "1.5.0",
          "state": {
            "_model_module": "@jupyter-widgets/controls",
            "_model_module_version": "1.5.0",
            "_model_name": "SliderStyleModel",
            "_view_count": null,
            "_view_module": "@jupyter-widgets/base",
            "_view_module_version": "1.2.0",
            "_view_name": "StyleView",
            "description_width": "",
            "handle_color": null
          }
        },
        "470713c2719341cf814796ff43a6d05d": {
          "model_module": "@jupyter-widgets/base",
          "model_name": "LayoutModel",
          "model_module_version": "1.2.0",
          "state": {
            "_model_module": "@jupyter-widgets/base",
            "_model_module_version": "1.2.0",
            "_model_name": "LayoutModel",
            "_view_count": null,
            "_view_module": "@jupyter-widgets/base",
            "_view_module_version": "1.2.0",
            "_view_name": "LayoutView",
            "align_content": null,
            "align_items": null,
            "align_self": null,
            "border": null,
            "bottom": null,
            "display": null,
            "flex": null,
            "flex_flow": null,
            "grid_area": null,
            "grid_auto_columns": null,
            "grid_auto_flow": null,
            "grid_auto_rows": null,
            "grid_column": null,
            "grid_gap": null,
            "grid_row": null,
            "grid_template_areas": null,
            "grid_template_columns": null,
            "grid_template_rows": null,
            "height": null,
            "justify_content": null,
            "justify_items": null,
            "left": null,
            "margin": null,
            "max_height": null,
            "max_width": null,
            "min_height": null,
            "min_width": null,
            "object_fit": null,
            "object_position": null,
            "order": null,
            "overflow": null,
            "overflow_x": null,
            "overflow_y": null,
            "padding": null,
            "right": null,
            "top": null,
            "visibility": null,
            "width": null
          }
        },
        "64ecfb805183475ba2527a19c10f0190": {
          "model_module": "@jupyter-widgets/controls",
          "model_name": "SliderStyleModel",
          "model_module_version": "1.5.0",
          "state": {
            "_model_module": "@jupyter-widgets/controls",
            "_model_module_version": "1.5.0",
            "_model_name": "SliderStyleModel",
            "_view_count": null,
            "_view_module": "@jupyter-widgets/base",
            "_view_module_version": "1.2.0",
            "_view_name": "StyleView",
            "description_width": "",
            "handle_color": null
          }
        },
        "2ce0ca7fb00a4a44ac4279c6f64ead14": {
          "model_module": "@jupyter-widgets/base",
          "model_name": "LayoutModel",
          "model_module_version": "1.2.0",
          "state": {
            "_model_module": "@jupyter-widgets/base",
            "_model_module_version": "1.2.0",
            "_model_name": "LayoutModel",
            "_view_count": null,
            "_view_module": "@jupyter-widgets/base",
            "_view_module_version": "1.2.0",
            "_view_name": "LayoutView",
            "align_content": null,
            "align_items": null,
            "align_self": null,
            "border": null,
            "bottom": null,
            "display": null,
            "flex": null,
            "flex_flow": null,
            "grid_area": null,
            "grid_auto_columns": null,
            "grid_auto_flow": null,
            "grid_auto_rows": null,
            "grid_column": null,
            "grid_gap": null,
            "grid_row": null,
            "grid_template_areas": null,
            "grid_template_columns": null,
            "grid_template_rows": null,
            "height": null,
            "justify_content": null,
            "justify_items": null,
            "left": null,
            "margin": null,
            "max_height": null,
            "max_width": null,
            "min_height": null,
            "min_width": null,
            "object_fit": null,
            "object_position": null,
            "order": null,
            "overflow": null,
            "overflow_x": null,
            "overflow_y": null,
            "padding": null,
            "right": null,
            "top": null,
            "visibility": null,
            "width": null
          }
        },
        "af84b24fd9084c15b4d0210f89487f62": {
          "model_module": "@jupyter-widgets/controls",
          "model_name": "SliderStyleModel",
          "model_module_version": "1.5.0",
          "state": {
            "_model_module": "@jupyter-widgets/controls",
            "_model_module_version": "1.5.0",
            "_model_name": "SliderStyleModel",
            "_view_count": null,
            "_view_module": "@jupyter-widgets/base",
            "_view_module_version": "1.2.0",
            "_view_name": "StyleView",
            "description_width": "",
            "handle_color": null
          }
        },
        "7b415501dd34463484647b6650b2a8ce": {
          "model_module": "@jupyter-widgets/base",
          "model_name": "LayoutModel",
          "model_module_version": "1.2.0",
          "state": {
            "_model_module": "@jupyter-widgets/base",
            "_model_module_version": "1.2.0",
            "_model_name": "LayoutModel",
            "_view_count": null,
            "_view_module": "@jupyter-widgets/base",
            "_view_module_version": "1.2.0",
            "_view_name": "LayoutView",
            "align_content": null,
            "align_items": null,
            "align_self": null,
            "border": null,
            "bottom": null,
            "display": null,
            "flex": null,
            "flex_flow": null,
            "grid_area": null,
            "grid_auto_columns": null,
            "grid_auto_flow": null,
            "grid_auto_rows": null,
            "grid_column": null,
            "grid_gap": null,
            "grid_row": null,
            "grid_template_areas": null,
            "grid_template_columns": null,
            "grid_template_rows": null,
            "height": null,
            "justify_content": null,
            "justify_items": null,
            "left": null,
            "margin": null,
            "max_height": null,
            "max_width": null,
            "min_height": null,
            "min_width": null,
            "object_fit": null,
            "object_position": null,
            "order": null,
            "overflow": null,
            "overflow_x": null,
            "overflow_y": null,
            "padding": null,
            "right": null,
            "top": null,
            "visibility": null,
            "width": null
          }
        }
      }
    }
  },
  "cells": [
    {
      "cell_type": "markdown",
      "metadata": {
        "id": "view-in-github",
        "colab_type": "text"
      },
      "source": [
        "<a href=\"https://colab.research.google.com/github/Rogerio-mack/Linear-Algebra/blob/main/AL1_escalares_e_vetores.ipynb\" target=\"_parent\"><img src=\"https://colab.research.google.com/assets/colab-badge.svg\" alt=\"Open In Colab\"/></a>"
      ]
    },
    {
      "cell_type": "markdown",
      "metadata": {
        "id": "80CF3Eq9EXDW"
      },
      "source": [
        "<head>\n",
        "  <meta name=\"author\" content=\"Rogério de Oliveira\">\n",
        "  <meta institution=\"author\" content=\"Universidade Presbiteriana Mackenzie\">\n",
        "</head>\n",
        "\n",
        "<img src=\"http://meusite.mackenzie.br/rogerio/mackenzie_logo/UPM.2_horizontal_vermelho.jpg\" width=300, align=\"right\">\n",
        "<!-- <h1 align=left><font size = 6, style=\"color:rgb(200,0,0)\"> optional title </font></h1> -->\n"
      ]
    },
    {
      "cell_type": "markdown",
      "metadata": {
        "id": "g1Hap25KEXDX"
      },
      "source": [
        "# **1. Álgebra Linear: Escalares e Vetores**\n",
        "---\n",
        "\n",
        "Nesta aula você vai aprender sobre:\n",
        "\n",
        "* O que são vetores e qual a sua aplicação em Ciência de Dados e outras áreas\n",
        "* Como criar e manipular vetores simples em Python e Numpy\n",
        "* Calcular a norma de um vetor e normalizar um vetor\n",
        "\n"
      ]
    },
    {
      "cell_type": "markdown",
      "source": [
        "A **Álgebra Linear** tem uma série de aplicações que vão desde a física e engenharia, como a solução de sistemas de equações como você verá aqui, até o uso em sistemas de recomendação de produtos, o processamento de imagens, grafos e a visualização de dados.\n",
        "\n",
        "Particularmente em Ciência de Dados ela desempenha um papel importante e é a base de uma série de algoritmos de Aprendizado de Máquina como redes neurais, algoritmos de clusterização e a maior parte dos classificadores e regressores. Se a a Probabilidade e Estatística é a base do Aprendizado a partir dos dados, a Álgebra Linear é a matemática que permite fazer a representação e as operações necessárias para o Aprendizado de Máquina.\n",
        "\n",
        "Neste curso você vai aprender os principais conceitos de Álgebra Linear com aplicações à Ciência de Dados, aprendendo a criar representações dos dados com vetores e matrizes e a manipular esses dados com Python.\n",
        "\n",
        "\n",
        "\n"
      ],
      "metadata": {
        "id": "j3NFMskXH7D9"
      }
    },
    {
      "cell_type": "markdown",
      "source": [
        "# Escalares\n",
        "\n",
        "Muitas grandezas podem ser representadas unicamente por um valor como uma temperatura, a nota da turma, o valor de um produto ou a quantidade de downloads de um streaming. "
      ],
      "metadata": {
        "id": "rJPxSAHbKnjt"
      }
    },
    {
      "cell_type": "code",
      "execution_count": 1,
      "metadata": {
        "execution": {},
        "id": "-fic9nB0VdyV"
      },
      "outputs": [],
      "source": [
        "#@title imports\n",
        "# Imports\n",
        "\n",
        "import numpy as np\n",
        "import matplotlib.pyplot as plt\n",
        "%matplotlib inline\n",
        "import seaborn as sns\n",
        "import warnings\n",
        "warnings.filterwarnings('ignore')\n",
        "\n",
        "import cmath\n",
        "import math \n",
        "\n",
        "import ipywidgets as widgets       # interactive display\n",
        "from ipywidgets import fixed\n",
        "%config InlineBackend.figure_format = 'retina'\n",
        "plt.style.use(\"https://github.com/Rogerio-mack/Linear-Algebra/raw/main/AL1config.mplstyle\")\n",
        "\n",
        "# figure.figsize : 8, 6\n",
        "# figure.autolayout : True\n",
        "# font.size : 15\n",
        "# xtick.labelsize : small\n",
        "# ytick.labelsize : small\n",
        "# legend.fontsize : small\n",
        "# axes.spines.top : False\n",
        "# axes.spines.right : False\n",
        "# xtick.major.size : 5\n",
        "# ytick.major.size : 5"
      ]
    },
    {
      "cell_type": "code",
      "source": [
        "#@markdown\n",
        "def f(grandeza,valor):\n",
        "  fig, ax = plt.subplots(1,1,figsize=(3,5))\n",
        " \n",
        "  plt.bar(x=0, height=valor, color='red', alpha=0.8)\n",
        "  plt.xticks([])\n",
        "  plt.ylim([min,max])\n",
        "  plt.text(0,valor + (abs(max) + abs(min))/100,str(valor))\n",
        "  plt.title(grandeza)\n",
        "  plt.show()\n",
        "\n",
        "  print(valor)\n",
        "  return \n",
        "  \n",
        "min=-5\n",
        "max=35\n",
        "step=0.01\n",
        "grandeza=['Temperatura']\n",
        "w = widgets.interactive(f,grandeza=grandeza,valor=(min,max,step))\n",
        "display(w)\n",
        "\n",
        "min=0\n",
        "max=1000\n",
        "step=1\n",
        "grandeza=['Downloads']\n",
        "w = widgets.interactive(f,grandeza=grandeza,valor=(min,max,step))\n",
        "display(w)\n",
        "\n",
        "\n"
      ],
      "metadata": {
        "colab": {
          "base_uri": "https://localhost:8080/",
          "height": 885,
          "referenced_widgets": [
            "5ae87130a5a74fe9a01a4d2cdb59c80e",
            "6fb820134573430a8021508dfe7a25de",
            "a74463fed7a54748a162e9d50b53bf52",
            "af52d9fe8bab47c2874c28f4fb322b2c",
            "43fd1d6d06ec4d1cb0fffdee79b1fe44",
            "115644afa08c4ea1b55acde8b7cc951f",
            "987b06bd06434d3da246f3c0aad59b1b",
            "6d5d743834c44db9816ee988163caf81",
            "265ffda4c718496aa017e65537a7883c",
            "b6c046c5f41045daaa66af0ea4b65904",
            "18268aa0b48045e5bb85c0baf3423f7b",
            "8b8eee9a842b490e85d6cb5a614c9bad",
            "216efe05113141c3952ab4ba91ce384c",
            "51e31e4d2b6b4d15853767b8d00f0e4c",
            "a956043072124b19bcc5fdd0914afb6c",
            "541a09e8531a41ee935626496c0d908f",
            "5ebee1c2cb58464f8a6dcd94f3475046",
            "8686f2bc65024cccba2f66c9b0a4971b",
            "26fd22d8e11d45038de75e9e54d2fef6",
            "85f8e6c9af3540a2ba702821788442f4"
          ]
        },
        "id": "ItLkqtLgP2kf",
        "outputId": "2675a1eb-c58b-4cbf-ebbc-09b9477c4291",
        "cellView": "form"
      },
      "execution_count": 2,
      "outputs": [
        {
          "output_type": "display_data",
          "data": {
            "text/plain": [
              "interactive(children=(Dropdown(description='grandeza', options=('Temperatura',), value='Temperatura'), FloatSl…"
            ],
            "application/vnd.jupyter.widget-view+json": {
              "version_major": 2,
              "version_minor": 0,
              "model_id": "5ae87130a5a74fe9a01a4d2cdb59c80e"
            }
          },
          "metadata": {}
        },
        {
          "output_type": "display_data",
          "data": {
            "text/plain": [
              "interactive(children=(Dropdown(description='grandeza', options=('Downloads',), value='Downloads'), IntSlider(v…"
            ],
            "application/vnd.jupyter.widget-view+json": {
              "version_major": 2,
              "version_minor": 0,
              "model_id": "18268aa0b48045e5bb85c0baf3423f7b"
            }
          },
          "metadata": {}
        }
      ]
    },
    {
      "cell_type": "markdown",
      "source": [
        "Todos os conjuntos abaixo podem ser empregados para representar essas grandezas que chamaremos de **escalares**. As temperaturas podem ser expressas em valores reais, contínuos, já as quantidades de downloads são valores inteiros positivos. \n",
        "\n"
      ],
      "metadata": {
        "id": "kqAUckllPRzX"
      }
    },
    {
      "cell_type": "markdown",
      "source": [
        "| Conjunto | Símbolo  |  Descrição  |\n",
        "|------|------|------------|\n",
        "|   Naturais  | $\\mathbb{N}$| ${\\mathbb{N}} = \\{0, 1, 2, 3, 4, \\cdots\\}$|\n",
        "|   Inteiros  | $\\mathbb{Z}$| ${\\mathbb{Z}} = \\mathbb{W} \\cup \\{-1, -2, \\cdots\\, 0, \\cdots\\ ,1, 2, \\cdots\\}$|\n",
        "|   Racionais | $\\mathbb{Q}$| ${\\mathbb{Q}} = \\{\\frac{p}{q} : p\\in {\\mathbb{Z}}, q\\in {\\mathbb{Z}} \\backslash \\{0\\}\\}$|\n",
        "| Irracionais| $\\mathbb{I}$| ${\\mathbb{I}}$, Valores reais não expressos por frações.|\n",
        "|   Reais     | $\\mathbb{R}$| ${\\mathbb{R}} = \\mathbb{Q} \\cup \\mathbb{I}$|\n",
        "|   Números Complexos    | $\\mathbb{C}$| ${\\mathbb{C}} = \\{a + bi : a,b\\in {\\mathbb{R}}, i = \\sqrt{-1}\\}$|"
      ],
      "metadata": {
        "id": "9BTUKc1cOLAW"
      }
    },
    {
      "cell_type": "markdown",
      "source": [
        "Em Python podemos representar qualquer grandeza ou escalar unicamente atribuindo um valor a uma variável."
      ],
      "metadata": {
        "id": "6YQMT87SWzt-"
      }
    },
    {
      "cell_type": "code",
      "source": [
        "x = 1.2 \n",
        "a = 2\n",
        "e = math.exp(1)\n",
        "i = complex(1,0)"
      ],
      "metadata": {
        "id": "HOYf3cUbKpTn"
      },
      "execution_count": 3,
      "outputs": []
    },
    {
      "cell_type": "code",
      "source": [
        "print(x, type(x))\n",
        "print(a, type(a))\n",
        "print(e, type(e))\n",
        "print(i, type(i))"
      ],
      "metadata": {
        "id": "aqQcui40McWp",
        "colab": {
          "base_uri": "https://localhost:8080/"
        },
        "outputId": "7b539a74-18d8-4541-b06b-a95aeafcffb6"
      },
      "execution_count": 4,
      "outputs": [
        {
          "output_type": "stream",
          "name": "stdout",
          "text": [
            "1.2 <class 'float'>\n",
            "2 <class 'int'>\n",
            "2.718281828459045 <class 'float'>\n",
            "(1+0j) <class 'complex'>\n"
          ]
        }
      ]
    },
    {
      "cell_type": "markdown",
      "source": [
        "> **O sinal $=$ como em `x = 1.2` acima denota uma atribuição, isto é, a *variável* `x` *recebe* o valor $1.2$, e talvez você possa pensar esse `=` como $x \\leftarrow 1.2$.Assim, toda vez que você fizer um cálculo com `x` será empregado o valor contido em `x`, assim como você emprega usar funções nos cursos de matemática...**\n",
        "\n",
        "> $$y = x^2+1, \\text{portanto, se } x \\leftarrow 2, y = 5$$\n",
        "\n",
        "> **E em Python escrevemos:**\n",
        "\n"
      ],
      "metadata": {
        "id": "SV-rxR7PW2Uu"
      }
    },
    {
      "cell_type": "code",
      "source": [
        "x = 2\n",
        "y = x**2 + 1\n",
        "y"
      ],
      "metadata": {
        "colab": {
          "base_uri": "https://localhost:8080/"
        },
        "id": "3uYILB9SXKCv",
        "outputId": "3c8b1af2-b290-42df-bef7-710865f1abf2"
      },
      "execution_count": 5,
      "outputs": [
        {
          "output_type": "execute_result",
          "data": {
            "text/plain": [
              "5"
            ]
          },
          "metadata": {},
          "execution_count": 5
        }
      ]
    },
    {
      "cell_type": "markdown",
      "source": [
        "# Operações em Python\n",
        "\n",
        "O Python suporta as operações mais comuns sobre valores como,"
      ],
      "metadata": {
        "id": "JxjJOZ00YMXB"
      }
    },
    {
      "cell_type": "markdown",
      "source": [
        "| Operação | Símbolo  | Exemplo  | Resultado |\n",
        "|------|------|------------|-----\n",
        "| Multiplicação | * | 3 * 4  | 12 |\n",
        "| Adição | + | 3 + 4  | 7 |\n",
        "| Subtração | - | 3 - 4  | -1 |\n",
        "| Divisão | / | 3 / 4  | 0.75 |\n",
        "| Potenciação | ** | 3 ** 2  | 9 |\n",
        "| Divisão inteira | // | 3 // 4  | 0 |\n",
        "| Resto da Divisão | % | 3 % 2  | 1 |"
      ],
      "metadata": {
        "id": "0I_IuHciZA1I"
      }
    },
    {
      "cell_type": "markdown",
      "source": [
        "Essas operações podem ser empregadas diretamente com valores ou variáveis. "
      ],
      "metadata": {
        "id": "KO-hjUfQaqUU"
      }
    },
    {
      "cell_type": "code",
      "source": [
        "print( 3 * 4 )\n",
        "print( 3 ** 2)\n",
        "print( 4 // 3 )"
      ],
      "metadata": {
        "colab": {
          "base_uri": "https://localhost:8080/"
        },
        "id": "_wDoZqtIazQ1",
        "outputId": "b45bbe11-40df-4b2c-ce1e-e8fb1a06f6fa"
      },
      "execution_count": 6,
      "outputs": [
        {
          "output_type": "stream",
          "name": "stdout",
          "text": [
            "12\n",
            "9\n",
            "1\n"
          ]
        }
      ]
    },
    {
      "cell_type": "code",
      "source": [
        "x = 3\n",
        "y = 4\n",
        "z = 2\n",
        "\n",
        "print( x * y )\n",
        "print( x ** z )\n",
        "print( y // x )"
      ],
      "metadata": {
        "colab": {
          "base_uri": "https://localhost:8080/"
        },
        "id": "6MPQv_zhbfVL",
        "outputId": "fcee67b3-43c0-44d9-ca1f-18ac2056fc42"
      },
      "execution_count": 7,
      "outputs": [
        {
          "output_type": "stream",
          "name": "stdout",
          "text": [
            "12\n",
            "9\n",
            "1\n"
          ]
        }
      ]
    },
    {
      "cell_type": "markdown",
      "source": [
        "> **Tente você**. Tente você calcular o valor da expressão abaixo para os valores de `x`, `y` e `z` acima.\n",
        "\n",
        "> $$ \\frac{ x y }{ z^z + \\frac{y}{x} } $$\n",
        "\n",
        "> Dica, **empregue parêntesis** do mesmo modo que você faria em uma expressão matemática. "
      ],
      "metadata": {
        "id": "cQe7GpGScnY9"
      }
    },
    {
      "cell_type": "code",
      "source": [
        "#@markdown Solução \n",
        "# (3*4)/(2**2 + 4/2)\n",
        "(x*y) / (z**z + y/z)"
      ],
      "metadata": {
        "colab": {
          "base_uri": "https://localhost:8080/"
        },
        "cellView": "form",
        "id": "M_HbIQOtcmpJ",
        "outputId": "9b7b58e9-77ff-4b90-bcec-c417e79c2a97"
      },
      "execution_count": 8,
      "outputs": [
        {
          "output_type": "execute_result",
          "data": {
            "text/plain": [
              "2.0"
            ]
          },
          "metadata": {},
          "execution_count": 8
        }
      ]
    },
    {
      "cell_type": "markdown",
      "source": [
        "Alguns valores e algumas funções especiais, como os valores $\\pi$ e $e$, ou funções trigonométricas e exponenciais, podem requerer bibliotecas Python, como o `math` e `NumPy`, que adicionam novas funções à linguagem."
      ],
      "metadata": {
        "id": "SapZu2h5b33E"
      }
    },
    {
      "cell_type": "code",
      "source": [
        "import math\n",
        "import numpy as np\n",
        "\n",
        "e = math.exp(1)\n",
        "pi = np.pi\n",
        "\n",
        "print( e, pi, np.sin(pi/2) )\n"
      ],
      "metadata": {
        "colab": {
          "base_uri": "https://localhost:8080/"
        },
        "id": "-iVNLdtWb3MN",
        "outputId": "58daee75-7b9d-463d-d61f-0e56956652fe"
      },
      "execution_count": 9,
      "outputs": [
        {
          "output_type": "stream",
          "name": "stdout",
          "text": [
            "2.718281828459045 3.141592653589793 1.0\n"
          ]
        }
      ]
    },
    {
      "cell_type": "markdown",
      "source": [
        "# Tipos numéricos\n"
      ],
      "metadata": {
        "id": "NvRshnqje3Od"
      }
    },
    {
      "cell_type": "code",
      "source": [
        "print( type(x) )"
      ],
      "metadata": {
        "colab": {
          "base_uri": "https://localhost:8080/"
        },
        "id": "rwvv9TnmfCpr",
        "outputId": "90a27765-983c-45f4-ffba-f9efb42509bf"
      },
      "execution_count": 10,
      "outputs": [
        {
          "output_type": "stream",
          "name": "stdout",
          "text": [
            "<class 'int'>\n"
          ]
        }
      ]
    },
    {
      "cell_type": "code",
      "source": [
        "print( type(e) )"
      ],
      "metadata": {
        "colab": {
          "base_uri": "https://localhost:8080/"
        },
        "id": "zwDjyGnZfGZg",
        "outputId": "b9420edd-187c-4e70-c053-b1f8e2d4920c"
      },
      "execution_count": 11,
      "outputs": [
        {
          "output_type": "stream",
          "name": "stdout",
          "text": [
            "<class 'float'>\n"
          ]
        }
      ]
    },
    {
      "cell_type": "code",
      "source": [
        "print( type(pi) )"
      ],
      "metadata": {
        "colab": {
          "base_uri": "https://localhost:8080/"
        },
        "id": "XnzdVLxkfJNm",
        "outputId": "e8bf2f8c-7c6b-47cb-bc28-0a4a52ca0023"
      },
      "execution_count": 12,
      "outputs": [
        {
          "output_type": "stream",
          "name": "stdout",
          "text": [
            "<class 'float'>\n"
          ]
        }
      ]
    },
    {
      "cell_type": "markdown",
      "source": [
        "Os tipos numéricos em Python, ou os valores escalares,  podem ser divididos em dois tipos básicos, \n",
        "\n",
        "* inteiros, `int`, como $1, -1, 55, 23, 0$\n",
        "\n",
        "* valores reais, `float`, como $3/4, 0.75, -0.1, 0.0$  e valores especiais como o $\\pi$ e $e$.\n",
        "\n",
        "Existem ainda os números imaginários, que são também escalares. Mas para os nossos propósitos vamos nos referir aqui aos valores escalares como sendo sempre valores não imaginários. "
      ],
      "metadata": {
        "id": "PahiRrFdfN0o"
      }
    },
    {
      "cell_type": "markdown",
      "source": [
        "> **O nome `float` deriva da notação em ponto flutuante empregada para expressar valores fracionários a partir de uma mantissa inteira e um expoente. Em um computador os valores são representados por valores binários, *sem vírgula*!, e a forma de representarmos valores fracionários pode ser feita empregando uma mantissa e um expoente inteiro sobre uma base:**\n",
        "\n",
        "> $$\\text{valor} = \\text{mantissa} \\times \\text{base}^\\text{expoente}$$\n",
        "\n",
        "> $$3.75 = 375 \\times 10^{-2}$$\n",
        "\n",
        "> **Veja que do lado direito da expressão acima só existem valores inteiros e, assim, podemos representar qualquer valor fracionário e valores irracionais dentro de uma certa precisão.** "
      ],
      "metadata": {
        "id": "y8Pk6llHgXfh"
      }
    },
    {
      "cell_type": "markdown",
      "source": [
        "Existem muitas outras operações matemáticas e funções, mas essa introdução será bastante suficiente. De qualquer modo, veja aqui as funções matemáticas disponíveis no pacote `math`."
      ],
      "metadata": {
        "id": "cAQSqnxCiAlT"
      }
    },
    {
      "cell_type": "code",
      "source": [
        "dir(math)[0:20]"
      ],
      "metadata": {
        "colab": {
          "base_uri": "https://localhost:8080/"
        },
        "id": "XIRkIxECkBvi",
        "outputId": "77ba020e-f521-4710-fa0d-c612b606d18a"
      },
      "execution_count": 13,
      "outputs": [
        {
          "output_type": "execute_result",
          "data": {
            "text/plain": [
              "['__doc__',\n",
              " '__loader__',\n",
              " '__name__',\n",
              " '__package__',\n",
              " '__spec__',\n",
              " 'acos',\n",
              " 'acosh',\n",
              " 'asin',\n",
              " 'asinh',\n",
              " 'atan',\n",
              " 'atan2',\n",
              " 'atanh',\n",
              " 'ceil',\n",
              " 'copysign',\n",
              " 'cos',\n",
              " 'cosh',\n",
              " 'degrees',\n",
              " 'e',\n",
              " 'erf',\n",
              " 'erfc']"
            ]
          },
          "metadata": {},
          "execution_count": 13
        }
      ]
    },
    {
      "cell_type": "markdown",
      "source": [
        "> **Tente você**. A função abaixo,\n",
        "\n",
        "> $$ f(x) = \\frac{1}{1+e^{-x}}  $$\n",
        "\n",
        "> ou ainda,\n",
        "\n",
        "> $$ f(x) = \\frac{e^x}{e^x +1} $$\n",
        "\n",
        "> É conhecida como função logística e desempenha um papel importante em Ciência de Dados e você certamente encontrará essa função novamente ao estudar modelos de aprendizado de máquina para classificação, ou ainda redes neurais, onde essa função é empregada como função de ativação. Empregue as funções do pacote `math` para alterara o código abaixo e calcular as duas expressões acima para valores de $x$ entre $[0, 1]$. "
      ],
      "metadata": {
        "id": "BNFDyapWkS2T"
      }
    },
    {
      "cell_type": "code",
      "source": [
        "def logit1(x):\n",
        "  return x # coloque no lugar do x o calculo da expressão 1 para x\n",
        "\n",
        "def logit2(x):\n",
        "  return x # coloque no lugar do x o calculo da expressão 2 para x\n",
        "  \n",
        "def f(x):\n",
        "  print('Retorno da Expressão 1: ', logit1(x))\n",
        "  print('Retorno da Expressão 2: ', logit2(x))\n",
        "  return \n",
        "  \n",
        "min=0\n",
        "max=1\n",
        "step=0.01\n",
        "\n",
        "w = widgets.interactive(f,x=(min,max,step))\n",
        "display(w)\n",
        "\n"
      ],
      "metadata": {
        "colab": {
          "base_uri": "https://localhost:8080/",
          "height": 85,
          "referenced_widgets": [
            "0a8c13602c5948f9b8369f4a5c59ac55",
            "da012161f8c64c2b9b0e71805153bddb",
            "380c11ae278742d2bf2f68643f2d7474",
            "bb392dbaa93b40ffb2040959bb1349a0",
            "9ed8abe4155748cea223a68314b279b1",
            "45f7ee4529da4e6ba408137e5d47d1b7",
            "184a217672ec4d68ac9ce715ac68ab79"
          ]
        },
        "id": "82fS_756lLPM",
        "outputId": "3dd6ec32-f8da-4943-cb87-7b71e3096592"
      },
      "execution_count": 14,
      "outputs": [
        {
          "output_type": "display_data",
          "data": {
            "text/plain": [
              "interactive(children=(FloatSlider(value=0.0, description='x', max=1.0, step=0.01), Output()), _dom_classes=('w…"
            ],
            "application/vnd.jupyter.widget-view+json": {
              "version_major": 2,
              "version_minor": 0,
              "model_id": "0a8c13602c5948f9b8369f4a5c59ac55"
            }
          },
          "metadata": {}
        }
      ]
    },
    {
      "cell_type": "code",
      "source": [
        "#@markdown Solução\n",
        "def logit1(x):\n",
        "  return 1 / (1 + math.exp(-x)) # coloque no lugar do x o calculo da expressão 1 para x\n",
        "\n",
        "def logit2(x):\n",
        "  return math.exp(x) / (math.exp(x) + 1) # coloque no lugar do x o calculo da expressão 2 para x\n",
        "  \n",
        "def f(x):\n",
        "  print('Retorno da Expressão 1: ', logit1(x))\n",
        "  print('Retorno da Expressão 2: ', logit2(x))\n",
        "  return \n",
        "  \n",
        "min=0\n",
        "max=1\n",
        "step=0.01\n",
        "\n",
        "w = widgets.interactive(f,x=(min,max,step))\n",
        "display(w)\n",
        "\n"
      ],
      "metadata": {
        "colab": {
          "base_uri": "https://localhost:8080/",
          "height": 85,
          "referenced_widgets": [
            "bf509bf53650486180b94af2966bb605",
            "c5eb457a091c4fae95f61202af500d1b",
            "307c111828d24c8dbb3c43c9e1bb82b9",
            "f94bf88018e2451981bd70450e0f955f",
            "6a04883a50394a1e9a64ef69d671d68d",
            "03d72583da2841cca5319f893d73fd23",
            "d4be96d3e99f4c3ea706a56207b6b29c"
          ]
        },
        "outputId": "d6225150-0883-4488-9364-0568787b62e2",
        "cellView": "form",
        "id": "c3_2QAP0oEHr"
      },
      "execution_count": 15,
      "outputs": [
        {
          "output_type": "display_data",
          "data": {
            "text/plain": [
              "interactive(children=(FloatSlider(value=0.0, description='x', max=1.0, step=0.01), Output()), _dom_classes=('w…"
            ],
            "application/vnd.jupyter.widget-view+json": {
              "version_major": 2,
              "version_minor": 0,
              "model_id": "bf509bf53650486180b94af2966bb605"
            }
          },
          "metadata": {}
        }
      ]
    },
    {
      "cell_type": "markdown",
      "source": [
        "# Vetores\n",
        "\n",
        "Para algumas grandezas não é suficiente empregarmos apenas um valor para caracteriza-la. É o caso de grandezas como uma força,  velocidade ou  deslocamento. Essas grandezas, para serem bem definidas ou descritas completamente, além de um valor requerem um *sentido* e uma *direção*. É aí que entram os *vetores*. Diferentemente de uma temperatura ou a sua altura, que pode ser bem definidas apenas com a resposta à pergunta *Quanto?*, 28 graus ou 1.70m, essas grandezas precisam de algo além de sua **magnitude**, ou valor."
      ],
      "metadata": {
        "id": "ZiZvM1diiw1S"
      }
    },
    {
      "cell_type": "markdown",
      "metadata": {
        "id": "u9_QVTZte1M6"
      },
      "source": [
        "<img src=\"https://textimgs.s3.amazonaws.com/boundless-physics/freebodydiagram3-pn.svg#fixme\" width=300, align=\"center\">\n",
        "\n",
        "\n",
        "<small><b>Forças como vetores : Corpo livre de um objeto sobre uma superfície plana e um plano inclinado. As forças são resolvidas como vetores para determinar suas magnitudes e a força resultante.</b> (fonte: https://courses.lumenlearning.com/boundless-physics/chapter/vector-nature-of-forces/)\n",
        "\n"
      ]
    },
    {
      "cell_type": "markdown",
      "source": [
        "<img src=\"https://s3-us-west-2.amazonaws.com/courses-images/wp-content/uploads/sites/648/2016/11/03230528/Figure_03_05_02a.jpg\" width=300, align=\"center\">\n",
        "\n",
        "\n",
        "<small><b>Um avião indo direto para o norte é, em vez disso, levado para o oeste e desacelerado pelo vento. O avião não se move em relação ao solo na direção que aponta; em vez disso, ele se move na direção de sua velocidade total, a seta sólida dada pelo vetor resultante.</b> (fonte: https://courses.lumenlearning.com/physics/chapter/3-5-addition-of-velocities/)"
      ],
      "metadata": {
        "id": "YlhEOHZ_fItK"
      }
    },
    {
      "cell_type": "markdown",
      "source": [
        "Mas os vetores não servem somente para representar elementos físicos como acima.  Os vetores são também o objeto matemático mais fundamental no campo do aprendizado de máquina e são empregados para caracterizar entidades que não podem ser representadas unicamente por um valor. \n",
        "\n",
        "Por exemplo, cada funcionário abaixo, é uma entidade representada por diferentes valores como genero, idade, senioridade, renda (income) etc. \n",
        "\n",
        "\n",
        "\n"
      ],
      "metadata": {
        "id": "CHDZzifa3XVb"
      }
    },
    {
      "cell_type": "code",
      "source": [
        "import pandas as pd\n",
        "df = pd.read_csv('https://meusite.mackenzie.br/rogerio/data_load/glassdoordata.csv')\n",
        "df.head()"
      ],
      "metadata": {
        "colab": {
          "base_uri": "https://localhost:8080/",
          "height": 206
        },
        "id": "P4FZbdOT4vhU",
        "outputId": "4f8e2ef7-4d2f-4018-9dc1-090cc47c0be5"
      },
      "execution_count": 16,
      "outputs": [
        {
          "output_type": "execute_result",
          "data": {
            "text/plain": [
              "              jobtitle  gender  age  performance education      department  \\\n",
              "0     Graphic Designer  Female   18            5   College      Operations   \n",
              "1    Software Engineer    Male   21            5   College      Management   \n",
              "2  Warehouse Associate  Female   19            4       PhD  Administration   \n",
              "3    Software Engineer    Male   20            5   Masters           Sales   \n",
              "4     Graphic Designer    Male   26            5   Masters     Engineering   \n",
              "\n",
              "   seniority  income  bonus  \n",
              "0          2   42363   9938  \n",
              "1          5  108476  11128  \n",
              "2          5   90208   9268  \n",
              "3          4  108080  10154  \n",
              "4          5   99464   9319  "
            ],
            "text/html": [
              "\n",
              "  <div id=\"df-d731590e-2f04-4c44-96ae-731b91b42c36\">\n",
              "    <div class=\"colab-df-container\">\n",
              "      <div>\n",
              "<style scoped>\n",
              "    .dataframe tbody tr th:only-of-type {\n",
              "        vertical-align: middle;\n",
              "    }\n",
              "\n",
              "    .dataframe tbody tr th {\n",
              "        vertical-align: top;\n",
              "    }\n",
              "\n",
              "    .dataframe thead th {\n",
              "        text-align: right;\n",
              "    }\n",
              "</style>\n",
              "<table border=\"1\" class=\"dataframe\">\n",
              "  <thead>\n",
              "    <tr style=\"text-align: right;\">\n",
              "      <th></th>\n",
              "      <th>jobtitle</th>\n",
              "      <th>gender</th>\n",
              "      <th>age</th>\n",
              "      <th>performance</th>\n",
              "      <th>education</th>\n",
              "      <th>department</th>\n",
              "      <th>seniority</th>\n",
              "      <th>income</th>\n",
              "      <th>bonus</th>\n",
              "    </tr>\n",
              "  </thead>\n",
              "  <tbody>\n",
              "    <tr>\n",
              "      <th>0</th>\n",
              "      <td>Graphic Designer</td>\n",
              "      <td>Female</td>\n",
              "      <td>18</td>\n",
              "      <td>5</td>\n",
              "      <td>College</td>\n",
              "      <td>Operations</td>\n",
              "      <td>2</td>\n",
              "      <td>42363</td>\n",
              "      <td>9938</td>\n",
              "    </tr>\n",
              "    <tr>\n",
              "      <th>1</th>\n",
              "      <td>Software Engineer</td>\n",
              "      <td>Male</td>\n",
              "      <td>21</td>\n",
              "      <td>5</td>\n",
              "      <td>College</td>\n",
              "      <td>Management</td>\n",
              "      <td>5</td>\n",
              "      <td>108476</td>\n",
              "      <td>11128</td>\n",
              "    </tr>\n",
              "    <tr>\n",
              "      <th>2</th>\n",
              "      <td>Warehouse Associate</td>\n",
              "      <td>Female</td>\n",
              "      <td>19</td>\n",
              "      <td>4</td>\n",
              "      <td>PhD</td>\n",
              "      <td>Administration</td>\n",
              "      <td>5</td>\n",
              "      <td>90208</td>\n",
              "      <td>9268</td>\n",
              "    </tr>\n",
              "    <tr>\n",
              "      <th>3</th>\n",
              "      <td>Software Engineer</td>\n",
              "      <td>Male</td>\n",
              "      <td>20</td>\n",
              "      <td>5</td>\n",
              "      <td>Masters</td>\n",
              "      <td>Sales</td>\n",
              "      <td>4</td>\n",
              "      <td>108080</td>\n",
              "      <td>10154</td>\n",
              "    </tr>\n",
              "    <tr>\n",
              "      <th>4</th>\n",
              "      <td>Graphic Designer</td>\n",
              "      <td>Male</td>\n",
              "      <td>26</td>\n",
              "      <td>5</td>\n",
              "      <td>Masters</td>\n",
              "      <td>Engineering</td>\n",
              "      <td>5</td>\n",
              "      <td>99464</td>\n",
              "      <td>9319</td>\n",
              "    </tr>\n",
              "  </tbody>\n",
              "</table>\n",
              "</div>\n",
              "      <button class=\"colab-df-convert\" onclick=\"convertToInteractive('df-d731590e-2f04-4c44-96ae-731b91b42c36')\"\n",
              "              title=\"Convert this dataframe to an interactive table.\"\n",
              "              style=\"display:none;\">\n",
              "        \n",
              "  <svg xmlns=\"http://www.w3.org/2000/svg\" height=\"24px\"viewBox=\"0 0 24 24\"\n",
              "       width=\"24px\">\n",
              "    <path d=\"M0 0h24v24H0V0z\" fill=\"none\"/>\n",
              "    <path d=\"M18.56 5.44l.94 2.06.94-2.06 2.06-.94-2.06-.94-.94-2.06-.94 2.06-2.06.94zm-11 1L8.5 8.5l.94-2.06 2.06-.94-2.06-.94L8.5 2.5l-.94 2.06-2.06.94zm10 10l.94 2.06.94-2.06 2.06-.94-2.06-.94-.94-2.06-.94 2.06-2.06.94z\"/><path d=\"M17.41 7.96l-1.37-1.37c-.4-.4-.92-.59-1.43-.59-.52 0-1.04.2-1.43.59L10.3 9.45l-7.72 7.72c-.78.78-.78 2.05 0 2.83L4 21.41c.39.39.9.59 1.41.59.51 0 1.02-.2 1.41-.59l7.78-7.78 2.81-2.81c.8-.78.8-2.07 0-2.86zM5.41 20L4 18.59l7.72-7.72 1.47 1.35L5.41 20z\"/>\n",
              "  </svg>\n",
              "      </button>\n",
              "      \n",
              "  <style>\n",
              "    .colab-df-container {\n",
              "      display:flex;\n",
              "      flex-wrap:wrap;\n",
              "      gap: 12px;\n",
              "    }\n",
              "\n",
              "    .colab-df-convert {\n",
              "      background-color: #E8F0FE;\n",
              "      border: none;\n",
              "      border-radius: 50%;\n",
              "      cursor: pointer;\n",
              "      display: none;\n",
              "      fill: #1967D2;\n",
              "      height: 32px;\n",
              "      padding: 0 0 0 0;\n",
              "      width: 32px;\n",
              "    }\n",
              "\n",
              "    .colab-df-convert:hover {\n",
              "      background-color: #E2EBFA;\n",
              "      box-shadow: 0px 1px 2px rgba(60, 64, 67, 0.3), 0px 1px 3px 1px rgba(60, 64, 67, 0.15);\n",
              "      fill: #174EA6;\n",
              "    }\n",
              "\n",
              "    [theme=dark] .colab-df-convert {\n",
              "      background-color: #3B4455;\n",
              "      fill: #D2E3FC;\n",
              "    }\n",
              "\n",
              "    [theme=dark] .colab-df-convert:hover {\n",
              "      background-color: #434B5C;\n",
              "      box-shadow: 0px 1px 3px 1px rgba(0, 0, 0, 0.15);\n",
              "      filter: drop-shadow(0px 1px 2px rgba(0, 0, 0, 0.3));\n",
              "      fill: #FFFFFF;\n",
              "    }\n",
              "  </style>\n",
              "\n",
              "      <script>\n",
              "        const buttonEl =\n",
              "          document.querySelector('#df-d731590e-2f04-4c44-96ae-731b91b42c36 button.colab-df-convert');\n",
              "        buttonEl.style.display =\n",
              "          google.colab.kernel.accessAllowed ? 'block' : 'none';\n",
              "\n",
              "        async function convertToInteractive(key) {\n",
              "          const element = document.querySelector('#df-d731590e-2f04-4c44-96ae-731b91b42c36');\n",
              "          const dataTable =\n",
              "            await google.colab.kernel.invokeFunction('convertToInteractive',\n",
              "                                                     [key], {});\n",
              "          if (!dataTable) return;\n",
              "\n",
              "          const docLinkHtml = 'Like what you see? Visit the ' +\n",
              "            '<a target=\"_blank\" href=https://colab.research.google.com/notebooks/data_table.ipynb>data table notebook</a>'\n",
              "            + ' to learn more about interactive tables.';\n",
              "          element.innerHTML = '';\n",
              "          dataTable['output_type'] = 'display_data';\n",
              "          await google.colab.output.renderOutput(dataTable, element);\n",
              "          const docLink = document.createElement('div');\n",
              "          docLink.innerHTML = docLinkHtml;\n",
              "          element.appendChild(docLink);\n",
              "        }\n",
              "      </script>\n",
              "    </div>\n",
              "  </div>\n",
              "  "
            ]
          },
          "metadata": {},
          "execution_count": 16
        }
      ]
    },
    {
      "cell_type": "markdown",
      "source": [
        "Ou cada país pode ser caracterizado por diferentes índices de desenvolvimento, como renda per capta, expectativa de vida, mortalidade infantil etc."
      ],
      "metadata": {
        "id": "6f1OHalh6ku8"
      }
    },
    {
      "cell_type": "code",
      "source": [
        "import pandas as pd\n",
        "df = pd.read_csv('https://meusite.mackenzie.br/rogerio/data_load/gapminder_2015.csv')\n",
        "df.head()"
      ],
      "metadata": {
        "colab": {
          "base_uri": "https://localhost:8080/",
          "height": 305
        },
        "id": "wV49BWE84Agz",
        "outputId": "fbb8fad8-49de-4f4a-9057-002f722214f1"
      },
      "execution_count": 17,
      "outputs": [
        {
          "output_type": "execute_result",
          "data": {
            "text/plain": [
              "  continent        country  year  demox_eiu  income_per_person  invest_%_gdp  \\\n",
              "0    Africa       Botswana  2015       78.7              15700          32.1   \n",
              "1    Africa   Burkina Faso  2015       47.0               1600          24.3   \n",
              "2    Africa  Cote d'Ivoire  2015       33.1               3230          20.1   \n",
              "3    Africa          Egypt  2015       31.8              10200          14.3   \n",
              "4    Africa          Kenya  2015       53.3               2800          21.5   \n",
              "\n",
              "   tax_%_gdp  gini_index  LifeExpect  HappyIdx  SchoolYears15_24  \\\n",
              "0       24.7        60.5        66.9     0.376              8.40   \n",
              "1       15.1        35.5        60.7     0.442              3.76   \n",
              "2       15.4        41.6        61.0     0.445              6.59   \n",
              "3       12.5        31.2        70.2     0.476             10.60   \n",
              "4       16.3        41.5        64.7     0.436              9.06   \n",
              "\n",
              "   VacineBelieve  ChildMortality  Co2Emissions   CPI  Population  \n",
              "0            NaN            40.7         2.560  63.0     2120000  \n",
              "1            NaN            86.8         0.182  38.0    18100000  \n",
              "2            NaN            90.0         0.405  32.0    23200000  \n",
              "3            NaN            23.6         2.370  36.0    92400000  \n",
              "4            NaN            46.3         0.341  25.0    47900000  "
            ],
            "text/html": [
              "\n",
              "  <div id=\"df-7e80e3a3-018b-463a-a3cb-6f65317d8bf3\">\n",
              "    <div class=\"colab-df-container\">\n",
              "      <div>\n",
              "<style scoped>\n",
              "    .dataframe tbody tr th:only-of-type {\n",
              "        vertical-align: middle;\n",
              "    }\n",
              "\n",
              "    .dataframe tbody tr th {\n",
              "        vertical-align: top;\n",
              "    }\n",
              "\n",
              "    .dataframe thead th {\n",
              "        text-align: right;\n",
              "    }\n",
              "</style>\n",
              "<table border=\"1\" class=\"dataframe\">\n",
              "  <thead>\n",
              "    <tr style=\"text-align: right;\">\n",
              "      <th></th>\n",
              "      <th>continent</th>\n",
              "      <th>country</th>\n",
              "      <th>year</th>\n",
              "      <th>demox_eiu</th>\n",
              "      <th>income_per_person</th>\n",
              "      <th>invest_%_gdp</th>\n",
              "      <th>tax_%_gdp</th>\n",
              "      <th>gini_index</th>\n",
              "      <th>LifeExpect</th>\n",
              "      <th>HappyIdx</th>\n",
              "      <th>SchoolYears15_24</th>\n",
              "      <th>VacineBelieve</th>\n",
              "      <th>ChildMortality</th>\n",
              "      <th>Co2Emissions</th>\n",
              "      <th>CPI</th>\n",
              "      <th>Population</th>\n",
              "    </tr>\n",
              "  </thead>\n",
              "  <tbody>\n",
              "    <tr>\n",
              "      <th>0</th>\n",
              "      <td>Africa</td>\n",
              "      <td>Botswana</td>\n",
              "      <td>2015</td>\n",
              "      <td>78.7</td>\n",
              "      <td>15700</td>\n",
              "      <td>32.1</td>\n",
              "      <td>24.7</td>\n",
              "      <td>60.5</td>\n",
              "      <td>66.9</td>\n",
              "      <td>0.376</td>\n",
              "      <td>8.40</td>\n",
              "      <td>NaN</td>\n",
              "      <td>40.7</td>\n",
              "      <td>2.560</td>\n",
              "      <td>63.0</td>\n",
              "      <td>2120000</td>\n",
              "    </tr>\n",
              "    <tr>\n",
              "      <th>1</th>\n",
              "      <td>Africa</td>\n",
              "      <td>Burkina Faso</td>\n",
              "      <td>2015</td>\n",
              "      <td>47.0</td>\n",
              "      <td>1600</td>\n",
              "      <td>24.3</td>\n",
              "      <td>15.1</td>\n",
              "      <td>35.5</td>\n",
              "      <td>60.7</td>\n",
              "      <td>0.442</td>\n",
              "      <td>3.76</td>\n",
              "      <td>NaN</td>\n",
              "      <td>86.8</td>\n",
              "      <td>0.182</td>\n",
              "      <td>38.0</td>\n",
              "      <td>18100000</td>\n",
              "    </tr>\n",
              "    <tr>\n",
              "      <th>2</th>\n",
              "      <td>Africa</td>\n",
              "      <td>Cote d'Ivoire</td>\n",
              "      <td>2015</td>\n",
              "      <td>33.1</td>\n",
              "      <td>3230</td>\n",
              "      <td>20.1</td>\n",
              "      <td>15.4</td>\n",
              "      <td>41.6</td>\n",
              "      <td>61.0</td>\n",
              "      <td>0.445</td>\n",
              "      <td>6.59</td>\n",
              "      <td>NaN</td>\n",
              "      <td>90.0</td>\n",
              "      <td>0.405</td>\n",
              "      <td>32.0</td>\n",
              "      <td>23200000</td>\n",
              "    </tr>\n",
              "    <tr>\n",
              "      <th>3</th>\n",
              "      <td>Africa</td>\n",
              "      <td>Egypt</td>\n",
              "      <td>2015</td>\n",
              "      <td>31.8</td>\n",
              "      <td>10200</td>\n",
              "      <td>14.3</td>\n",
              "      <td>12.5</td>\n",
              "      <td>31.2</td>\n",
              "      <td>70.2</td>\n",
              "      <td>0.476</td>\n",
              "      <td>10.60</td>\n",
              "      <td>NaN</td>\n",
              "      <td>23.6</td>\n",
              "      <td>2.370</td>\n",
              "      <td>36.0</td>\n",
              "      <td>92400000</td>\n",
              "    </tr>\n",
              "    <tr>\n",
              "      <th>4</th>\n",
              "      <td>Africa</td>\n",
              "      <td>Kenya</td>\n",
              "      <td>2015</td>\n",
              "      <td>53.3</td>\n",
              "      <td>2800</td>\n",
              "      <td>21.5</td>\n",
              "      <td>16.3</td>\n",
              "      <td>41.5</td>\n",
              "      <td>64.7</td>\n",
              "      <td>0.436</td>\n",
              "      <td>9.06</td>\n",
              "      <td>NaN</td>\n",
              "      <td>46.3</td>\n",
              "      <td>0.341</td>\n",
              "      <td>25.0</td>\n",
              "      <td>47900000</td>\n",
              "    </tr>\n",
              "  </tbody>\n",
              "</table>\n",
              "</div>\n",
              "      <button class=\"colab-df-convert\" onclick=\"convertToInteractive('df-7e80e3a3-018b-463a-a3cb-6f65317d8bf3')\"\n",
              "              title=\"Convert this dataframe to an interactive table.\"\n",
              "              style=\"display:none;\">\n",
              "        \n",
              "  <svg xmlns=\"http://www.w3.org/2000/svg\" height=\"24px\"viewBox=\"0 0 24 24\"\n",
              "       width=\"24px\">\n",
              "    <path d=\"M0 0h24v24H0V0z\" fill=\"none\"/>\n",
              "    <path d=\"M18.56 5.44l.94 2.06.94-2.06 2.06-.94-2.06-.94-.94-2.06-.94 2.06-2.06.94zm-11 1L8.5 8.5l.94-2.06 2.06-.94-2.06-.94L8.5 2.5l-.94 2.06-2.06.94zm10 10l.94 2.06.94-2.06 2.06-.94-2.06-.94-.94-2.06-.94 2.06-2.06.94z\"/><path d=\"M17.41 7.96l-1.37-1.37c-.4-.4-.92-.59-1.43-.59-.52 0-1.04.2-1.43.59L10.3 9.45l-7.72 7.72c-.78.78-.78 2.05 0 2.83L4 21.41c.39.39.9.59 1.41.59.51 0 1.02-.2 1.41-.59l7.78-7.78 2.81-2.81c.8-.78.8-2.07 0-2.86zM5.41 20L4 18.59l7.72-7.72 1.47 1.35L5.41 20z\"/>\n",
              "  </svg>\n",
              "      </button>\n",
              "      \n",
              "  <style>\n",
              "    .colab-df-container {\n",
              "      display:flex;\n",
              "      flex-wrap:wrap;\n",
              "      gap: 12px;\n",
              "    }\n",
              "\n",
              "    .colab-df-convert {\n",
              "      background-color: #E8F0FE;\n",
              "      border: none;\n",
              "      border-radius: 50%;\n",
              "      cursor: pointer;\n",
              "      display: none;\n",
              "      fill: #1967D2;\n",
              "      height: 32px;\n",
              "      padding: 0 0 0 0;\n",
              "      width: 32px;\n",
              "    }\n",
              "\n",
              "    .colab-df-convert:hover {\n",
              "      background-color: #E2EBFA;\n",
              "      box-shadow: 0px 1px 2px rgba(60, 64, 67, 0.3), 0px 1px 3px 1px rgba(60, 64, 67, 0.15);\n",
              "      fill: #174EA6;\n",
              "    }\n",
              "\n",
              "    [theme=dark] .colab-df-convert {\n",
              "      background-color: #3B4455;\n",
              "      fill: #D2E3FC;\n",
              "    }\n",
              "\n",
              "    [theme=dark] .colab-df-convert:hover {\n",
              "      background-color: #434B5C;\n",
              "      box-shadow: 0px 1px 3px 1px rgba(0, 0, 0, 0.15);\n",
              "      filter: drop-shadow(0px 1px 2px rgba(0, 0, 0, 0.3));\n",
              "      fill: #FFFFFF;\n",
              "    }\n",
              "  </style>\n",
              "\n",
              "      <script>\n",
              "        const buttonEl =\n",
              "          document.querySelector('#df-7e80e3a3-018b-463a-a3cb-6f65317d8bf3 button.colab-df-convert');\n",
              "        buttonEl.style.display =\n",
              "          google.colab.kernel.accessAllowed ? 'block' : 'none';\n",
              "\n",
              "        async function convertToInteractive(key) {\n",
              "          const element = document.querySelector('#df-7e80e3a3-018b-463a-a3cb-6f65317d8bf3');\n",
              "          const dataTable =\n",
              "            await google.colab.kernel.invokeFunction('convertToInteractive',\n",
              "                                                     [key], {});\n",
              "          if (!dataTable) return;\n",
              "\n",
              "          const docLinkHtml = 'Like what you see? Visit the ' +\n",
              "            '<a target=\"_blank\" href=https://colab.research.google.com/notebooks/data_table.ipynb>data table notebook</a>'\n",
              "            + ' to learn more about interactive tables.';\n",
              "          element.innerHTML = '';\n",
              "          dataTable['output_type'] = 'display_data';\n",
              "          await google.colab.output.renderOutput(dataTable, element);\n",
              "          const docLink = document.createElement('div');\n",
              "          docLink.innerHTML = docLinkHtml;\n",
              "          element.appendChild(docLink);\n",
              "        }\n",
              "      </script>\n",
              "    </div>\n",
              "  </div>\n",
              "  "
            ]
          },
          "metadata": {},
          "execution_count": 17
        }
      ]
    },
    {
      "cell_type": "markdown",
      "source": [
        "Algumas dessas dimensões são numéricas, outras não. Neste curso vamos nos ater unicamente a valores numéricos, mas você não vai encontrar dificuldade em transpor o que aprender aqui para valores discretos mais adiante."
      ],
      "metadata": {
        "id": "x0h7NdSb7OkE"
      }
    },
    {
      "cell_type": "markdown",
      "source": [
        "# Spotify Music Vector\n",
        "\n",
        "Os Spotify usa várias estatísticas de uma trilha ou *streaming* para caracterizá-la, e emprega isso para uma infinidade de aplicações, da recomendação de faixas à organização de coleções e playlists. \n",
        "\n",
        "Dentre essas características você encontra, por exemplo, a **Energia** da faixa (quanto maior o valor, mais enérgica), a **Dançabilidade** (quanto maior mais fácil é dançar a música), **Liveness** (quanto maior, maior a probabilidade de a música ser uma gravação ao vivo) e **Valence** (quanto maior, mais o clima positivo para a música). \n",
        "\n",
        "O dataset abaixo traz as top 2000 músicas do Stopify (1956 a 2019) (https://www.kaggle.com/datasets/iamsumat/spotify-top-2000s-mega-dataset). "
      ],
      "metadata": {
        "id": "WzhEdCNTiqjQ"
      }
    },
    {
      "cell_type": "code",
      "source": [
        "import pandas as pd\n",
        "spotify = pd.read_csv('https://github.com/Rogerio-mack/Linear-Algebra/raw/main/data/Spotify-2000.csv', index_col=0)\n",
        "spotify.head()"
      ],
      "metadata": {
        "colab": {
          "base_uri": "https://localhost:8080/",
          "height": 475
        },
        "id": "meg6Q5gYityv",
        "outputId": "0dd55791-a8f3-45f3-a231-468fa4084cce"
      },
      "execution_count": 18,
      "outputs": [
        {
          "output_type": "execute_result",
          "data": {
            "text/plain": [
              "                        Title             Artist            Top Genre  Year  \\\n",
              "Index                                                                         \n",
              "1                     Sunrise        Norah Jones      adult standards  2004   \n",
              "2                 Black Night        Deep Purple           album rock  2000   \n",
              "3              Clint Eastwood           Gorillaz  alternative hip hop  2001   \n",
              "4               The Pretender       Foo Fighters    alternative metal  2007   \n",
              "5      Waitin' On A Sunny Day  Bruce Springsteen         classic rock  2002   \n",
              "\n",
              "       Beats Per Minute (BPM)  Energy  Danceability  Loudness (dB)  Liveness  \\\n",
              "Index                                                                          \n",
              "1                         157      30            53            -14        11   \n",
              "2                         135      79            50            -11        17   \n",
              "3                         168      69            66             -9         7   \n",
              "4                         173      96            43             -4         3   \n",
              "5                         106      82            58             -5        10   \n",
              "\n",
              "       Valence Length (Duration)  Acousticness  Speechiness  Popularity  \n",
              "Index                                                                    \n",
              "1           68               201            94            3          71  \n",
              "2           81               207            17            7          39  \n",
              "3           52               341             2           17          69  \n",
              "4           37               269             0            4          76  \n",
              "5           87               256             1            3          59  "
            ],
            "text/html": [
              "\n",
              "  <div id=\"df-1b2cc7d8-e812-4321-9462-4c3cd31ad6e1\">\n",
              "    <div class=\"colab-df-container\">\n",
              "      <div>\n",
              "<style scoped>\n",
              "    .dataframe tbody tr th:only-of-type {\n",
              "        vertical-align: middle;\n",
              "    }\n",
              "\n",
              "    .dataframe tbody tr th {\n",
              "        vertical-align: top;\n",
              "    }\n",
              "\n",
              "    .dataframe thead th {\n",
              "        text-align: right;\n",
              "    }\n",
              "</style>\n",
              "<table border=\"1\" class=\"dataframe\">\n",
              "  <thead>\n",
              "    <tr style=\"text-align: right;\">\n",
              "      <th></th>\n",
              "      <th>Title</th>\n",
              "      <th>Artist</th>\n",
              "      <th>Top Genre</th>\n",
              "      <th>Year</th>\n",
              "      <th>Beats Per Minute (BPM)</th>\n",
              "      <th>Energy</th>\n",
              "      <th>Danceability</th>\n",
              "      <th>Loudness (dB)</th>\n",
              "      <th>Liveness</th>\n",
              "      <th>Valence</th>\n",
              "      <th>Length (Duration)</th>\n",
              "      <th>Acousticness</th>\n",
              "      <th>Speechiness</th>\n",
              "      <th>Popularity</th>\n",
              "    </tr>\n",
              "    <tr>\n",
              "      <th>Index</th>\n",
              "      <th></th>\n",
              "      <th></th>\n",
              "      <th></th>\n",
              "      <th></th>\n",
              "      <th></th>\n",
              "      <th></th>\n",
              "      <th></th>\n",
              "      <th></th>\n",
              "      <th></th>\n",
              "      <th></th>\n",
              "      <th></th>\n",
              "      <th></th>\n",
              "      <th></th>\n",
              "      <th></th>\n",
              "    </tr>\n",
              "  </thead>\n",
              "  <tbody>\n",
              "    <tr>\n",
              "      <th>1</th>\n",
              "      <td>Sunrise</td>\n",
              "      <td>Norah Jones</td>\n",
              "      <td>adult standards</td>\n",
              "      <td>2004</td>\n",
              "      <td>157</td>\n",
              "      <td>30</td>\n",
              "      <td>53</td>\n",
              "      <td>-14</td>\n",
              "      <td>11</td>\n",
              "      <td>68</td>\n",
              "      <td>201</td>\n",
              "      <td>94</td>\n",
              "      <td>3</td>\n",
              "      <td>71</td>\n",
              "    </tr>\n",
              "    <tr>\n",
              "      <th>2</th>\n",
              "      <td>Black Night</td>\n",
              "      <td>Deep Purple</td>\n",
              "      <td>album rock</td>\n",
              "      <td>2000</td>\n",
              "      <td>135</td>\n",
              "      <td>79</td>\n",
              "      <td>50</td>\n",
              "      <td>-11</td>\n",
              "      <td>17</td>\n",
              "      <td>81</td>\n",
              "      <td>207</td>\n",
              "      <td>17</td>\n",
              "      <td>7</td>\n",
              "      <td>39</td>\n",
              "    </tr>\n",
              "    <tr>\n",
              "      <th>3</th>\n",
              "      <td>Clint Eastwood</td>\n",
              "      <td>Gorillaz</td>\n",
              "      <td>alternative hip hop</td>\n",
              "      <td>2001</td>\n",
              "      <td>168</td>\n",
              "      <td>69</td>\n",
              "      <td>66</td>\n",
              "      <td>-9</td>\n",
              "      <td>7</td>\n",
              "      <td>52</td>\n",
              "      <td>341</td>\n",
              "      <td>2</td>\n",
              "      <td>17</td>\n",
              "      <td>69</td>\n",
              "    </tr>\n",
              "    <tr>\n",
              "      <th>4</th>\n",
              "      <td>The Pretender</td>\n",
              "      <td>Foo Fighters</td>\n",
              "      <td>alternative metal</td>\n",
              "      <td>2007</td>\n",
              "      <td>173</td>\n",
              "      <td>96</td>\n",
              "      <td>43</td>\n",
              "      <td>-4</td>\n",
              "      <td>3</td>\n",
              "      <td>37</td>\n",
              "      <td>269</td>\n",
              "      <td>0</td>\n",
              "      <td>4</td>\n",
              "      <td>76</td>\n",
              "    </tr>\n",
              "    <tr>\n",
              "      <th>5</th>\n",
              "      <td>Waitin' On A Sunny Day</td>\n",
              "      <td>Bruce Springsteen</td>\n",
              "      <td>classic rock</td>\n",
              "      <td>2002</td>\n",
              "      <td>106</td>\n",
              "      <td>82</td>\n",
              "      <td>58</td>\n",
              "      <td>-5</td>\n",
              "      <td>10</td>\n",
              "      <td>87</td>\n",
              "      <td>256</td>\n",
              "      <td>1</td>\n",
              "      <td>3</td>\n",
              "      <td>59</td>\n",
              "    </tr>\n",
              "  </tbody>\n",
              "</table>\n",
              "</div>\n",
              "      <button class=\"colab-df-convert\" onclick=\"convertToInteractive('df-1b2cc7d8-e812-4321-9462-4c3cd31ad6e1')\"\n",
              "              title=\"Convert this dataframe to an interactive table.\"\n",
              "              style=\"display:none;\">\n",
              "        \n",
              "  <svg xmlns=\"http://www.w3.org/2000/svg\" height=\"24px\"viewBox=\"0 0 24 24\"\n",
              "       width=\"24px\">\n",
              "    <path d=\"M0 0h24v24H0V0z\" fill=\"none\"/>\n",
              "    <path d=\"M18.56 5.44l.94 2.06.94-2.06 2.06-.94-2.06-.94-.94-2.06-.94 2.06-2.06.94zm-11 1L8.5 8.5l.94-2.06 2.06-.94-2.06-.94L8.5 2.5l-.94 2.06-2.06.94zm10 10l.94 2.06.94-2.06 2.06-.94-2.06-.94-.94-2.06-.94 2.06-2.06.94z\"/><path d=\"M17.41 7.96l-1.37-1.37c-.4-.4-.92-.59-1.43-.59-.52 0-1.04.2-1.43.59L10.3 9.45l-7.72 7.72c-.78.78-.78 2.05 0 2.83L4 21.41c.39.39.9.59 1.41.59.51 0 1.02-.2 1.41-.59l7.78-7.78 2.81-2.81c.8-.78.8-2.07 0-2.86zM5.41 20L4 18.59l7.72-7.72 1.47 1.35L5.41 20z\"/>\n",
              "  </svg>\n",
              "      </button>\n",
              "      \n",
              "  <style>\n",
              "    .colab-df-container {\n",
              "      display:flex;\n",
              "      flex-wrap:wrap;\n",
              "      gap: 12px;\n",
              "    }\n",
              "\n",
              "    .colab-df-convert {\n",
              "      background-color: #E8F0FE;\n",
              "      border: none;\n",
              "      border-radius: 50%;\n",
              "      cursor: pointer;\n",
              "      display: none;\n",
              "      fill: #1967D2;\n",
              "      height: 32px;\n",
              "      padding: 0 0 0 0;\n",
              "      width: 32px;\n",
              "    }\n",
              "\n",
              "    .colab-df-convert:hover {\n",
              "      background-color: #E2EBFA;\n",
              "      box-shadow: 0px 1px 2px rgba(60, 64, 67, 0.3), 0px 1px 3px 1px rgba(60, 64, 67, 0.15);\n",
              "      fill: #174EA6;\n",
              "    }\n",
              "\n",
              "    [theme=dark] .colab-df-convert {\n",
              "      background-color: #3B4455;\n",
              "      fill: #D2E3FC;\n",
              "    }\n",
              "\n",
              "    [theme=dark] .colab-df-convert:hover {\n",
              "      background-color: #434B5C;\n",
              "      box-shadow: 0px 1px 3px 1px rgba(0, 0, 0, 0.15);\n",
              "      filter: drop-shadow(0px 1px 2px rgba(0, 0, 0, 0.3));\n",
              "      fill: #FFFFFF;\n",
              "    }\n",
              "  </style>\n",
              "\n",
              "      <script>\n",
              "        const buttonEl =\n",
              "          document.querySelector('#df-1b2cc7d8-e812-4321-9462-4c3cd31ad6e1 button.colab-df-convert');\n",
              "        buttonEl.style.display =\n",
              "          google.colab.kernel.accessAllowed ? 'block' : 'none';\n",
              "\n",
              "        async function convertToInteractive(key) {\n",
              "          const element = document.querySelector('#df-1b2cc7d8-e812-4321-9462-4c3cd31ad6e1');\n",
              "          const dataTable =\n",
              "            await google.colab.kernel.invokeFunction('convertToInteractive',\n",
              "                                                     [key], {});\n",
              "          if (!dataTable) return;\n",
              "\n",
              "          const docLinkHtml = 'Like what you see? Visit the ' +\n",
              "            '<a target=\"_blank\" href=https://colab.research.google.com/notebooks/data_table.ipynb>data table notebook</a>'\n",
              "            + ' to learn more about interactive tables.';\n",
              "          element.innerHTML = '';\n",
              "          dataTable['output_type'] = 'display_data';\n",
              "          await google.colab.output.renderOutput(dataTable, element);\n",
              "          const docLink = document.createElement('div');\n",
              "          docLink.innerHTML = docLinkHtml;\n",
              "          element.appendChild(docLink);\n",
              "        }\n",
              "      </script>\n",
              "    </div>\n",
              "  </div>\n",
              "  "
            ]
          },
          "metadata": {},
          "execution_count": 18
        }
      ]
    },
    {
      "cell_type": "markdown",
      "source": [
        "Cada trilha é pode ser entendida como um vetor onde cada valor traz uma determinada *dimensão* da trilha, como energia e dançabilidade."
      ],
      "metadata": {
        "id": "KoiFA3k8qvZy"
      }
    },
    {
      "cell_type": "code",
      "source": [
        "spotify[spotify.Title == 'Live Forever - Remastered'][['Title', 'Artist', 'Energy', 'Danceability', 'Loudness (dB)', 'Liveness', 'Valence']]"
      ],
      "metadata": {
        "colab": {
          "base_uri": "https://localhost:8080/",
          "height": 112
        },
        "id": "PoUjk5hKmWFw",
        "outputId": "de01cae1-5439-4d19-8b6e-853d02c5dd33"
      },
      "execution_count": 19,
      "outputs": [
        {
          "output_type": "execute_result",
          "data": {
            "text/plain": [
              "                           Title Artist  Energy  Danceability  Loudness (dB)  \\\n",
              "Index                                                                          \n",
              "1651   Live Forever - Remastered  Oasis      79            10             -4   \n",
              "\n",
              "       Liveness  Valence  \n",
              "Index                     \n",
              "1651         36       18  "
            ],
            "text/html": [
              "\n",
              "  <div id=\"df-362add87-ca4e-454c-af98-e7d00c9220be\">\n",
              "    <div class=\"colab-df-container\">\n",
              "      <div>\n",
              "<style scoped>\n",
              "    .dataframe tbody tr th:only-of-type {\n",
              "        vertical-align: middle;\n",
              "    }\n",
              "\n",
              "    .dataframe tbody tr th {\n",
              "        vertical-align: top;\n",
              "    }\n",
              "\n",
              "    .dataframe thead th {\n",
              "        text-align: right;\n",
              "    }\n",
              "</style>\n",
              "<table border=\"1\" class=\"dataframe\">\n",
              "  <thead>\n",
              "    <tr style=\"text-align: right;\">\n",
              "      <th></th>\n",
              "      <th>Title</th>\n",
              "      <th>Artist</th>\n",
              "      <th>Energy</th>\n",
              "      <th>Danceability</th>\n",
              "      <th>Loudness (dB)</th>\n",
              "      <th>Liveness</th>\n",
              "      <th>Valence</th>\n",
              "    </tr>\n",
              "    <tr>\n",
              "      <th>Index</th>\n",
              "      <th></th>\n",
              "      <th></th>\n",
              "      <th></th>\n",
              "      <th></th>\n",
              "      <th></th>\n",
              "      <th></th>\n",
              "      <th></th>\n",
              "    </tr>\n",
              "  </thead>\n",
              "  <tbody>\n",
              "    <tr>\n",
              "      <th>1651</th>\n",
              "      <td>Live Forever - Remastered</td>\n",
              "      <td>Oasis</td>\n",
              "      <td>79</td>\n",
              "      <td>10</td>\n",
              "      <td>-4</td>\n",
              "      <td>36</td>\n",
              "      <td>18</td>\n",
              "    </tr>\n",
              "  </tbody>\n",
              "</table>\n",
              "</div>\n",
              "      <button class=\"colab-df-convert\" onclick=\"convertToInteractive('df-362add87-ca4e-454c-af98-e7d00c9220be')\"\n",
              "              title=\"Convert this dataframe to an interactive table.\"\n",
              "              style=\"display:none;\">\n",
              "        \n",
              "  <svg xmlns=\"http://www.w3.org/2000/svg\" height=\"24px\"viewBox=\"0 0 24 24\"\n",
              "       width=\"24px\">\n",
              "    <path d=\"M0 0h24v24H0V0z\" fill=\"none\"/>\n",
              "    <path d=\"M18.56 5.44l.94 2.06.94-2.06 2.06-.94-2.06-.94-.94-2.06-.94 2.06-2.06.94zm-11 1L8.5 8.5l.94-2.06 2.06-.94-2.06-.94L8.5 2.5l-.94 2.06-2.06.94zm10 10l.94 2.06.94-2.06 2.06-.94-2.06-.94-.94-2.06-.94 2.06-2.06.94z\"/><path d=\"M17.41 7.96l-1.37-1.37c-.4-.4-.92-.59-1.43-.59-.52 0-1.04.2-1.43.59L10.3 9.45l-7.72 7.72c-.78.78-.78 2.05 0 2.83L4 21.41c.39.39.9.59 1.41.59.51 0 1.02-.2 1.41-.59l7.78-7.78 2.81-2.81c.8-.78.8-2.07 0-2.86zM5.41 20L4 18.59l7.72-7.72 1.47 1.35L5.41 20z\"/>\n",
              "  </svg>\n",
              "      </button>\n",
              "      \n",
              "  <style>\n",
              "    .colab-df-container {\n",
              "      display:flex;\n",
              "      flex-wrap:wrap;\n",
              "      gap: 12px;\n",
              "    }\n",
              "\n",
              "    .colab-df-convert {\n",
              "      background-color: #E8F0FE;\n",
              "      border: none;\n",
              "      border-radius: 50%;\n",
              "      cursor: pointer;\n",
              "      display: none;\n",
              "      fill: #1967D2;\n",
              "      height: 32px;\n",
              "      padding: 0 0 0 0;\n",
              "      width: 32px;\n",
              "    }\n",
              "\n",
              "    .colab-df-convert:hover {\n",
              "      background-color: #E2EBFA;\n",
              "      box-shadow: 0px 1px 2px rgba(60, 64, 67, 0.3), 0px 1px 3px 1px rgba(60, 64, 67, 0.15);\n",
              "      fill: #174EA6;\n",
              "    }\n",
              "\n",
              "    [theme=dark] .colab-df-convert {\n",
              "      background-color: #3B4455;\n",
              "      fill: #D2E3FC;\n",
              "    }\n",
              "\n",
              "    [theme=dark] .colab-df-convert:hover {\n",
              "      background-color: #434B5C;\n",
              "      box-shadow: 0px 1px 3px 1px rgba(0, 0, 0, 0.15);\n",
              "      filter: drop-shadow(0px 1px 2px rgba(0, 0, 0, 0.3));\n",
              "      fill: #FFFFFF;\n",
              "    }\n",
              "  </style>\n",
              "\n",
              "      <script>\n",
              "        const buttonEl =\n",
              "          document.querySelector('#df-362add87-ca4e-454c-af98-e7d00c9220be button.colab-df-convert');\n",
              "        buttonEl.style.display =\n",
              "          google.colab.kernel.accessAllowed ? 'block' : 'none';\n",
              "\n",
              "        async function convertToInteractive(key) {\n",
              "          const element = document.querySelector('#df-362add87-ca4e-454c-af98-e7d00c9220be');\n",
              "          const dataTable =\n",
              "            await google.colab.kernel.invokeFunction('convertToInteractive',\n",
              "                                                     [key], {});\n",
              "          if (!dataTable) return;\n",
              "\n",
              "          const docLinkHtml = 'Like what you see? Visit the ' +\n",
              "            '<a target=\"_blank\" href=https://colab.research.google.com/notebooks/data_table.ipynb>data table notebook</a>'\n",
              "            + ' to learn more about interactive tables.';\n",
              "          element.innerHTML = '';\n",
              "          dataTable['output_type'] = 'display_data';\n",
              "          await google.colab.output.renderOutput(dataTable, element);\n",
              "          const docLink = document.createElement('div');\n",
              "          docLink.innerHTML = docLinkHtml;\n",
              "          element.appendChild(docLink);\n",
              "        }\n",
              "      </script>\n",
              "    </div>\n",
              "  </div>\n",
              "  "
            ]
          },
          "metadata": {},
          "execution_count": 19
        }
      ]
    },
    {
      "cell_type": "code",
      "source": [
        "spotify[spotify.Title == 'Kingston Town'][['Title', 'Artist', 'Energy', 'Danceability', 'Loudness (dB)', 'Liveness', 'Valence']]"
      ],
      "metadata": {
        "colab": {
          "base_uri": "https://localhost:8080/",
          "height": 112
        },
        "id": "bOkqn_UYwD3y",
        "outputId": "d6afeccb-5128-446a-cf4e-8ada2a71fe63"
      },
      "execution_count": 20,
      "outputs": [
        {
          "output_type": "execute_result",
          "data": {
            "text/plain": [
              "               Title Artist  Energy  Danceability  Loudness (dB)  Liveness  \\\n",
              "Index                                                                        \n",
              "1478   Kingston Town   UB40      25            96            -13         4   \n",
              "\n",
              "       Valence  \n",
              "Index           \n",
              "1478        80  "
            ],
            "text/html": [
              "\n",
              "  <div id=\"df-863095a0-de34-4ba4-a22e-b51217406b74\">\n",
              "    <div class=\"colab-df-container\">\n",
              "      <div>\n",
              "<style scoped>\n",
              "    .dataframe tbody tr th:only-of-type {\n",
              "        vertical-align: middle;\n",
              "    }\n",
              "\n",
              "    .dataframe tbody tr th {\n",
              "        vertical-align: top;\n",
              "    }\n",
              "\n",
              "    .dataframe thead th {\n",
              "        text-align: right;\n",
              "    }\n",
              "</style>\n",
              "<table border=\"1\" class=\"dataframe\">\n",
              "  <thead>\n",
              "    <tr style=\"text-align: right;\">\n",
              "      <th></th>\n",
              "      <th>Title</th>\n",
              "      <th>Artist</th>\n",
              "      <th>Energy</th>\n",
              "      <th>Danceability</th>\n",
              "      <th>Loudness (dB)</th>\n",
              "      <th>Liveness</th>\n",
              "      <th>Valence</th>\n",
              "    </tr>\n",
              "    <tr>\n",
              "      <th>Index</th>\n",
              "      <th></th>\n",
              "      <th></th>\n",
              "      <th></th>\n",
              "      <th></th>\n",
              "      <th></th>\n",
              "      <th></th>\n",
              "      <th></th>\n",
              "    </tr>\n",
              "  </thead>\n",
              "  <tbody>\n",
              "    <tr>\n",
              "      <th>1478</th>\n",
              "      <td>Kingston Town</td>\n",
              "      <td>UB40</td>\n",
              "      <td>25</td>\n",
              "      <td>96</td>\n",
              "      <td>-13</td>\n",
              "      <td>4</td>\n",
              "      <td>80</td>\n",
              "    </tr>\n",
              "  </tbody>\n",
              "</table>\n",
              "</div>\n",
              "      <button class=\"colab-df-convert\" onclick=\"convertToInteractive('df-863095a0-de34-4ba4-a22e-b51217406b74')\"\n",
              "              title=\"Convert this dataframe to an interactive table.\"\n",
              "              style=\"display:none;\">\n",
              "        \n",
              "  <svg xmlns=\"http://www.w3.org/2000/svg\" height=\"24px\"viewBox=\"0 0 24 24\"\n",
              "       width=\"24px\">\n",
              "    <path d=\"M0 0h24v24H0V0z\" fill=\"none\"/>\n",
              "    <path d=\"M18.56 5.44l.94 2.06.94-2.06 2.06-.94-2.06-.94-.94-2.06-.94 2.06-2.06.94zm-11 1L8.5 8.5l.94-2.06 2.06-.94-2.06-.94L8.5 2.5l-.94 2.06-2.06.94zm10 10l.94 2.06.94-2.06 2.06-.94-2.06-.94-.94-2.06-.94 2.06-2.06.94z\"/><path d=\"M17.41 7.96l-1.37-1.37c-.4-.4-.92-.59-1.43-.59-.52 0-1.04.2-1.43.59L10.3 9.45l-7.72 7.72c-.78.78-.78 2.05 0 2.83L4 21.41c.39.39.9.59 1.41.59.51 0 1.02-.2 1.41-.59l7.78-7.78 2.81-2.81c.8-.78.8-2.07 0-2.86zM5.41 20L4 18.59l7.72-7.72 1.47 1.35L5.41 20z\"/>\n",
              "  </svg>\n",
              "      </button>\n",
              "      \n",
              "  <style>\n",
              "    .colab-df-container {\n",
              "      display:flex;\n",
              "      flex-wrap:wrap;\n",
              "      gap: 12px;\n",
              "    }\n",
              "\n",
              "    .colab-df-convert {\n",
              "      background-color: #E8F0FE;\n",
              "      border: none;\n",
              "      border-radius: 50%;\n",
              "      cursor: pointer;\n",
              "      display: none;\n",
              "      fill: #1967D2;\n",
              "      height: 32px;\n",
              "      padding: 0 0 0 0;\n",
              "      width: 32px;\n",
              "    }\n",
              "\n",
              "    .colab-df-convert:hover {\n",
              "      background-color: #E2EBFA;\n",
              "      box-shadow: 0px 1px 2px rgba(60, 64, 67, 0.3), 0px 1px 3px 1px rgba(60, 64, 67, 0.15);\n",
              "      fill: #174EA6;\n",
              "    }\n",
              "\n",
              "    [theme=dark] .colab-df-convert {\n",
              "      background-color: #3B4455;\n",
              "      fill: #D2E3FC;\n",
              "    }\n",
              "\n",
              "    [theme=dark] .colab-df-convert:hover {\n",
              "      background-color: #434B5C;\n",
              "      box-shadow: 0px 1px 3px 1px rgba(0, 0, 0, 0.15);\n",
              "      filter: drop-shadow(0px 1px 2px rgba(0, 0, 0, 0.3));\n",
              "      fill: #FFFFFF;\n",
              "    }\n",
              "  </style>\n",
              "\n",
              "      <script>\n",
              "        const buttonEl =\n",
              "          document.querySelector('#df-863095a0-de34-4ba4-a22e-b51217406b74 button.colab-df-convert');\n",
              "        buttonEl.style.display =\n",
              "          google.colab.kernel.accessAllowed ? 'block' : 'none';\n",
              "\n",
              "        async function convertToInteractive(key) {\n",
              "          const element = document.querySelector('#df-863095a0-de34-4ba4-a22e-b51217406b74');\n",
              "          const dataTable =\n",
              "            await google.colab.kernel.invokeFunction('convertToInteractive',\n",
              "                                                     [key], {});\n",
              "          if (!dataTable) return;\n",
              "\n",
              "          const docLinkHtml = 'Like what you see? Visit the ' +\n",
              "            '<a target=\"_blank\" href=https://colab.research.google.com/notebooks/data_table.ipynb>data table notebook</a>'\n",
              "            + ' to learn more about interactive tables.';\n",
              "          element.innerHTML = '';\n",
              "          dataTable['output_type'] = 'display_data';\n",
              "          await google.colab.output.renderOutput(dataTable, element);\n",
              "          const docLink = document.createElement('div');\n",
              "          docLink.innerHTML = docLinkHtml;\n",
              "          element.appendChild(docLink);\n",
              "        }\n",
              "      </script>\n",
              "    </div>\n",
              "  </div>\n",
              "  "
            ]
          },
          "metadata": {},
          "execution_count": 20
        }
      ]
    },
    {
      "cell_type": "markdown",
      "source": [
        "Empregando apenas essas duas dimensões para visualizarmos as duas faixas acima, você pode notar exatamente que as faixas do UB40 e Oasis vão em direções bastantes opostas, o primeiro com muito mais dançabilidade e menos energia."
      ],
      "metadata": {
        "id": "8MCAf5o8y3Ui"
      }
    },
    {
      "cell_type": "code",
      "source": [
        "#@title plotting functions\n",
        "def plot_vector(vector,color='r',name=None,xylim=5,over=False,ax=None,grid=True):\n",
        "  from string import ascii_lowercase\n",
        "\n",
        "  with plt.xkcd():\n",
        "    if not over:\n",
        "      fig = plt.figure()\n",
        "      ax = fig.add_subplot(1, 1, 1)\n",
        "    else:\n",
        "      ax = ax\n",
        "\n",
        "    # Move left y-axis and bottim x-axis to centre, passing through (0,0)\n",
        "    ax.spines['left'].set_position('center')\n",
        "    ax.spines['bottom'].set_position('center')\n",
        "\n",
        "    # Eliminate upper and right axes\n",
        "    ax.spines['right'].set_color('none')\n",
        "    ax.spines['top'].set_color('none')\n",
        "\n",
        "    # Show ticks in the left and lower axes only\n",
        "    ax.xaxis.set_ticks_position('bottom')\n",
        "    ax.yaxis.set_ticks_position('left')\n",
        "\n",
        "    ax.set_xlim([-xylim,xylim])\n",
        "    ax.set_ylim([-xylim,xylim])\n",
        "    if grid:\n",
        "      ax.grid(True, alpha=.4, linewidth=1, zorder=0)\n",
        "\n",
        "    i = 0\n",
        "    for v in vector:\n",
        "      if name != None:\n",
        "        vname = name[i]\n",
        "        i = i + 1\n",
        "      else:\n",
        "        vname = ascii_lowercase[i]\n",
        "        i = i + 1\n",
        "        \n",
        "      ax.plot([0],[0],'or')\n",
        "      ax.annotate(\"\", xy=(v[0], v[1]), xytext=(0, 0), arrowprops=dict(arrowstyle=\"->\", color=color))\n",
        "      \n",
        "      ax.arrow(0,0,v[0],v[1])\n",
        "      plt.text(v[0],v[1],'$\\\\vec' + vname + '$ (' + str(v[0]) + ',' + str(v[1]) + ')', fontsize=18 ) \n",
        "\n",
        "    # plt.show()\n",
        "  return ax"
      ],
      "metadata": {
        "id": "GOuf8oqqGFOV",
        "cellView": "form"
      },
      "execution_count": 21,
      "outputs": []
    },
    {
      "cell_type": "code",
      "source": [
        "plot_vector([(25,96),(79,10)],name=['Kingston Town','Live Forever'],xylim=100)\n",
        "\n",
        "plt.show()"
      ],
      "metadata": {
        "colab": {
          "base_uri": "https://localhost:8080/",
          "height": 297
        },
        "id": "tvyR5WB2rYlh",
        "outputId": "17e2e8eb-b664-415a-f3ea-e020edd15700"
      },
      "execution_count": 22,
      "outputs": [
        {
          "output_type": "display_data",
          "data": {
            "text/plain": [
              "<Figure size 432x288 with 1 Axes>"
            ],
            "image/png": "[encoded data removed]"
          },
          "metadata": {
            "image/png": {
              "width": 431,
              "height": 280
            }
          }
        }
      ]
    },
    {
      "cell_type": "markdown",
      "source": [
        "Aqui empregamos apenas duas dimensões para poder exibir graficamente, mas todas a dimensões podem ser usadas para buscar semelhanças ou *dessemelhanças* entre diferentes faixas exatamente como mostramos acima para apenas duas características. "
      ],
      "metadata": {
        "id": "PR-jKHDL16Vb"
      }
    },
    {
      "cell_type": "markdown",
      "source": [
        "# Vetores geométricos\n",
        "\n",
        "Os vetores geométricos são segmentos orientados e são os tipos de vetores que você provavelmente já viu em física e na geometria durante o ensino médio. Muitos conceitos da álgebra linear vêm do ponto de vista geométrico de vetores e foi o que empregamos acima para dizer que as músicas estavam em *direções opostas*. \n"
      ],
      "metadata": {
        "id": "hBH75NGg77p9"
      }
    },
    {
      "cell_type": "code",
      "source": [
        "plot_vector([(3,4),(1,2),(-2,4),(2,-2)])"
      ],
      "metadata": {
        "colab": {
          "base_uri": "https://localhost:8080/",
          "height": 315
        },
        "id": "1PU-B9Yi7cIs",
        "outputId": "1fc637bc-7335-4b80-e1c3-3d23e00f956e"
      },
      "execution_count": 23,
      "outputs": [
        {
          "output_type": "execute_result",
          "data": {
            "text/plain": [
              "<matplotlib.axes._subplots.AxesSubplot at 0x7f8101c55d90>"
            ]
          },
          "metadata": {},
          "execution_count": 23
        },
        {
          "output_type": "display_data",
          "data": {
            "text/plain": [
              "<Figure size 432x288 with 1 Axes>"
            ],
            "image/png": "[encoded data removed]"
          },
          "metadata": {
            "image/png": {
              "width": 424,
              "height": 280
            }
          }
        }
      ]
    },
    {
      "cell_type": "code",
      "source": [
        "#@markdown\n",
        "def f(x=1,y=2):\n",
        "  plot_vector([(x,y)],name='V')\n",
        "  \n",
        "  return \n",
        "  \n",
        "w = widgets.interactive(f, x=(-5,5), y=(-5,5))\n",
        "display(w)\n",
        "\n"
      ],
      "metadata": {
        "colab": {
          "base_uri": "https://localhost:8080/",
          "height": 361,
          "referenced_widgets": [
            "604ce4d6305e45a1895ea392ae526903",
            "fccc677d63f24315be2855aeff0d1653",
            "c8111c3aeac946e8842fd982d6feccb8",
            "71ce83fd39fb409eabe102a191766ea5",
            "f3b0890b1ced48348213497a78abdf2c",
            "2d90fabb43c443018a946a4a5e8eb59d",
            "0fe5829ea53e4a58898fc9a684f36a26",
            "8f02e4d77bb047ff82194d9ac5398228",
            "615438b4931340cb97d8ab68fa45bb08",
            "1c884f24593440a3b6ca84365b797106"
          ]
        },
        "id": "zJOcKfflGjN1",
        "outputId": "f5c29ba8-5746-45fa-9744-09818544fc04",
        "cellView": "form"
      },
      "execution_count": 24,
      "outputs": [
        {
          "output_type": "display_data",
          "data": {
            "text/plain": [
              "interactive(children=(IntSlider(value=1, description='x', max=5, min=-5), IntSlider(value=2, description='y', …"
            ],
            "application/vnd.jupyter.widget-view+json": {
              "version_major": 2,
              "version_minor": 0,
              "model_id": "604ce4d6305e45a1895ea392ae526903"
            }
          },
          "metadata": {}
        }
      ]
    },
    {
      "cell_type": "markdown",
      "source": [
        "A esses vetores podemos associar diversas operações, como soma ou produto, e que permitem, por exemplo, obter a força ou a velocidade resultante em um problema. Mas, antes de fazermos essas operações, vamos entender como representar esses vetores em Python para podermos executar essas operações. "
      ],
      "metadata": {
        "id": "hv7rjUQG9Jb1"
      }
    },
    {
      "cell_type": "markdown",
      "source": [
        "# Listas e NumPy\n",
        "\n",
        "Um vetor pode, de forma bastante simples, ser representado por uma lista ordenada de valores como abaixo."
      ],
      "metadata": {
        "id": "xMR4G_HU9wuk"
      }
    },
    {
      "cell_type": "code",
      "source": [
        "[7, 8, 6]"
      ],
      "metadata": {
        "colab": {
          "base_uri": "https://localhost:8080/"
        },
        "id": "MGdl2uJW9-Hw",
        "outputId": "114f3ed5-235d-4d1b-c28b-bb73de395603"
      },
      "execution_count": 25,
      "outputs": [
        {
          "output_type": "execute_result",
          "data": {
            "text/plain": [
              "[7, 8, 6]"
            ]
          },
          "metadata": {},
          "execution_count": 25
        }
      ]
    },
    {
      "cell_type": "markdown",
      "source": [
        "> **Uma lista em Python é uma coleção de valores ordenados. Entenda por ordenado, o fato de existir um primeiro elemento, um segundo etc.**\n",
        "\n",
        "Assim, você pode pensar que a lista acima contem a nota da primeira, segunda e terceira provas de um aluno. "
      ],
      "metadata": {
        "id": "2Vr6xzii-Fvt"
      }
    },
    {
      "cell_type": "code",
      "source": [
        "notas_ana   = [7, 8, 6]\n",
        "notas_pedro = [8, 7, 6]\n",
        "\n",
        "print(notas_ana, notas_pedro)"
      ],
      "metadata": {
        "colab": {
          "base_uri": "https://localhost:8080/"
        },
        "id": "KJkZd5Tc-FBu",
        "outputId": "d81e2039-4cb9-4f3d-8602-ead143e2fb1c"
      },
      "execution_count": 26,
      "outputs": [
        {
          "output_type": "stream",
          "name": "stdout",
          "text": [
            "[7, 8, 6] [8, 7, 6]\n"
          ]
        }
      ]
    },
    {
      "cell_type": "markdown",
      "source": [
        "Note que a ordem é importante, e por isso um vetor é uma coleção ordenada. E se trocamos a ordem dos valores o entendimento será outro,\n",
        "\n",
        "| Nome | Nota 1 | Nota 2 | Nota 3 | Vetor |\n",
        "|-|-|-|-| -|\n",
        "| Ana | 7 | 8 | 6 | (7,8,6) |\n",
        "| Pedro | 8 | 7 | 6 |(8,7,6) |\n",
        "\n",
        "Ou no exemplo das músicas empregado antes, \n",
        "\n",
        "| Track | Energy\t| Danceability |Vetor |\n",
        "|-|-|-|-|\n",
        "|Kingston Town | 25| 96 | (25, 96) |\n",
        "| Live Forever |79 | 10 |  (79, 10) |\n",
        "\n"
      ],
      "metadata": {
        "id": "kQ7k1u7F_F3k"
      }
    },
    {
      "cell_type": "markdown",
      "source": [
        "> **Cuidado, listas em Python são definidas com `[ ]` enquanto `( )` são empregados para uma outra estrutura de dados denominadas tuplas. Em matemática, em geral, empregamos `( )` para expressar vetores e muitas vezes até matrizes, mas Python o mais comum será empregarmos `[ ]`.**"
      ],
      "metadata": {
        "id": "tZy2oO9HA-uz"
      }
    },
    {
      "cell_type": "markdown",
      "source": [
        "Mas embora possamos empregar listas, essas estruturas do Python não permite operama como coleções e não como vetores como você poderia esperar. \n",
        "\n",
        "Por exemplo, ao multiplar um vetor por um escalar significa você espera algo como,\n",
        "\n",
        "$$ 2 \\times (1,2) = (2,4) $$"
      ],
      "metadata": {
        "id": "V8rTdAJhBhhm"
      }
    },
    {
      "cell_type": "code",
      "source": [
        "plot_vector([[1,2]])\n",
        "plot_vector([[2,4]])"
      ],
      "metadata": {
        "colab": {
          "base_uri": "https://localhost:8080/",
          "height": 595
        },
        "id": "YVP4cOySCSfV",
        "outputId": "f4195f03-d098-42fc-8abf-593df8146612"
      },
      "execution_count": 27,
      "outputs": [
        {
          "output_type": "execute_result",
          "data": {
            "text/plain": [
              "<matplotlib.axes._subplots.AxesSubplot at 0x7f810030fdd0>"
            ]
          },
          "metadata": {},
          "execution_count": 27
        },
        {
          "output_type": "display_data",
          "data": {
            "text/plain": [
              "<Figure size 432x288 with 1 Axes>"
            ],
            "image/png": "[encoded data removed]"
          },
          "metadata": {
            "image/png": {
              "width": 424,
              "height": 280
            }
          }
        },
        {
          "output_type": "display_data",
          "data": {
            "text/plain": [
              "<Figure size 432x288 with 1 Axes>"
            ],
            "image/png": "[encoded data removed]"
          },
          "metadata": {
            "image/png": {
              "width": 424,
              "height": 280
            }
          }
        }
      ]
    },
    {
      "cell_type": "markdown",
      "source": [
        "Entretanto, veja o resultado dessa operação com listas,"
      ],
      "metadata": {
        "id": "RhCD-vxJDn56"
      }
    },
    {
      "cell_type": "code",
      "source": [
        "2 * [1, 2]  "
      ],
      "metadata": {
        "colab": {
          "base_uri": "https://localhost:8080/"
        },
        "id": "YqgRMavA_E2l",
        "outputId": "281c37e5-a3fb-4f0e-fed0-ba1fa6e42fcf"
      },
      "execution_count": 28,
      "outputs": [
        {
          "output_type": "execute_result",
          "data": {
            "text/plain": [
              "[1, 2, 1, 2]"
            ]
          },
          "metadata": {},
          "execution_count": 28
        }
      ]
    },
    {
      "cell_type": "markdown",
      "source": [
        "É que para o Python uma lista é uma coleção, e $2 \\times$ uma coleção significa *dobrar* a coleção. Como representar vetores, então?\n",
        "\n",
        "Um NumPy é uma biblioteca de processamento numérico e científico que implementa vetores e matrizes, e suas operações de modo bastante eficiente. O comando `np.array()` cria um `array` ou vetor numérico em Python.\n",
        "\n"
      ],
      "metadata": {
        "id": "CVMc0eqXDw5r"
      }
    },
    {
      "cell_type": "code",
      "source": [
        "2 * np.array([1, 2])"
      ],
      "metadata": {
        "colab": {
          "base_uri": "https://localhost:8080/"
        },
        "id": "QAzYTB3WEXjO",
        "outputId": "953167cd-0615-4b8c-8a4a-b4cf01b80753"
      },
      "execution_count": 29,
      "outputs": [
        {
          "output_type": "execute_result",
          "data": {
            "text/plain": [
              "array([2, 4])"
            ]
          },
          "metadata": {},
          "execution_count": 29
        }
      ]
    },
    {
      "cell_type": "markdown",
      "source": [
        "Agora o resultado da operação foi exatamente o esperado. "
      ],
      "metadata": {
        "id": "1oWI0IrNEmPt"
      }
    },
    {
      "cell_type": "markdown",
      "source": [
        "O vetor acima pode ser atribuído a uma variável e o valor de cada dimensão obtido informando-se o índice da posição iniciando por zero:"
      ],
      "metadata": {
        "id": "GAOwZPeQTyh3"
      }
    },
    {
      "cell_type": "code",
      "source": [
        "v = np.array([1, 2])\n",
        "\n",
        "print('v =    ', v)\n",
        "print('v[0] =', v[0])\n",
        "print('v[1] =', v[1])"
      ],
      "metadata": {
        "colab": {
          "base_uri": "https://localhost:8080/"
        },
        "id": "b9bS2Au5VOm1",
        "outputId": "151db017-438e-49a2-c9de-5f6eb53fb1fe"
      },
      "execution_count": 30,
      "outputs": [
        {
          "output_type": "stream",
          "name": "stdout",
          "text": [
            "v =     [1 2]\n",
            "v[0] = 1\n",
            "v[1] = 2\n"
          ]
        }
      ]
    },
    {
      "cell_type": "markdown",
      "source": [
        "Experimente aqui outros valores."
      ],
      "metadata": {
        "id": "inwEkjc9XYYZ"
      }
    },
    {
      "cell_type": "code",
      "source": [
        "#@markdown\n",
        "def f(x1=1,x2=2):\n",
        "  v = np.array([x1, x2])\n",
        "\n",
        "  print()\n",
        "  print('v = \\t', v)\n",
        "  print('v[0] = \\t', v[0])\n",
        "  print('v[1] = \\t', v[1])\n",
        "\n",
        "min=-10\n",
        "max=10\n",
        "step=0.01\n",
        "\n",
        "w = widgets.interactive(f,x1=(min,max,step),x2=(min,max,step))\n",
        "display(w)  "
      ],
      "metadata": {
        "colab": {
          "base_uri": "https://localhost:8080/",
          "height": 154,
          "referenced_widgets": [
            "fbe708a274d94953a9a0a305eb8ac0d7",
            "5a04f2f8cace442f8a78c375573b9fc1",
            "32e162bf420a491591f03046547344d9",
            "6c9af22a832e464ca629b0cb4b3fa3b0",
            "c0dcc20a8c944ce085f89c1cfbd23880",
            "7dd5122ff4ac435b9d039f874fc22ff9",
            "01080de2b8b042d9b18f1269c5af6849",
            "2d7bf6e9ef37415f8eb653db411e5b2f",
            "c36cee48eba94b889f05dcd8ea5b3887",
            "b0fc27e95a614115967d334fa4fb05a6"
          ]
        },
        "cellView": "form",
        "id": "v2E4u-ujUPWC",
        "outputId": "78eaeb30-a460-4f2f-9125-96d4446f851c"
      },
      "execution_count": 31,
      "outputs": [
        {
          "output_type": "display_data",
          "data": {
            "text/plain": [
              "interactive(children=(FloatSlider(value=1.0, description='x1', max=10.0, min=-10.0, step=0.01), FloatSlider(va…"
            ],
            "application/vnd.jupyter.widget-view+json": {
              "version_major": 2,
              "version_minor": 0,
              "model_id": "fbe708a274d94953a9a0a305eb8ac0d7"
            }
          },
          "metadata": {}
        }
      ]
    },
    {
      "cell_type": "markdown",
      "source": [
        "# Tamanho, magnitude ou módulo de um vetor\n",
        "\n",
        "Vamos empregar a analogia com o modelo geométrico. O tamanho, magnitude ou módulo de um vetor é comprimento do seu segmento e podemos obtê-lo a partir de:\n",
        "\n",
        "$$ | \\vec{a} | = | (x, y) | = \\sqrt{x^2 + y^2} $$ \n",
        "\n"
      ],
      "metadata": {
        "id": "0kvUXkRdFb3h"
      }
    },
    {
      "cell_type": "code",
      "source": [
        "ax = plot_vector([[2,4]],grid=False)\n",
        "\n",
        "ax.hlines(0.1,0.1,2,color='r',linestyle='--')\n",
        "ax.vlines(2,0,4,color='r',linestyle='--')\n",
        "plt.show()"
      ],
      "metadata": {
        "colab": {
          "base_uri": "https://localhost:8080/",
          "height": 297
        },
        "id": "t5Sih9G0DwQG",
        "outputId": "7cd229ea-ed2e-4e68-cf1c-d692ce55c81c"
      },
      "execution_count": 32,
      "outputs": [
        {
          "output_type": "display_data",
          "data": {
            "text/plain": [
              "<Figure size 432x288 with 1 Axes>"
            ],
            "image/png": "[encoded data removed]"
          },
          "metadata": {
            "image/png": {
              "width": 424,
              "height": 280
            }
          }
        }
      ]
    },
    {
      "cell_type": "markdown",
      "source": [
        "E se tivermos mais de duas dimensões podemos escrever,\n",
        "\n",
        "$$ | \\vec{v} | = | (x_1, x_2, \\dots , x_n) | = \\sqrt{x_1^2 + x_2^2 + \\dots + x_n^2} $$\n",
        "\n",
        "Para o vetor $[1,2]$ por exemplo, teremos\n",
        "\n",
        "$$   | \\vec{v} | = | (1,2) | = \\sqrt{1^2 + 2^2}  = \\sqrt{5} $$\n",
        "\n",
        "Em Python a função norma pode ser escrita como:"
      ],
      "metadata": {
        "id": "nubLBGD4OjTW"
      }
    },
    {
      "cell_type": "code",
      "source": [
        "def norma(v):\n",
        "  return np.sqrt( v[0]**2 + v[1]**2 )  \n",
        "\n",
        "norma([1,2])"
      ],
      "metadata": {
        "colab": {
          "base_uri": "https://localhost:8080/"
        },
        "id": "m5lGmERcWjt4",
        "outputId": "02d3890e-6d86-43ba-a85f-dc4490816259"
      },
      "execution_count": 33,
      "outputs": [
        {
          "output_type": "execute_result",
          "data": {
            "text/plain": [
              "2.23606797749979"
            ]
          },
          "metadata": {},
          "execution_count": 33
        }
      ]
    },
    {
      "cell_type": "markdown",
      "source": [
        "Experimente aqui outros valores."
      ],
      "metadata": {
        "id": "TZzF4ULDXLNw"
      }
    },
    {
      "cell_type": "code",
      "source": [
        "#@markdown\n",
        "def f(x1=1,x2=2):\n",
        "  v = np.array([x1, x2])\n",
        "\n",
        "  print()\n",
        "  print('v = \\t', v)\n",
        "  print('v[0] = \\t', v[0])\n",
        "  print('v[1] = \\t', v[1])\n",
        "  print()\n",
        "\n",
        "  print('|v| =' , norma([x1,x2]) )\n",
        "\n",
        "min=-10\n",
        "max=10\n",
        "step=0.01\n",
        "\n",
        "w = widgets.interactive(f,x1=(min,max,step),x2=(min,max,step))\n",
        "display(w)  "
      ],
      "metadata": {
        "colab": {
          "base_uri": "https://localhost:8080/",
          "height": 191,
          "referenced_widgets": [
            "dfe1c9d9d267430995236fd24c04e1c6",
            "a1736ff928a849109c92a3ee7cf71239",
            "e9b9a182623442cdb2784419ded5f1f4",
            "a384f18238fb45308db1a019b78c4847",
            "5372cae5f8fd436f98f0ea2656511da9",
            "adec843fdecf4aef928db62d623c1a86",
            "2aada707cb8d412b809d9c719af454d5",
            "0bbcd10453d143f2abc2ef5660acb2cb",
            "29fc29f179b046cd938515d9153d629f",
            "9e2e0b847aa547d89a33ee7a7c9408af"
          ]
        },
        "cellView": "form",
        "outputId": "a80d4ddb-b816-428d-ceff-f2f412f5999a",
        "id": "EQo8hErNVqHE"
      },
      "execution_count": 34,
      "outputs": [
        {
          "output_type": "display_data",
          "data": {
            "text/plain": [
              "interactive(children=(FloatSlider(value=1.0, description='x1', max=10.0, min=-10.0, step=0.01), FloatSlider(va…"
            ],
            "application/vnd.jupyter.widget-view+json": {
              "version_major": 2,
              "version_minor": 0,
              "model_id": "dfe1c9d9d267430995236fd24c04e1c6"
            }
          },
          "metadata": {}
        }
      ]
    },
    {
      "cell_type": "markdown",
      "source": [
        "# Normalizando um vetor\n",
        "\n",
        "Um vetor unitário é um vetor de norma ou tamanho $1$ e pode ser obtido dividindo-se cada dimensão do vetor original por sua  norma (ou comprimento). Assim,\n",
        "\n",
        "$$   | \\vec{v} | = | (1,2) | = \\sqrt{1^2 + 2^2}  = \\sqrt{5} $$\n",
        "\n",
        " $$   | \\vec{u_v} | = | (\\frac{1}{\\sqrt{5}},\\frac{2}{\\sqrt{5}}) | = \\sqrt{(\\frac{1}{\\sqrt{5}})^2 +(\\frac{2}{\\sqrt{5}})^2}  = \\sqrt{\\frac{5}{5}} =  1 $$\n",
        "\n",
        "Abaixo você pode ver os vetores $v$  e o vetor unitário  de $v$, $u_v$. Note que $u_v$ tem norma (tamanho 1), mas a mesma direção e sentido de $v$."
      ],
      "metadata": {
        "id": "5-pFG7n8Plvw"
      }
    },
    {
      "cell_type": "code",
      "source": [
        "ax = plot_vector([[1,2],[1/np.sqrt(5),2/np.sqrt(5)]],name=['v','u'],grid=False)\n",
        "\n",
        "plt.show()"
      ],
      "metadata": {
        "colab": {
          "base_uri": "https://localhost:8080/",
          "height": 297
        },
        "id": "oGpgpMVwR6Vf",
        "outputId": "098d29cd-a53b-49ff-a0ae-95b5843cb9f6"
      },
      "execution_count": 35,
      "outputs": [
        {
          "output_type": "display_data",
          "data": {
            "text/plain": [
              "<Figure size 432x288 with 1 Axes>"
            ],
            "image/png": "[encoded data removed]"
          },
          "metadata": {
            "image/png": {
              "width": 492,
              "height": 280
            }
          }
        }
      ]
    },
    {
      "cell_type": "markdown",
      "source": [
        "> **Tente você.** Altere a função abaixo para calcular o vetor unitário de um vetor, isto, a função *normaliza* um vetor.\n",
        "\n",
        "> dica: empregue a função `norma()`.\n"
      ],
      "metadata": {
        "id": "3abawYgXTZbT"
      }
    },
    {
      "cell_type": "code",
      "source": [
        "def normaliza(v):\n",
        "  return [ v[0] / 1, v[1] / 1 ] # substitua o valor 1 pela norma de v\n",
        "\n",
        "normaliza([1,2])"
      ],
      "metadata": {
        "colab": {
          "base_uri": "https://localhost:8080/"
        },
        "id": "mKrmZ4kfTSXZ",
        "outputId": "5ddda9ba-636a-44cc-a416-d5ccd6e2eec0"
      },
      "execution_count": 36,
      "outputs": [
        {
          "output_type": "execute_result",
          "data": {
            "text/plain": [
              "[1.0, 2.0]"
            ]
          },
          "metadata": {},
          "execution_count": 36
        }
      ]
    },
    {
      "cell_type": "code",
      "source": [
        "#@markdown Solução\n",
        "def normaliza(v):\n",
        "  return [ v[0] / norma(v), v[1] / norma(v) ] # substitua o valor 1 pela norma de v\n",
        "\n",
        "normaliza([1,2])"
      ],
      "metadata": {
        "cellView": "form",
        "id": "JoYA2L88Y06J",
        "outputId": "a1e3c251-c9c7-49c2-dc3d-cd1885ede8e2",
        "colab": {
          "base_uri": "https://localhost:8080/"
        }
      },
      "execution_count": 37,
      "outputs": [
        {
          "output_type": "execute_result",
          "data": {
            "text/plain": [
              "[0.4472135954999579, 0.8944271909999159]"
            ]
          },
          "metadata": {},
          "execution_count": 37
        }
      ]
    },
    {
      "cell_type": "markdown",
      "source": [
        "> **Tente você.** Que valor você espera encontrar de:"
      ],
      "metadata": {
        "id": "FGvjEF-fZLJt"
      }
    },
    {
      "cell_type": "code",
      "source": [
        "norma(normaliza([1,2]))"
      ],
      "metadata": {
        "id": "6RqcPOk6ZC3r",
        "outputId": "8a3ce51e-2857-4ed7-a073-2d0b5d4327bd",
        "colab": {
          "base_uri": "https://localhost:8080/"
        }
      },
      "execution_count": 38,
      "outputs": [
        {
          "output_type": "execute_result",
          "data": {
            "text/plain": [
              "0.9999999999999999"
            ]
          },
          "metadata": {},
          "execution_count": 38
        }
      ]
    },
    {
      "cell_type": "code",
      "source": [
        "#@markdown Solução\n",
        "\n",
        "# O valor é 1, já que a norma de um vetor unitário (isto é, normalizado) é 1. Apenas que, por arredondamento, encontramos 0.9999999..."
      ],
      "metadata": {
        "cellView": "form",
        "id": "_FvyMOQvZa1w"
      },
      "execution_count": 40,
      "outputs": []
    },
    {
      "cell_type": "markdown",
      "source": [
        "# Vetores e imagens RGB\n",
        "\n",
        "Uma aplicação importante de vetores, matrizes e álgebra linear em geral está no processamento de imagens. A imagens em um computador podem ser formadas por *pixels* e cada pixel assume uma cor RGB. Os valores de cores RGB (red, green e blue) são um vetor onde cada posição (vermelho, verde e azul) define a intensidade da cor como um número inteiro entre 0 e 255 (ou ainda 0 a 1 quando dependendo do programa empregado). Por exemplo, rgb(0, 0, 255) é *renderizado*, isto é apresentado, unicamente como azul, porque o parâmetro blue é definido como seu valor mais alto (255) e os outros são definidos como 0.\n",
        "\n"
      ],
      "metadata": {
        "id": "x9iBrsuJZ8Un"
      }
    },
    {
      "cell_type": "code",
      "source": [
        "def f(R=0,G=0,B=255):\n",
        "  RGB = np.zeros(shape=(1,1,3),dtype='int')\n",
        "  RGB[0,0,0] = R \n",
        "  RGB[0,0,1] = G \n",
        "  RGB[0,0,2] = B \n",
        "\n",
        "  plt.imshow(RGB)\n",
        "  plt.text(-0.05,0,'RGB',color='w',fontsize=14)\n",
        "\n",
        "  plt.xticks([])\n",
        "  plt.yticks([])\n",
        "  plt.show()\n",
        "  \n",
        "  return RGB\n",
        "  \n",
        "w = widgets.interactive(f, R=(0, 255, 1), G=(0, 255, 1), B=(0, 255, 1))\n",
        "display(w)\n",
        "\n",
        "print(w.result)"
      ],
      "metadata": {
        "colab": {
          "base_uri": "https://localhost:8080/",
          "height": 411,
          "referenced_widgets": [
            "4dda8dd6520641a59c576c1cd02024cf",
            "26f6f983c1e5422d8810cc5f71f2025d",
            "e6dd2f790e2d4abba5572205da40a1c9",
            "59c837aa657f4993bb174457b7d78a8b",
            "c288648b0c994a6ea76ee2bceb5ac4d6",
            "b55afd9b065e4255a162c2135a3a8af9",
            "97ad989891be4d1f8ab88619b7e982f1",
            "f814d7bbe1684bdf9529e554f39397c4",
            "2b0288ee59b64f3dbe0686a6eb0108eb",
            "581ba7debfeb4b94a3180430392d0064",
            "2c30ab38ddd64871ac0392e8c51cd833",
            "9fb6cac38b4f409a862f76f1632eb6d9",
            "4246a278e8654a669556c62d56943279"
          ]
        },
        "id": "lBkIiHR7NKGb",
        "outputId": "59078aec-6856-4349-9b1c-46d667ff2be1"
      },
      "execution_count": 41,
      "outputs": [
        {
          "output_type": "display_data",
          "data": {
            "text/plain": [
              "interactive(children=(IntSlider(value=0, description='R', max=255), IntSlider(value=0, description='G', max=25…"
            ],
            "application/vnd.jupyter.widget-view+json": {
              "version_major": 2,
              "version_minor": 0,
              "model_id": "4dda8dd6520641a59c576c1cd02024cf"
            }
          },
          "metadata": {}
        },
        {
          "output_type": "stream",
          "name": "stdout",
          "text": [
            "[[[  0   0 255]]]\n"
          ]
        }
      ]
    },
    {
      "cell_type": "markdown",
      "source": [
        "> **Tente você**. Que combinação de cores, isto é, que valores do vetor (R, G, B) irão produzir a cor *branca*?"
      ],
      "metadata": {
        "id": "cn4G0kUXczNR"
      }
    },
    {
      "cell_type": "code",
      "source": [
        "#@markdown Solução\n",
        "\n",
        "(255,255,255)"
      ],
      "metadata": {
        "cellView": "form",
        "id": "nuiOwcQBdA2o",
        "outputId": "b5005f96-0db4-42b9-a1a3-a7eaf20b27c1",
        "colab": {
          "base_uri": "https://localhost:8080/"
        }
      },
      "execution_count": 42,
      "outputs": [
        {
          "output_type": "execute_result",
          "data": {
            "text/plain": [
              "(255, 255, 255)"
            ]
          },
          "metadata": {},
          "execution_count": 42
        }
      ]
    },
    {
      "cell_type": "code",
      "source": [
        "def f(R=55,G=128,B=80):\n",
        "  RGB = np.zeros(shape=(1,1,3),dtype='int')\n",
        "  RGB[0,0,0] = R \n",
        "  RGB[0,0,1] = G \n",
        "  RGB[0,0,2] = B \n",
        "\n",
        "  plt.figure(figsize=(10,2.5))\n",
        "  i=1\n",
        "  for mask, color in zip([[1,1,1],[1,0,0],[0,1,0],[0,0,1]],['RGB=','R','G','B']):\n",
        "    plt.subplot(1,4,i)\n",
        "    plt.imshow(RGB * mask)\n",
        "    plt.text(-0.05,0,color,color='w',fontsize=14)\n",
        "    plt.xticks([])\n",
        "    plt.yticks([])\n",
        "    i = i + 1\n",
        "\n",
        "  plt.show()\n",
        "  \n",
        "  return RGB\n",
        "  \n",
        "w = widgets.interactive(f, R=(0, 255, 1), G=(0, 255, 1), B=(0, 255, 1))\n",
        "display(w)\n",
        "\n",
        "print(w.result)"
      ],
      "metadata": {
        "colab": {
          "base_uri": "https://localhost:8080/",
          "height": 308,
          "referenced_widgets": [
            "27d3a665d1914060a5eab6e10bcc5119",
            "915c835a8c4e456ea37cc0e657bd9e35",
            "31b40e2e98914e0ba0f082bad65e484f",
            "a39d69b651c949d4ab117a5b6c00902f",
            "0fbd39b585d3494f85916102d82ef4e5",
            "6c9b63ac466e42b0be6ffedd8caae252",
            "559512366a1442758cfb50d8147f3abd",
            "e1fead6195774643a0d0e465c29c2408",
            "470713c2719341cf814796ff43a6d05d",
            "64ecfb805183475ba2527a19c10f0190",
            "2ce0ca7fb00a4a44ac4279c6f64ead14",
            "af84b24fd9084c15b4d0210f89487f62",
            "7b415501dd34463484647b6650b2a8ce"
          ]
        },
        "id": "iuBlNfcTSEiO",
        "outputId": "64419f13-3f64-4590-981f-1982a4cfd291"
      },
      "execution_count": 43,
      "outputs": [
        {
          "output_type": "display_data",
          "data": {
            "text/plain": [
              "interactive(children=(IntSlider(value=55, description='R', max=255), IntSlider(value=128, description='G', max…"
            ],
            "application/vnd.jupyter.widget-view+json": {
              "version_major": 2,
              "version_minor": 0,
              "model_id": "27d3a665d1914060a5eab6e10bcc5119"
            }
          },
          "metadata": {}
        },
        {
          "output_type": "stream",
          "name": "stdout",
          "text": [
            "[[[ 55 128  80]]]\n"
          ]
        }
      ]
    },
    {
      "cell_type": "markdown",
      "source": [
        "Nas próximas aulas você verá como podemos empregar operações sobre vários vetores de pixels a fim de obtermos transformações nas cores como saturação, efeito preto-branco ou mesmo produzir o contorno de uma imagem. "
      ],
      "metadata": {
        "id": "UsMbGfXkfeNQ"
      }
    },
    {
      "cell_type": "markdown",
      "metadata": {
        "id": "oO3RnKjR44_T"
      },
      "source": [
        "# Sumário da Aula\n",
        "\n",
        "Nesta aula você aprendeu que existem grandezas escalares, que podem ser caracterizadas por um único valor, e grandezas que requerem mais dimensões para serem bem definidas. Para essas grandezas empregamos vetores. Os vetores geométricos são seguimentos de retas orientados. Possuem comprimento (tamanho) e uma direção e um sentido. Embora  não possamos observar essa direção e sentido em dimensões maiores, a mesma ideia se mantem. \n",
        "\n",
        "Vetores têm uma série aplicações importantes que vão da física à engenharia. Mas eles são também essenciais para a ciência de dados seja para representação de entidades com múltiplas dimensões (como você aqui a representação de funcionários, países ou músicas do Spotify) e constituem a base de muitos dos algoritmos de aprendizado de máquina. \n",
        "\n",
        "Você também aprendeu como cria vetores simples com o Numpy, e como obter a norma, ou comprimento de um vetor arbitrário.\n",
        "\n",
        "\n",
        "\n",
        "\n"
      ]
    },
    {
      "cell_type": "markdown",
      "metadata": {
        "id": "k4noMRT_YUd7"
      },
      "source": [
        "# Para Saber Mais\n",
        "\n",
        "\n",
        "* Acesse Anton, H., & Busby, R. C. (2003). **Contemporary linear algebra**. Wiley. Online: https://www3.mackenzie.br/biblioteca_virtual e leia no Capítulo I aspectos da História da Álgebra Linear.\n",
        "\n",
        "* Acesse Caceres, P. (2020). **Introduction to Linear Algebra for Applied Machine Learning with Python**. Academic Press. Online: https://pabloinsente.github.io/intro-linear-algebra para acesso a vários recursos sobre Álgebra Linear, como vídeos, slides além de ser referência complementar. \n",
        "\n",
        "\n",
        "\n"
      ]
    },
    {
      "cell_type": "markdown",
      "metadata": {
        "id": "zlJfWteFyhFy"
      },
      "source": [
        "# Referências\n",
        "\n",
        "* Anton, H., & Busby, R. C. (2003). **Contemporary linear algebra**. Wiley. Online: https://www3.mackenzie.br/biblioteca_virtual\n",
        "\n",
        "* Kong, Q., Siauw, T., & Bayen, A. (2020). **Python Programming and Numerical Methods: A Guide for Engineers and Scientists**. Academic Press. Online: https://pythonnumericalmethods.berkeley.edu/notebooks/Index.html\n",
        "\n",
        "* Caceres, P. (2020). **Introduction to Linear Algebra for Applied Machine Learning with Python**. Academic Press. Online: https://pabloinsente.github.io/intro-linear-algebra\n"
      ]
    }
  ]
}